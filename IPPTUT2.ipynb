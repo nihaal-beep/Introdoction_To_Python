{
  "nbformat": 4,
  "nbformat_minor": 0,
  "metadata": {
    "colab": {
      "name": "IPPTUT2",
      "provenance": []
    },
    "kernelspec": {
      "name": "python3",
      "display_name": "Python 3"
    }
  },
  "cells": [
    {
      "cell_type": "markdown",
      "metadata": {
        "id": "VrrSNZfaX4kq"
      },
      "source": [
        "Task 1:   \n",
        "\n",
        "Write a python program to print list elements,  \n",
        "\n",
        "1.   separated by commas. \n",
        "2.   every element on the new line. \n",
        "\n"
      ]
    },
    {
      "cell_type": "code",
      "metadata": {
        "colab": {
          "base_uri": "https://localhost:8080/"
        },
        "id": "TaysHFcRYHpw",
        "outputId": "ffe32c57-12e0-4b58-8d89-3a94b8a62b59"
      },
      "source": [
        "#1.1\n",
        "newlist= [1,2,3,4,5]\n",
        "print (*newlist, sep = \",\")\n",
        "#1.2\n",
        "print (*newlist, sep = '\\n')"
      ],
      "execution_count": null,
      "outputs": [
        {
          "output_type": "stream",
          "text": [
            "1,2,3,4,5\n",
            "1\n",
            "2\n",
            "3\n",
            "4\n",
            "5\n"
          ],
          "name": "stdout"
        }
      ]
    },
    {
      "cell_type": "markdown",
      "metadata": {
        "id": "BDw96VaPaXDw"
      },
      "source": [
        "Task 2:   \n",
        "\n",
        "Write a python program to print a list by converting a list to a string.  "
      ]
    },
    {
      "cell_type": "code",
      "metadata": {
        "colab": {
          "base_uri": "https://localhost:8080/"
        },
        "id": "5SB0iAB2aaXt",
        "outputId": "b771dbb7-1b83-4efd-e308-ebde205f46d5"
      },
      "source": [
        "newlist=[1,2,3,4]\n",
        "str1= str(newlist)\n",
        "print (str1)"
      ],
      "execution_count": null,
      "outputs": [
        {
          "output_type": "stream",
          "text": [
            "[1, 2, 3, 4]\n"
          ],
          "name": "stdout"
        }
      ]
    },
    {
      "cell_type": "markdown",
      "metadata": {
        "id": "TIlw4zNAaweJ"
      },
      "source": [
        "Task 3:   \n",
        "\n",
        "Write a python program to convert radian to degrees and vice versa. "
      ]
    },
    {
      "cell_type": "code",
      "metadata": {
        "colab": {
          "base_uri": "https://localhost:8080/"
        },
        "id": "jwpDsPH0axgp",
        "outputId": "6f0a03db-65ed-4913-f0a6-6c5266a2bd59"
      },
      "source": [
        "import math\n",
        "r=float(input(\"ENTER VALUE IN RADIANS-\"))\n",
        "print (\"THE VALUE IN DEGREES IS-{}\".format(math.degrees(r)))\n",
        "d=float(input(\"ENTER THE VALUE IN DEGREES-\"))\n",
        "print (\"THE VALUE IN RADIANS IS-{}\".format(math.radians(d)))"
      ],
      "execution_count": null,
      "outputs": [
        {
          "output_type": "stream",
          "text": [
            "ENTER VALUE IN RADIANS-3.14\n",
            "THE VALUE IN DEGREES IS-179.9087476710785\n",
            "ENTER THE VALUE IN DEGREES-180\n",
            "THE VALUE IN RADIANS IS-3.141592653589793\n"
          ],
          "name": "stdout"
        }
      ]
    },
    {
      "cell_type": "markdown",
      "metadata": {
        "id": "SVALcX0jcGZa"
      },
      "source": [
        "Task 4:  \n",
        "\n",
        "Write a program to input 2 sides of a triangle and one angle. Find sine, cosine, tangent and hypotenuse. "
      ]
    },
    {
      "cell_type": "code",
      "metadata": {
        "colab": {
          "base_uri": "https://localhost:8080/"
        },
        "id": "P_VFXMwtcJND",
        "outputId": "5f04ba28-ff93-4ed7-8201-b0ef41b1158b"
      },
      "source": [
        "import math\n",
        "s1=float(input(\"ENTER ONE SIDE OF THE TRIANGLE-\"))\n",
        "s2=float(input(\"ENTER THE OTHER SIDE OF THE TRIANGLE-\"))\n",
        "a1=float(input(\"ENTER THE ANGLE IN RADIANS-\"))\n",
        "print (\"SINE IS -{}\".format(math.sin(a1)))\n",
        "print (\"COSINE IS -{}\".format(math.cos(a1)))\n",
        "print(\"TANGENT IS -{}\".format(math.tan(a1)))\n",
        "print(\"HYPOTENUSE IS -{}\".format(math.hypot(s1,s2)))"
      ],
      "execution_count": null,
      "outputs": [
        {
          "output_type": "stream",
          "text": [
            "ENTER ONE SIDE OF THE TRIANGLE-3\n",
            "ENTER THE OTHER SIDE OF THE TRIANGLE-4\n",
            "ENTER THE ANGLE IN RADIANS-0\n",
            "SINE IS -0.0\n",
            "COSINE IS -1.0\n",
            "TANGENT IS -0.0\n",
            "HYPOTENUSE IS -5.0\n"
          ],
          "name": "stdout"
        }
      ]
    },
    {
      "cell_type": "markdown",
      "metadata": {
        "id": "T_TnpTwdfUS6"
      },
      "source": [
        "Task 5:   \n",
        "\n",
        "Write a Python program using mathematical functions to find \n",
        "\n",
        "1.   HCF of two numbers (User input)\n",
        "2.   Factorial of a user given number.\n",
        "\n",
        "1.   The absolute value of a user-given number. \n",
        "\n"
      ]
    },
    {
      "cell_type": "code",
      "metadata": {
        "colab": {
          "base_uri": "https://localhost:8080/"
        },
        "id": "E_YvRGyTfpwY",
        "outputId": "3ddac960-9039-4272-fcdb-ba666aff0f1b"
      },
      "source": [
        "import math\n",
        "#5.1\n",
        "x1=int(input(\"ENTER THE FIRST NUMBER-\"))\n",
        "x2=int(input(\"ENTER THE SECOND NUMBER-\"))\n",
        "print (\"THE HCF OF TWO NUMBERS IS -{}\".format(math.gcd(x1,x2)))"
      ],
      "execution_count": null,
      "outputs": [
        {
          "output_type": "stream",
          "text": [
            "ENTER THE FIRST NUMBER-3\n",
            "ENTER THE SECOND NUMBER-6\n",
            "THE HCF OF TWO NUMBERS IS -3\n",
            "THE FACTORIAL OF THE FIRST NUMBER -6\n",
            "THE ABSOLUTE VALUE OF THE FIRST NUMBER - 3\n"
          ],
          "name": "stdout"
        }
      ]
    },
    {
      "cell_type": "code",
      "metadata": {
        "colab": {
          "base_uri": "https://localhost:8080/"
        },
        "id": "i50j6LUjigmd",
        "outputId": "67331e37-3991-4613-940e-a3e0d570d2a1"
      },
      "source": [
        "#5.2\n",
        "f1=int(input(\"ENTER THE NUMBER-\"))\n",
        "print (\"THE FACTORIAL OF THE NUMBER -{}\".format(math.factorial(f1)))"
      ],
      "execution_count": null,
      "outputs": [
        {
          "output_type": "stream",
          "text": [
            "ENTER THE NUMBER-6\n",
            "THE FACTORIAL OF THE NUMBER -720\n"
          ],
          "name": "stdout"
        }
      ]
    },
    {
      "cell_type": "code",
      "metadata": {
        "colab": {
          "base_uri": "https://localhost:8080/"
        },
        "id": "r_Z2dX9BilBI",
        "outputId": "60ea6b0f-67d7-4cc8-e670-34c4321d7b74"
      },
      "source": [
        "#5.3\n",
        "a1=float(input(\"ENTER THE NUMBER-\"))\n",
        "print(\"THE ABSOLUTE VALUE OF THE FIRST NUMBER - {}\".format(abs(a1)))"
      ],
      "execution_count": null,
      "outputs": [
        {
          "output_type": "stream",
          "text": [
            "ENTER THE NUMBER--6.7\n",
            "THE ABSOLUTE VALUE OF THE FIRST NUMBER - 6.7\n"
          ],
          "name": "stdout"
        }
      ]
    },
    {
      "cell_type": "markdown",
      "metadata": {
        "id": "MUZTL3VJjoEa"
      },
      "source": [
        "Task 6 :  \n",
        "\n",
        "1.Create a 'class_1' list and pass the elements  'Geoffrey Hinton','Andrew Ng','Sebastian Raschka','Yoshua Bengio'. \n",
        "\n",
        "2.Create a 'class_2' list and pass the elements 'Hilary Mason','Carla Gentry','Corinna Cortes'. \n",
        "\n",
        "3.Concatenate the 'class_1' and 'class_2' list. Store the values in a'new_class' variable. \n",
        "\n",
        "4.Print the 'new_class' variable to see the new list. \n",
        "\n",
        "5.Add a new element ‘Henry’ in the new list.  \n",
        "\n",
        "6.Remove the 'Hilary' element. \n",
        "\n",
        "7.Create the following list for marks of 5 subjects Andrew= [98, 93, 90, 100, 92], Carla= [60, 65, 60, 75, 69], Hilary= [87, 50, 54, 77, 52] \n",
        "\n",
        "8.Find and display the percentage of all the students in a list. \n",
        "\n",
        "9.Andrew Ng turns out to be topper in class. Assign it to variable ‘topper’ \n",
        "\n",
        "10.Split the 'topper'  in 'first_name' and 'last_name'. \n",
        "\n",
        "11.Display the ‘full name’ concatenating the strings 'last_name' and 'first_name' strings.( add whitespace) \n",
        "\n",
        "12.Convert all the elements in the 'full_name' string to uppercase. "
      ]
    },
    {
      "cell_type": "code",
      "metadata": {
        "colab": {
          "base_uri": "https://localhost:8080/"
        },
        "id": "MmAvD2xfMnS-",
        "outputId": "57cf34b8-36d1-4406-cb35-71d787496605"
      },
      "source": [
        "#1\n",
        "class_1=['Geoffrey Hinton','Andrew Ng','Sebastian Raschka','Yohua Bengio']\n",
        "class_2=['Hilary Mason','Carla Gentry','Corinna Cortes']\n",
        "new_class=class_1 + class_2\n",
        "print (new_class)\n",
        "new_class.append('Henry')\n",
        "new_class.remove('Hilary Mason')\n",
        "print (new_class) \n",
        "#2\n",
        "Andrew= [98, 93, 90, 100, 92]\n",
        "Carla= [60, 65, 60, 75, 69]\n",
        "Hilary= [87, 50, 54, 77, 52]\n",
        "p1= ((Andrew[0]+Andrew[1]+Andrew[2]+Andrew[3]+Andrew[4])/500)*100\n",
        "print (\"PERCENTAGE OF ANDREW IS -{}\".format(p1))\n",
        "p2=((Carla[0]+Carla[1]+Carla[2]+Carla[3]+Carla[4])/500)*100\n",
        "p3=((Hilary[0]+Hilary[1]+Hilary[2]+Hilary[3]+Hilary[4])/500)*100\n",
        "print(\"THE PERCENTAGE OF CARLA IS - {}\".format(p2))\n",
        "print(\"THE PERCENTAGE OF HILARY IS - {}\".format(p3))\n",
        "topper=new_class[1]\n",
        "str1=str(topper).split()\n",
        "first_name= (str1[0])\n",
        "last_name= (str1[1])\n",
        "full_name= first_name + \" \" + last_name\n",
        "print (full_name)\n",
        "print(full_name.upper())"
      ],
      "execution_count": null,
      "outputs": [
        {
          "output_type": "stream",
          "text": [
            "['Geoffrey Hinton', 'Andrew Ng', 'Sebastian Raschka', 'Yohua Bengio', 'Hilary Mason', 'Carla Gentry', 'Corinna Cortes']\n",
            "['Geoffrey Hinton', 'Andrew Ng', 'Sebastian Raschka', 'Yohua Bengio', 'Carla Gentry', 'Corinna Cortes', 'Henry']\n",
            "PERCENTAGE OF ANDREW IS -94.6\n",
            "THE PERCENTAGE OF CARLA IS - 65.8\n",
            "THE PERCENTAGE OF HILARY IS - 64.0\n",
            "Andrew Ng\n",
            "ANDREW NG\n"
          ],
          "name": "stdout"
        }
      ]
    },
    {
      "cell_type": "markdown",
      "metadata": {
        "id": "pLwToQrpM6Kn"
      },
      "source": [
        "Task 7 : \n",
        "\n",
        "1.Write a Python program to clone or copy a list \n",
        "\n",
        "2.Write a Python program to check if a Python list is empty"
      ]
    },
    {
      "cell_type": "code",
      "metadata": {
        "colab": {
          "base_uri": "https://localhost:8080/"
        },
        "id": "1V0fTCvlNBGv",
        "outputId": "9586f943-5797-482c-8e88-c209ce9f9de2"
      },
      "source": [
        "#7.1\n",
        "oldlist=[1,2,3,4,5,9,20]\n",
        "nlist=oldlist.copy()\n",
        "print (nlist)\n",
        "#7.2\n",
        "cont=1\n",
        "l=[]\n",
        "if(len(l)==0):\n",
        "  print(\"IT IS AN EMPTY LIST\")"
      ],
      "execution_count": null,
      "outputs": [
        {
          "output_type": "stream",
          "text": [
            "[1, 2, 3, 4, 5, 9, 20]\n",
            "IT IS AN EMPTY LIST\n"
          ],
          "name": "stdout"
        }
      ]
    },
    {
      "cell_type": "markdown",
      "metadata": {
        "id": "x0osSvzMQJdH"
      },
      "source": [
        "Task 8 :  \n",
        "\n",
        "Tuple = (\"NMIMS\", [10, 20, 30], (5, 15, 25)) \n",
        "\n",
        "1.Access value 20  \n",
        "\n",
        "2.Unpack the following tuple into 3 variables "
      ]
    },
    {
      "cell_type": "code",
      "metadata": {
        "colab": {
          "base_uri": "https://localhost:8080/"
        },
        "id": "42bpabO2OUIh",
        "outputId": "7b9292e1-f228-4713-c472-c7a220b8c8ea"
      },
      "source": [
        "tup=(\"NMIMS\",[10,20,30],(5,15,25))\n",
        "#8.1\n",
        "print(tup[1][1])\n",
        "#8.2\n",
        "(tup1,tup2,tup3)=tup\n",
        "print(tup1)\n",
        "print(tup2)\n",
        "print(tup3)"
      ],
      "execution_count": null,
      "outputs": [
        {
          "output_type": "stream",
          "text": [
            "20\n",
            "NMIMS\n",
            "[10, 20, 30]\n",
            "(5, 15, 25)\n"
          ],
          "name": "stdout"
        }
      ]
    },
    {
      "cell_type": "markdown",
      "metadata": {
        "id": "r53S7EI2RO89"
      },
      "source": [
        "Task 9: \n",
        "\n",
        "1.Write code to swap the following two tuples :   tuple1 = (11, 22)   tuple2 = (99, 88) \n",
        "\n",
        "Expected Output :  tuple1 = (99, 88)    tuple2 = (11, 22) \n",
        "\n",
        " \n",
        "\n",
        "2.tuple1 = (11, [22, 33], 44, 55) \n",
        "\n",
        "Modify the first item (22) of a list inside a following tuple to 2000 "
      ]
    },
    {
      "cell_type": "code",
      "metadata": {
        "colab": {
          "base_uri": "https://localhost:8080/"
        },
        "id": "Xv_SaNLvRUFT",
        "outputId": "08ad99af-857d-464f-96c2-47d663d2b053"
      },
      "source": [
        "#9.1\n",
        "tuple1=(11,22)\n",
        "tuple2=(99,88)\n",
        "(temp1,temp2)=tuple1\n",
        "tuple1=tuple2\n",
        "tuple2=(temp1,temp2)\n",
        "print(\"tuple1 = {}\".format(tuple1))\n",
        "print(\"tuple2 = {}\".format(tuple2))\n",
        "#9.2\n",
        "tuple1=(11,[22,33],44,55)\n",
        "(temp1,temp2,temp3,temp4)=tuple1\n",
        "temp2[0]=2000\n",
        "print(tuple1)"
      ],
      "execution_count": null,
      "outputs": [
        {
          "output_type": "stream",
          "text": [
            "tuple1 = (99, 88)\n",
            "tuple2 = (11, 22)\n",
            "(11, [2000, 33], 44, 55)\n"
          ],
          "name": "stdout"
        }
      ]
    },
    {
      "cell_type": "markdown",
      "metadata": {
        "id": "EnjTqcidS8DS"
      },
      "source": [
        "Task 10: \n",
        "\n",
        "tuple1 = (11, 22, 33, 44, 55, 11, 66, 11) \n",
        "\n",
        "1.Write code to copy element 44 and 55 from the following tuple into a new tuple ‘tuple2’ \n",
        "\n",
        "2.Count the number of occurrences of item 11 in the tuple. \n",
        "\n",
        "3.Reverse the tuple. "
      ]
    },
    {
      "cell_type": "code",
      "metadata": {
        "colab": {
          "base_uri": "https://localhost:8080/"
        },
        "id": "3lJbUY3tTD55",
        "outputId": "b5e04336-116d-4e86-ffdc-deb81b179fdd"
      },
      "source": [
        "#10.1\n",
        "tuple1=(11,22,33,44,55,11,66,11)\n",
        "(t1,t2,t3,t4,t5,t6,t7,t8)=tuple1\n",
        "tuple2=(t4,t5)\n",
        "print(tuple2)\n",
        "#10.2\n",
        "count=0\n",
        "for i in tuple1:\n",
        "  if (i==11):\n",
        "    count+=1\n",
        "print(\"number of occurences of 11 in tuple1 is = {}\".format(count))\n",
        "#10.3\n",
        "tuple1=(t8,t7,t6,t5,t4,t3,t2,t1)\n",
        "print(tuple1)"
      ],
      "execution_count": null,
      "outputs": [
        {
          "output_type": "stream",
          "text": [
            "(44, 55)\n",
            "number of occurences of 11 in tuple1 is = 3\n",
            "(11, 66, 11, 55, 44, 33, 22, 11)\n"
          ],
          "name": "stdout"
        }
      ]
    }
  ]
}