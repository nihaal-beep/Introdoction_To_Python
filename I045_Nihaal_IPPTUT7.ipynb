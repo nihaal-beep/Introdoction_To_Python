{
  "nbformat": 4,
  "nbformat_minor": 0,
  "metadata": {
    "colab": {
      "name": "I045_Nihaal_IPPTUT7",
      "provenance": []
    },
    "kernelspec": {
      "name": "python3",
      "display_name": "Python 3"
    },
    "language_info": {
      "name": "python"
    }
  },
  "cells": [
    {
      "cell_type": "markdown",
      "metadata": {
        "id": "2oFJYSExmgJs"
      },
      "source": [
        "Task 1:   \n",
        "\n",
        "Write a Python program to reverse an array without using an in-built function. "
      ]
    },
    {
      "cell_type": "code",
      "metadata": {
        "colab": {
          "base_uri": "https://localhost:8080/"
        },
        "id": "QUGapjCsmZd8",
        "outputId": "02a6a975-8d13-4f36-f144-fbddcac122b4"
      },
      "source": [
        "import numpy as np\n",
        "arr = np.array([])\n",
        "arr2 = np.array([])\n",
        "n=int(input('ENTER THE NUMBER OF ELEMENTS IN THE ARRAY: '))\n",
        "print(\"ENTER THE ELEMENTS OF THE ARRAY: \")\n",
        "for i in range(1,n+1):\n",
        "  num=int(input(\"\"))\n",
        "  arr=np.append(arr,num)\n",
        "print('ORIGINAL ARRAY IS:',arr)\n",
        "for i in range (n-1,-1,-1):\n",
        "  arr2=np.append(arr2,arr[i])\n",
        "print('REVERSED ARRAY IS',arr2)"
      ],
      "execution_count": null,
      "outputs": [
        {
          "output_type": "stream",
          "text": [
            "ENTER THE NUMBER OF ELEMENTS IN THE ARRAY: 3\n",
            "ENTER THE ELEMENTS OF THE ARRAY: \n",
            "1\n",
            "2\n",
            "3\n",
            "ORIGINAL ARRAY IS: [1. 2. 3.]\n",
            "REVERSED ARRAY IS [3. 2. 1.]\n"
          ],
          "name": "stdout"
        }
      ]
    },
    {
      "cell_type": "markdown",
      "metadata": {
        "id": "XEkSLKVmmtaK"
      },
      "source": [
        " \n",
        "\n",
        "Task 2:   \n",
        "\n",
        "Write a Python program to find the frequency of a user-given number in an array.(without using an in-built function) \n",
        "\n",
        " "
      ]
    },
    {
      "cell_type": "code",
      "metadata": {
        "colab": {
          "base_uri": "https://localhost:8080/"
        },
        "id": "UJTyaBRgm5KZ",
        "outputId": "5bdb849e-50ea-45a7-b1d3-3b96774190e4"
      },
      "source": [
        "import numpy as np\n",
        "arr = np.array([])\n",
        "n=int(input('ENTER THE NUMBER OF ELEMENTS IN THE ARRAY: '))\n",
        "print(\"ENTER THE ELEMENTS OF THE ARRAY: \")\n",
        "for i in range(1,n+1):\n",
        "  num=int(input(\"\"))\n",
        "  arr=np.append(arr,num)\n",
        "print('ORIGINAL ARRAY IS:',arr)\n",
        "k=int(input(\"ENTER THE ELEMENT WHOSE FREQUENCY NEEDS TO BE FOUND: \"))\n",
        "count=0\n",
        "for j in arr:\n",
        "  if k == j:\n",
        "    count+=1\n",
        "print(\"THE FREQUENCY IS {}\".format(count))"
      ],
      "execution_count": null,
      "outputs": [
        {
          "output_type": "stream",
          "text": [
            "ENTER THE NUMBER OF ELEMENTS IN THE ARRAY: 5\n",
            "ENTER THE ELEMENTS OF THE ARRAY: \n",
            "1\n",
            "3\n",
            "3\n",
            "1\n",
            "3\n",
            "ORIGINAL ARRAY IS: [1. 3. 3. 1. 3.]\n",
            "ENTER THE ELEMENT WHOSE FREQUENCY NEEDS TO BE FOUND: 3\n",
            "THE FREQUENCY IS 3\n"
          ],
          "name": "stdout"
        }
      ]
    },
    {
      "cell_type": "markdown",
      "metadata": {
        "id": "d563Q7bNnnqR"
      },
      "source": [
        "Task 3:  \n",
        "\n",
        "Write a Python program to place all negative numbers in the array at the end of the array and positive numbers at the beginning. (without using an in-built function) "
      ]
    },
    {
      "cell_type": "code",
      "metadata": {
        "colab": {
          "base_uri": "https://localhost:8080/"
        },
        "id": "ejsUim0Snr5-",
        "outputId": "b8ca6690-e83a-42f5-94d4-8530218ff7bd"
      },
      "source": [
        "import numpy as np\n",
        "arr = np.array([])\n",
        "arr2 = np.array([])\n",
        "arr3=np.array([])\n",
        "n=int(input('ENTER THE NUMBER OF ELEMENTS IN THE ARRAY: '))\n",
        "print(\"ENTER THE ELEMENTS OF THE ARRAY: \")\n",
        "for i in range(1,n+1):\n",
        "  num=int(input(\"\"))\n",
        "  arr=np.append(arr,num)\n",
        "print('ORIGINAL ARRAY IS:',arr)\n",
        "for j in arr:\n",
        "  if j >=0:\n",
        "    arr2=np.append(arr2,j)\n",
        "  else:\n",
        "    arr3=np.append(arr3,j)\n",
        "arr2=np.append(arr2,arr3)\n",
        "print(\"SORTED ARRAY {}\".format(arr2))"
      ],
      "execution_count": null,
      "outputs": [
        {
          "output_type": "stream",
          "text": [
            "ENTER THE NUMBER OF ELEMENTS IN THE ARRAY: 5\n",
            "ENTER THE ELEMENTS OF THE ARRAY: \n",
            "-2\n",
            "3\n",
            "-1\n",
            "5\n",
            "3\n",
            "ORIGINAL ARRAY IS: [-2.  3. -1.  5.  3.]\n",
            "SORTED ARRAY [ 3.  5.  3. -2. -1.]\n"
          ],
          "name": "stdout"
        }
      ]
    },
    {
      "cell_type": "markdown",
      "metadata": {
        "id": "WjUOqVqypLU2"
      },
      "source": [
        "Task 4:   \n",
        "\n",
        "Write a Python program to sort an array in the waveform.(use the inbuilt function to sort an array) \n",
        "\n",
        "Example :  \n",
        "\n",
        "Input: A[ ] = {2, 4, 6, 8, 10, 20} \n",
        "\n",
        "Output: A[ ]  = {4, 2, 8, 6, 20, 10} "
      ]
    },
    {
      "cell_type": "code",
      "metadata": {
        "colab": {
          "base_uri": "https://localhost:8080/"
        },
        "id": "lleVwEKMpc_i",
        "outputId": "ff5125b7-00fa-4943-e6ff-0491aa03a3f4"
      },
      "source": [
        "import numpy as np\n",
        "arr = np.array([])\n",
        "n=int(input('ENTER THE NUMBER OF ELEMENTS IN THE ARRAY: '))\n",
        "print(\"ENTER THE ELEMENTS OF THE ARRAY: \")\n",
        "for i in range(1,n+1):\n",
        "  num=int(input(\"\"))\n",
        "  arr=np.append(arr,num)\n",
        "print('ORIGINAL ARRAY IS:',arr)\n",
        "arr=np.sort(arr)\n",
        "j = 0\n",
        "while j < n:\n",
        "    t = arr[j]\n",
        "    arr[j] = arr[j + 1]\n",
        "    arr[j+1] = t\n",
        "    j+=2\n",
        "print(arr)"
      ],
      "execution_count": null,
      "outputs": [
        {
          "output_type": "stream",
          "text": [
            "ENTER THE NUMBER OF ELEMENTS IN THE ARRAY: 6\n",
            "ENTER THE ELEMENTS OF THE ARRAY: \n",
            "2\n",
            "4\n",
            "6\n",
            "8\n",
            "10\n",
            "20\n",
            "ORIGINAL ARRAY IS: [ 2.  4.  6.  8. 10. 20.]\n",
            "[ 4.  2.  8.  6. 20. 10.]\n"
          ],
          "name": "stdout"
        }
      ]
    },
    {
      "cell_type": "markdown",
      "metadata": {
        "id": "99VsM0gU1N5X"
      },
      "source": [
        "Task 5 :  \n",
        "\n",
        "Write a Python program to print a given matrix in spiral form. \n",
        "\n",
        "Example :  \n",
        "\n",
        "A = [[1 2 3] \n",
        "\n",
        "     [4 5 6] \n",
        "\n",
        "     [7 8 9]] \n",
        "\n",
        "Spiral form : 1 2 3 6 9 8 7 4 5 "
      ]
    },
    {
      "cell_type": "code",
      "metadata": {
        "id": "HkdMHvvR1WrJ",
        "colab": {
          "base_uri": "https://localhost:8080/"
        },
        "outputId": "a6bf1572-57e8-4d5c-ec0e-eb99987ea1b0"
      },
      "source": [
        "import numpy as np\n",
        "mat = [\n",
        "[1, 2, 3],\n",
        "[4, 5, 6],\n",
        "[7, 8, 9]\n",
        "]\n",
        "top = left = 0\n",
        "bottom = len(mat) - 1\n",
        "right = len(mat[0]) - 1\n",
        "print('SPIRAL FORM: ',end='')\n",
        "while True:\n",
        "  if left > right:\n",
        "    break\n",
        "  for i in range(left, right + 1):\n",
        "    print(mat[top][i], end=' ')\n",
        "  top = top + 1\n",
        "  if top > bottom:\n",
        "    break\n",
        " \n",
        "  for i in range(top, bottom + 1):\n",
        "    print(mat[i][right], end=' ')\n",
        "  right = right - 1\n",
        "  if left > right:\n",
        "    break\n",
        "  for i in range(right, left - 1, -1):\n",
        "    print(mat[bottom][i], end=' ')\n",
        "  bottom = bottom - 1\n",
        "  if top > bottom:\n",
        "    break\n",
        "  for i in range(bottom, top - 1, -1):\n",
        "    print(mat[i][left], end=' ')\n",
        "  left = left + 1\n",
        "\n",
        "\n"
      ],
      "execution_count": null,
      "outputs": [
        {
          "output_type": "stream",
          "text": [
            "SPIRAL FORM: 1 2 3 6 9 8 7 4 5 "
          ],
          "name": "stdout"
        }
      ]
    },
    {
      "cell_type": "markdown",
      "metadata": {
        "id": "O-r525QaDydQ"
      },
      "source": [
        "Task 6 :  \n",
        "\n",
        "6.1 \tWrite a Python program to print ‘k’ smallest element in an unsorted array. \n",
        "\n",
        "6.2 \tWrite a Python program to print ‘k’ largest element in an unsorted array. "
      ]
    },
    {
      "cell_type": "code",
      "metadata": {
        "colab": {
          "base_uri": "https://localhost:8080/"
        },
        "id": "RbxjTvYvEILq",
        "outputId": "a06d340e-4e46-4d99-f45b-19e6e23eef97"
      },
      "source": [
        "import numpy as np\n",
        "arr=np.array([1,5,-9,0,11,-2,-19,19,7,4])\n",
        "smallest=arr[0]\n",
        "largest=arr[0]\n",
        "for i in arr:\n",
        "  if i < smallest:\n",
        "    smallest= i\n",
        "  if i > largest:\n",
        "    largest=i\n",
        "print(\"SMALLEST:\",smallest)\n",
        "print(\"LARGEST:\",largest)"
      ],
      "execution_count": null,
      "outputs": [
        {
          "output_type": "stream",
          "text": [
            "SMALLEST: -19\n",
            "LARGEST: 19\n"
          ],
          "name": "stdout"
        }
      ]
    },
    {
      "cell_type": "markdown",
      "metadata": {
        "id": "dti2uSypE_0f"
      },
      "source": [
        "Task 7: \n",
        "\n",
        "Write a Python Program to add two 3x3 Matrices using Nested Loop. "
      ]
    },
    {
      "cell_type": "code",
      "metadata": {
        "colab": {
          "base_uri": "https://localhost:8080/"
        },
        "id": "CuMmusf4FG3v",
        "outputId": "56ce8c86-3c4d-478b-9f69-4877eb1d53c0"
      },
      "source": [
        "import numpy as np\n",
        "arr = np.array([[1,2,3],[4,5,6],[7,8,9]])\n",
        "arr2 = np.array([[1,2,3],[4,5,6],[7,8,9]])\n",
        "sum = np.array([])\n",
        "for i in range(3):\n",
        "  for j in range(3):\n",
        "    sum=np.append(sum,arr[i,j]+arr2[i,j])\n",
        "print(\"SUM:- \") \n",
        "print(sum.reshape(3,3))"
      ],
      "execution_count": null,
      "outputs": [
        {
          "output_type": "stream",
          "text": [
            "SUM:- \n",
            "[[ 2.  4.  6.]\n",
            " [ 8. 10. 12.]\n",
            " [14. 16. 18.]]\n"
          ],
          "name": "stdout"
        }
      ]
    },
    {
      "cell_type": "markdown",
      "metadata": {
        "id": "jApjW0NiGZf0"
      },
      "source": [
        "Task 8: \n",
        "\n",
        "Write a Python Program to multiply two Matrices using Nested Loop. "
      ]
    },
    {
      "cell_type": "code",
      "metadata": {
        "colab": {
          "base_uri": "https://localhost:8080/"
        },
        "id": "A18EnqBRGbqv",
        "outputId": "f4e9f87f-0ebb-4028-879e-bb490cf065a9"
      },
      "source": [
        "arr = np.array([[1,2],[3,4]])\n",
        "arr2 = np.array([[3,4],[5,6]]) \n",
        "product = np.zeros((2,2),int)\n",
        "for i in range(2):\n",
        "  for j in range(2):\n",
        "    for k in range(2):\n",
        "      product[i,j] += arr[i,k]*arr2[k,j]\n",
        "print(\"PRODUCT:- \")\n",
        "print(product)\n"
      ],
      "execution_count": null,
      "outputs": [
        {
          "output_type": "stream",
          "text": [
            "PRODUCT:- \n",
            "[[13 16]\n",
            " [29 36]]\n"
          ],
          "name": "stdout"
        }
      ]
    },
    {
      "cell_type": "markdown",
      "metadata": {
        "id": "62uU5vL3HEG3"
      },
      "source": [
        "Task 9: \n",
        "\n",
        "Write a Python Program to Calculate the sum of all columns in a 2D NumPy array. (without using an in-built function) \n",
        "\n",
        "Example :   \n",
        "\n",
        "A = [ [1 2 3] \n",
        "\n",
        " \t[1 1 1] \n",
        "\n",
        " \t[1 1 1]] \n",
        "\n",
        " \n",
        "\n",
        "Column wise Sum: 3 4 5 "
      ]
    },
    {
      "cell_type": "code",
      "metadata": {
        "colab": {
          "base_uri": "https://localhost:8080/"
        },
        "id": "cB9EjsdDHIMF",
        "outputId": "56eb2f0a-6cb3-4749-f36e-0636734ad164"
      },
      "source": [
        "arr = np.array([[1,2,3],[4,5,6],[7,8,9]])\n",
        "sum = 0\n",
        "print(\"Column wise Sum: \")\n",
        "for i in range(3):\n",
        "  for j in range(3):\n",
        "    sum += arr[j][i]\n",
        "  print(sum)\n",
        "  sum=0\n",
        "\n"
      ],
      "execution_count": null,
      "outputs": [
        {
          "output_type": "stream",
          "text": [
            "Column wise Sum: \n",
            "12\n",
            "15\n",
            "18\n"
          ],
          "name": "stdout"
        }
      ]
    },
    {
      "cell_type": "markdown",
      "metadata": {
        "id": "Jfy8GmhRHHIA"
      },
      "source": [
        " \n",
        "\n",
        "Task 10: \n",
        "\n",
        "Write a Python Program to find Range and Coefficient of range of Array. \n",
        "\n",
        "Range = Max – Min \n",
        "\n",
        "Coefficient of Range = (Max – Min) / (Max + Min) \n",
        "\n",
        "Example :  \n",
        "\n",
        "A = [10, 20, 30, 5, 8] \n",
        "\n",
        "Range : 25 \n",
        "\n",
        "Coefficient of Range : 0.7142857142857143  \n"
      ]
    },
    {
      "cell_type": "code",
      "metadata": {
        "colab": {
          "base_uri": "https://localhost:8080/"
        },
        "id": "G5cF39csIMPY",
        "outputId": "16a5d4db-6c3a-4c32-de77-ed98fd3db3da"
      },
      "source": [
        "arr = np.array([10,20,30,5,8])\n",
        "range = np.max(arr)-np.min(arr)  \n",
        "print(\"Range:\",range)\n",
        "denom = np.max(arr)+np.min(arr)\n",
        "cor = range/denom\n",
        "print(\"Coefficient of Range:\",cor)\n"
      ],
      "execution_count": null,
      "outputs": [
        {
          "output_type": "stream",
          "text": [
            "Range: 25\n",
            "Coefficient of Range: 0.7142857142857143\n"
          ],
          "name": "stdout"
        }
      ]
    }
  ]
}