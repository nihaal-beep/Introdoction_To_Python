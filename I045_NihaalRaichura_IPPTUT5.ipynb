{
  "nbformat": 4,
  "nbformat_minor": 0,
  "metadata": {
    "colab": {
      "name": "I045_NihaalRaichura_IPPTUT5",
      "provenance": []
    },
    "kernelspec": {
      "name": "python3",
      "display_name": "Python 3"
    },
    "language_info": {
      "name": "python"
    }
  },
  "cells": [
    {
      "cell_type": "markdown",
      "metadata": {
        "id": "xeTb3WxO7i5P"
      },
      "source": [
        "Task 1:   \n",
        "\n",
        "Write a function that returns the sum of multiples of 3 and 5 between 0 and limit (parameter). Test case : limit = 20, it should return (sum of 3, 5, 6, 9, 10, 12, 15, 18, 20) "
      ]
    },
    {
      "cell_type": "code",
      "metadata": {
        "colab": {
          "base_uri": "https://localhost:8080/"
        },
        "id": "DSNkf0Bz7X7U",
        "outputId": "aaf74725-6ecc-44ae-97e8-ad259b15d568"
      },
      "source": [
        "def mult(limit):\n",
        "  sum=0\n",
        "  for i in range(0,limit+1):\n",
        "    if (i%3==0 or i%5==0):\n",
        "      sum+=i\n",
        "  return sum\n",
        "num=int(input(\"ENTER THE LIMIT: \"))\n",
        "mult(num)"
      ],
      "execution_count": null,
      "outputs": [
        {
          "output_type": "stream",
          "text": [
            "ENTER THE LIMIT: 20\n"
          ],
          "name": "stdout"
        },
        {
          "output_type": "execute_result",
          "data": {
            "text/plain": [
              "98"
            ]
          },
          "metadata": {
            "tags": []
          },
          "execution_count": 8
        }
      ]
    },
    {
      "cell_type": "markdown",
      "metadata": {
        "id": "amUCfuwGCJV8"
      },
      "source": [
        "Task 2:   \n",
        "\n",
        "Write a Python function to check whether a string is a pangram or not. "
      ]
    },
    {
      "cell_type": "code",
      "metadata": {
        "colab": {
          "base_uri": "https://localhost:8080/"
        },
        "id": "Kpu36ViaD6mO",
        "outputId": "00c59c9d-be52-42be-cfe0-8cc093e89c32"
      },
      "source": [
        "import string\n",
        "def pang(string1):\n",
        "  nlist=[]\n",
        "  test=0\n",
        "  for i in string1:\n",
        "    if i not in nlist and i.isalpha():\n",
        "      test+=1\n",
        "      nlist.append(i)\n",
        "  if test==26:\n",
        "    print ('IT IS A PANGRAM')\n",
        "  else:\n",
        "    print ('IT IS NOT A PANGRAM')\n",
        "stringt=input(\"ENTER THE STRING TO BE CHECKED: \")\n",
        "pang(stringt)"
      ],
      "execution_count": null,
      "outputs": [
        {
          "output_type": "stream",
          "text": [
            "ENTER THE STRING TO BE CHECKED: qwertyuioplkjhgfdsaaaazxcvbnmmmnn\n",
            "IT IS A PANGRAM\n"
          ],
          "name": "stdout"
        }
      ]
    },
    {
      "cell_type": "markdown",
      "metadata": {
        "id": "J5HV6lHVJXIH"
      },
      "source": [
        "Task 3:  \n",
        "\n",
        "Write a function called show numbers that takes a parameter called limit. It should print all the numbers between 0 and limit with a label to identify the even and odd numbers.  \n",
        "\n",
        "For example, if the limit is 4, it should print: \n",
        "\n",
        "0 EVEN \n",
        "\n",
        "1 ODD \n",
        "\n",
        "2 EVEN \n",
        "\n",
        "3 ODD \n",
        "\n",
        "4 EVEN "
      ]
    },
    {
      "cell_type": "code",
      "metadata": {
        "colab": {
          "base_uri": "https://localhost:8080/"
        },
        "id": "OAf7eooJJbkR",
        "outputId": "a7464168-46fe-40a3-dc6e-4aff9181d235"
      },
      "source": [
        "def odd_even(limit):\n",
        "  label=\"\"\n",
        "  for i in range(0,limit+1):\n",
        "    if (i%2==0):\n",
        "      label='even'\n",
        "    else:\n",
        "      label='odd'\n",
        "    print (i,label)\n",
        "num=int(input(\"ENTER THE LIMIT: \"))\n",
        "odd_even(num)    "
      ],
      "execution_count": null,
      "outputs": [
        {
          "output_type": "stream",
          "text": [
            "ENTER THE LIMIT: 5\n",
            "0 even\n",
            "1 odd\n",
            "2 even\n",
            "3 odd\n",
            "4 even\n",
            "5 odd\n"
          ],
          "name": "stdout"
        }
      ]
    },
    {
      "cell_type": "markdown",
      "metadata": {
        "id": "GU4zaepKL2er"
      },
      "source": [
        "Task 4:   \n",
        "\n",
        "Write a function for checking the speed of drivers. This function should have one parameter: speed. If the speed is less than 70, it should print “Good! Maintain the Speed!”.Otherwise, for every 5 units above the speed limit (70), it should give the driver one penalty point and print the total number of penalty points. For example, if the speed is 80, it should print: “Points: 2”.If the driver gets more than 12 points, the function should print: “License suspended” "
      ]
    },
    {
      "cell_type": "code",
      "metadata": {
        "colab": {
          "base_uri": "https://localhost:8080/"
        },
        "id": "3xEvy6y_L3DQ",
        "outputId": "5aeb8c4f-7ead-4473-9282-3f75c3dce6b2"
      },
      "source": [
        "def check_speed(speed):\n",
        "  if speed<=70:\n",
        "    print(\"Good! Maintain the Speed!\")\n",
        "  elif(70<speed):\n",
        "    points= int((speed-70)/5)\n",
        "    if(points>12):\n",
        "      print(\"License suspended\")\n",
        "    else:\n",
        "      print(\"Points:\",points)\n",
        "num=int(input(\"ENTER THE AMOUNT OF SPEED: \"))\n",
        "check_speed(num)\n"
      ],
      "execution_count": null,
      "outputs": [
        {
          "output_type": "stream",
          "text": [
            "ENTER THE AMOUNT OF SPEED: 135\n",
            "License suspended\n"
          ],
          "name": "stdout"
        }
      ]
    },
    {
      "cell_type": "markdown",
      "metadata": {
        "id": "OokXKF-_UnDo"
      },
      "source": [
        "Task 5 :  \n",
        "\n",
        "Define a function that can generate a list where the values are square of numbers between 1 and 20 (both included). Then the function needs to print the last 5 elements in the list. "
      ]
    },
    {
      "cell_type": "code",
      "metadata": {
        "colab": {
          "base_uri": "https://localhost:8080/"
        },
        "id": "z-2v9b_AUpKs",
        "outputId": "3687e9c1-d12d-493b-f899-30e94d972633"
      },
      "source": [
        "def my_list():\n",
        "  nlist=[]\n",
        "  for i in range(1,21):\n",
        "    nlist.append(i**2)\n",
        "  nlist.reverse()\n",
        "  for j in range(0,5):\n",
        "    print(nlist[j])\n",
        "my_list()"
      ],
      "execution_count": null,
      "outputs": [
        {
          "output_type": "stream",
          "text": [
            "400\n",
            "361\n",
            "324\n",
            "289\n",
            "256\n"
          ],
          "name": "stdout"
        }
      ]
    },
    {
      "cell_type": "markdown",
      "metadata": {
        "id": "00UgRNPPXFKb"
      },
      "source": [
        "Task 6 :  \n",
        "\n",
        "Write a function to check whether two strings are anagrams of each other. \n",
        "\n",
        "Test Cases :  \n",
        "\n",
        "Stressed - Desserts → True \n",
        "\n",
        "Inch - Chin → True \n",
        "\n",
        "Inches - Chin → False "
      ]
    },
    {
      "cell_type": "code",
      "metadata": {
        "colab": {
          "base_uri": "https://localhost:8080/"
        },
        "id": "SnAVuU_5XhzS",
        "outputId": "3c592e50-cf20-4f27-d768-b03c8e04e424"
      },
      "source": [
        "def anagram(string1,string2):\n",
        "  list1=[]\n",
        "  list2=[]\n",
        "  test=0\n",
        "  for i in string1:\n",
        "    if i not in string2:\n",
        "      test=1\n",
        "  if len(string1)==len(string2) and test==0:\n",
        "    print('True')\n",
        "  else:\n",
        "    print('False')\n",
        "s1=input(\"ENTER THE FIRST STRING: \")\n",
        "s2=input(\"ENTER THE SECOND STRING: \")\n",
        "anagram(s1,s2)  "
      ],
      "execution_count": null,
      "outputs": [
        {
          "output_type": "stream",
          "text": [
            "ENTER THE FIRST STRING: stressed\n",
            "ENTER THE SECOND STRING: desserts\n",
            "True\n"
          ],
          "name": "stdout"
        }
      ]
    },
    {
      "cell_type": "markdown",
      "metadata": {
        "id": "jxAbiVgm_A9O"
      },
      "source": [
        "Task 7: \n",
        "\n",
        "Write a function to detect an anagram from the string. (Anagram Scramble) \n",
        "\n",
        "Test case : \n",
        "\n",
        "INPUT \n",
        "\n",
        "laboratory \n",
        "\n",
        "Bat \n",
        "\n",
        "ticket \n",
        "\n",
        "chat \n",
        "\n",
        "\n",
        "OUTPUT \n",
        "\n",
        "\n",
        "\n",
        "True \n",
        "\n",
        "\n",
        "False \n",
        "\n"
      ]
    },
    {
      "cell_type": "code",
      "metadata": {
        "colab": {
          "base_uri": "https://localhost:8080/"
        },
        "id": "rDUZaMLe_T9P",
        "outputId": "5c2f03a2-4525-49fb-a269-39c08c2d060b"
      },
      "source": [
        "def anag(s1,s2):\n",
        "  test=0\n",
        "  for i in s2:\n",
        "    if i not in s1:\n",
        "      test=1\n",
        "  if test==1:\n",
        "    print(\"False\")\n",
        "  else:\n",
        "    print('TRUE') \n",
        "string1=input(\"ENTER THE FIRST STRING: \")\n",
        "string2=input(\"ENTER THE SECOND STRING: \")\n",
        "anag(string1,string2)"
      ],
      "execution_count": null,
      "outputs": [
        {
          "output_type": "stream",
          "text": [
            "ENTER THE FIRST STRING: labaratory\n",
            "ENTER THE SECOND STRING: bat\n",
            "TRUE\n"
          ],
          "name": "stdout"
        }
      ]
    },
    {
      "cell_type": "markdown",
      "metadata": {
        "id": "5M-rxkOyBKj8"
      },
      "source": [
        "Task 8: \n",
        "\n",
        "Write a function to construct the following pattern \n",
        "\n",
        "1  \n",
        "\n",
        "2 4  \n",
        "\n",
        "3 6 9  \n",
        "\n",
        "4 8 12 16  \n",
        "\n",
        "5 10 15 20 25  \n",
        "\n",
        "6 12 18 24 30 36  \n",
        "\n",
        "7 14 21 28 35 42 49  \n",
        "\n",
        "8 16 24 32 40 48 56 64  \n",
        "\n",
        "9 18 27 36 45 54 63 72 81  \n",
        "\n",
        "10 20 30 40 50 60 70 80 90 100  "
      ]
    },
    {
      "cell_type": "code",
      "metadata": {
        "colab": {
          "base_uri": "https://localhost:8080/"
        },
        "id": "iBzkPLBzBNrj",
        "outputId": "835eaa79-a0f4-44db-8f4e-d0d1019ebd0d"
      },
      "source": [
        "def triangle():\n",
        "  for i in range(1,11):\n",
        "    for j in range(1,i+1):\n",
        "      print(i*j,end=\" \")\n",
        "    print()\n",
        "triangle()    "
      ],
      "execution_count": null,
      "outputs": [
        {
          "output_type": "stream",
          "text": [
            "1 \n",
            "2 4 \n",
            "3 6 9 \n",
            "4 8 12 16 \n",
            "5 10 15 20 25 \n",
            "6 12 18 24 30 36 \n",
            "7 14 21 28 35 42 49 \n",
            "8 16 24 32 40 48 56 64 \n",
            "9 18 27 36 45 54 63 72 81 \n",
            "10 20 30 40 50 60 70 80 90 100 \n"
          ],
          "name": "stdout"
        }
      ]
    },
    {
      "cell_type": "markdown",
      "metadata": {
        "id": "NU_oQk9kBzpl"
      },
      "source": [
        "Task 9: \n",
        "\n",
        "Write a Python function that checks if the given number is part of the fibonacci sequence. \n",
        "\n",
        "Test Case:  \n",
        "\n",
        "377 - True \n",
        "\n",
        "145 - False "
      ]
    },
    {
      "cell_type": "code",
      "metadata": {
        "colab": {
          "base_uri": "https://localhost:8080/"
        },
        "id": "iDuITM1QC3qF",
        "outputId": "fcb71e7f-a984-429b-b589-f437bcf04bf2"
      },
      "source": [
        "def fibbonacci(n):\n",
        "  num1=0\n",
        "  num2=1\n",
        "  for i in range(0,n):\n",
        "    sum=num1+num2\n",
        "    num1=num2\n",
        "    num2=sum\n",
        "    if n == sum or n==0:\n",
        "      return True\n",
        "  return False\n",
        "num=int(input(\"ENTER THE NUMBER TO BE CHECKED: \"))\n",
        "print(num,'-',fibbonacci(num))\n",
        " "
      ],
      "execution_count": null,
      "outputs": [
        {
          "output_type": "stream",
          "text": [
            "ENTER THE NUMBER TO BE CHECKED: 145\n",
            "145 - False\n"
          ],
          "name": "stdout"
        }
      ]
    },
    {
      "cell_type": "markdown",
      "metadata": {
        "id": "aoD3xX2eFt76"
      },
      "source": [
        "Task 10: \n",
        "\n",
        "Write a Function to rotate string left and right by x length  \n",
        "\n",
        "Input : string =  “Bengaluru”, x =3 \n",
        "\n",
        "Output: \n",
        "\n",
        "Left Rotation :  galuruBen \n",
        "\n",
        "Right Rotation :  uruBengal "
      ]
    },
    {
      "cell_type": "code",
      "metadata": {
        "id": "GWxNPEh-F0k0",
        "colab": {
          "base_uri": "https://localhost:8080/"
        },
        "outputId": "aadcbadf-a701-4556-e8cc-9839452bf459"
      },
      "source": [
        "def rotate(num,string1):\n",
        " left=string1[num:]+string1[:num]\n",
        " right=string1[-num:]+string1[:-num]\n",
        " print(\"LEFT ROTATION :\",left)\n",
        " print(\"RIGHT ROTATION :\",right)\n",
        "s1=input(\"ENTER THE STRING: \")\n",
        "x=int(input(\"ENTER THE INDEX: \"))\n",
        "rotate(x,s1)\n"
      ],
      "execution_count": null,
      "outputs": [
        {
          "output_type": "stream",
          "text": [
            "ENTER THE STRING: Bengaluru\n",
            "ENTER THE INDEX: 3\n",
            "LEFT ROTATION : galuruBen\n",
            "RIGHT ROTATION : uruBengal\n"
          ],
          "name": "stdout"
        }
      ]
    }
  ]
}