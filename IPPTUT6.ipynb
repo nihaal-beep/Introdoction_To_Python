{
  "nbformat": 4,
  "nbformat_minor": 0,
  "metadata": {
    "colab": {
      "name": "IPPTUT6",
      "provenance": []
    },
    "kernelspec": {
      "name": "python3",
      "display_name": "Python 3"
    },
    "language_info": {
      "name": "python"
    }
  },
  "cells": [
    {
      "cell_type": "markdown",
      "metadata": {
        "id": "GotpeAIajIvD"
      },
      "source": [
        "Task 1:   \n",
        "\n",
        "WAP to convert Decimal to binary number using recursion. \n",
        "\n",
        "Test Case :  \n",
        "\n",
        "Input : 10\t\tOutput: 1010 \n",
        "\n",
        "Input : 32\t\tOutput: 100000 "
      ]
    },
    {
      "cell_type": "code",
      "metadata": {
        "colab": {
          "base_uri": "https://localhost:8080/"
        },
        "id": "czkNmNRXinLN",
        "outputId": "cdaf381c-7e4f-4ccf-b359-5e0617b7b8b9"
      },
      "source": [
        "def DtoB(num):     \n",
        "  if num != 0:\n",
        "      DtoB(num // 2)\n",
        "      print(num % 2, end = '')\n",
        "n=int(input(\"ENTER THE NUMBER TO BE CONVERTED: \"))\n",
        "DtoB(n)"
      ],
      "execution_count": null,
      "outputs": [
        {
          "output_type": "stream",
          "text": [
            "ENTER THE NUMBER TO BE CONVERTED: 9\n",
            "1001"
          ],
          "name": "stdout"
        }
      ]
    },
    {
      "cell_type": "markdown",
      "metadata": {
        "id": "sTZHr_iVx85X"
      },
      "source": [
        "Task 2:   \n",
        "\n",
        "WAP to find Product of two numbers using Recursion. \n",
        "\n",
        "Test Case :  \n",
        "\n",
        "Input : 10, 90\t\tOutput: 900 "
      ]
    },
    {
      "cell_type": "code",
      "metadata": {
        "colab": {
          "base_uri": "https://localhost:8080/"
        },
        "id": "JOP5Y1XLyBHV",
        "outputId": "4c376e33-e3a7-48ec-dea0-77195818ad8d"
      },
      "source": [
        "def product(num1,num2):\n",
        "  if num2>num1:\n",
        "    return product(num2,num1)\n",
        "  if num2==0:\n",
        "    return 0\n",
        "  return num1+product(num1,num2-1)\n",
        "n1=int(input(\"ENTER THE FIRST NUMBER: \"))\n",
        "n2=int(input(\"ENTER THE SECOND NUMBER: \"))\n",
        "print (product(n1,n2))"
      ],
      "execution_count": null,
      "outputs": [
        {
          "output_type": "stream",
          "text": [
            "ENTER THE FIRST NUMBER: 11\n",
            "ENTER THE SECOND NUMBER: 12\n",
            "132\n"
          ],
          "name": "stdout"
        }
      ]
    },
    {
      "cell_type": "markdown",
      "metadata": {
        "id": "ZwvFtSyM5MKf"
      },
      "source": [
        "Task 3:  \n",
        "\n",
        "Predict the output of the following program. What does the following function() do?\n",
        "\n",
        "def function(i) : \n",
        "\n",
        "    if (i % 2 == 1) : \n",
        "\n",
        "        i += 1 \n",
        "\n",
        "        return (i - 1) \n",
        "\n",
        "    else : \n",
        "\n",
        "        return function(function(i - 1)) "
      ]
    },
    {
      "cell_type": "markdown",
      "metadata": {
        "id": "4c2LAv5O5PAe"
      },
      "source": [
        "when this function is called by giving an input of an odd number it will return the odd number itself as if it is an odd number it adds one to it but then returns the value of one minus that number so at the end, the odd number itself is returned. If the input is an even number, this fuction will return the input number - 1 as it will return function(function(i-1)) now function(i-1) will return input number - 1 itself which will be an odd number thus that number itself is returned."
      ]
    },
    {
      "cell_type": "markdown",
      "metadata": {
        "id": "zF1arU2F76dM"
      },
      "source": [
        "Task 4:   \n",
        "\n",
        "WAP to find the LCM and GCD of two numbers using recursion. \n",
        "\n",
        "Input : 10,8\t\tOutput: GCD = 2  , LCM = 40 \n",
        "\n",
        "Input : 19,25\t\tOutput: GCD = 1  , LCM = 475 "
      ]
    },
    {
      "cell_type": "code",
      "metadata": {
        "id": "_FgChD_V79JL",
        "colab": {
          "base_uri": "https://localhost:8080/"
        },
        "outputId": "07a87ce7-3608-4e37-8104-bb62d35c2c9e"
      },
      "source": [
        "def gcd(num1,num2):\n",
        "  if num2==0:\n",
        "    return num1\n",
        "  return gcd(num2,num1%num2)\n",
        "def lcm(x,y,z):\n",
        "  z+=y\n",
        "  if z%x==0 and z%y==0:\n",
        "      return z\n",
        "  return lcm(x,y,z)\n",
        "\n",
        "a=int(input(\"Enter first number: \"))\n",
        "b=int(input(\"Enter second number: \"))\n",
        "c=0\n",
        "if(a>b):\n",
        "  sol=lcm(b,a,c)\n",
        "  sol2=gcd(a,b)\n",
        "else:\n",
        "  sol=lcm(a,b,c)\n",
        "  sol2=gcd(b,a)\n",
        "print(\"GCD IS:\",sol2)  \n",
        "print(\"LCM IS:\",sol)"
      ],
      "execution_count": null,
      "outputs": [
        {
          "output_type": "stream",
          "text": [
            "Enter first number: 8\n",
            "Enter second number: 30\n",
            "GCD IS: 2\n",
            "LCM IS: 120\n"
          ],
          "name": "stdout"
        }
      ]
    },
    {
      "cell_type": "markdown",
      "metadata": {
        "id": "GSfasj27sN9d"
      },
      "source": [
        "Task 5 :  \n",
        "\n",
        "Write a recursive function to calculate the harmonic sum of n numbers. \n",
        "\n",
        "Input : n = 10 \n",
        "\n",
        "Output : 2.928 "
      ]
    },
    {
      "cell_type": "code",
      "metadata": {
        "colab": {
          "base_uri": "https://localhost:8080/"
        },
        "id": "PUZTRBAfs1et",
        "outputId": "e1d391be-cca3-4b6a-8fe0-64079330912c"
      },
      "source": [
        "def hs(x,i,sol):\n",
        "  i+=1\n",
        "  if x<i:\n",
        "    return sol\n",
        "  sol+=1/i\n",
        "  return hs(x,i,sol)\n",
        "n=int(input(\"ENTER THE LIMIT: \"))\n",
        "print(\"THE OUTPUT IS:\",hs(n,1,1))"
      ],
      "execution_count": null,
      "outputs": [
        {
          "output_type": "stream",
          "text": [
            "ENTER THE LIMIT: 10\n",
            "THE OUTPUT IS: 2.9289682539682538\n"
          ],
          "name": "stdout"
        }
      ]
    },
    {
      "cell_type": "markdown",
      "metadata": {
        "id": "Kop1c_UpumT9"
      },
      "source": [
        "Task 6 :  \n",
        "\n",
        "Write a Python program to calculate the sum of the positive and negative numbers of a given list (assign 15 numbers in the list) of numbers using the lambda function. \n",
        "\n",
        "Input : l1 = [1, 3, 6, 8, -5, -88, -2, 77, -2, -89, -12, 90, 78, 100, -100] \n",
        "\n",
        "Output : \n",
        "\n",
        "Addition of the positive numbers:  -298 \n",
        "\n",
        "Addition of the negative numbers:  363 "
      ]
    },
    {
      "cell_type": "code",
      "metadata": {
        "colab": {
          "base_uri": "https://localhost:8080/"
        },
        "id": "6eUF0h4juqWh",
        "outputId": "6055123d-1398-4e83-9985-5c913e58c54f"
      },
      "source": [
        "list1=[]\n",
        "print(\"ENTER THE ELEMENTS OF THE LIST\")\n",
        "for i in range(0,15):\n",
        "  k=int(input())\n",
        "  list1.append(k)\n",
        "sump=list(filter(lambda list1:list1>0,list1))\n",
        "sumn=list(filter(lambda list1:list1<0,list1))\n",
        "print('SUM OF POSITIVE NUMBERS:',sum(sump))\n",
        "print('SUM OF NEGATIVE NUMBERS:',sum(sumn))  "
      ],
      "execution_count": null,
      "outputs": [
        {
          "output_type": "stream",
          "text": [
            "ENTER THE ELEMENTS OF THE LIST\n",
            "1\n",
            "3\n",
            "6\n",
            "8\n",
            "-5\n",
            "-88\n",
            "-2\n",
            "77\n",
            "-2\n",
            "-89\n",
            "-12\n",
            "90\n",
            "78\n",
            "100\n",
            "-100\n",
            "SUM OF POSITIVE NUMBERS: 363\n",
            "SUM OF NEGATIVE NUMBERS: -298\n"
          ],
          "name": "stdout"
        }
      ]
    },
    {
      "cell_type": "markdown",
      "metadata": {
        "id": "x4Ng78r8zOj4"
      },
      "source": [
        "Task 7: \n",
        "\n",
        "Write a Python program to Remove all elements from a given list present in another list using lambda function. \n",
        "\n",
        "Input : \n",
        "\n",
        "l1 = [1, 2, 3, 4, 5, 6, 7, 8, 9, 10, 21, 50, 60] \n",
        "\n",
        "remove = [3, 10, 60] \n",
        "\n",
        "Output : [1, 2, 4, 5, 6, 7, 8, 9, 21, 50] "
      ]
    },
    {
      "cell_type": "code",
      "metadata": {
        "colab": {
          "base_uri": "https://localhost:8080/"
        },
        "id": "Af_9STkszTii",
        "outputId": "50dda309-f9e0-4ac1-fdce-f5eaf632399b"
      },
      "source": [
        "n=int(input(\"ENTER THE NUMBER OF ELEMENTS OF THE ORIGINAL LIST: \"))\n",
        "print(\"ENTER THE ELEMENTS OF THE ORIGINAL LIST:\")\n",
        "l1=[]\n",
        "for i in range(0,n):\n",
        "  k=int(input())\n",
        "  l1.append(k)\n",
        "n2=int(input(\"ENTER THE NUMBER OF ELEMENTS OF THE SECOND LIST: \"))\n",
        "print(\"ENTER THE ELEMENTS OF THE SECOND LIST:\")\n",
        "l2=[]\n",
        "for j in range(0,n2):\n",
        "  m=int(input())\n",
        "  l2.append(m)\n",
        "removelist=list(filter(lambda l2: l2 in l1,l2))\n",
        "final_list=list(filter(lambda removelist: l1.remove(removelist),removelist))\n",
        "print(l1)"
      ],
      "execution_count": null,
      "outputs": [
        {
          "output_type": "stream",
          "text": [
            "ENTER THE NUMBER OF ELEMENTS OF THE ORIGINAL LIST: 5\n",
            "ENTER THE ELEMENTS OF THE ORIGINAL LIST:\n",
            "6\n",
            "4\n",
            "9\n",
            "2\n",
            "5\n",
            "ENTER THE NUMBER OF ELEMENTS OF THE SECOND LIST: 3\n",
            "ENTER THE ELEMENTS OF THE SECOND LIST:\n",
            "8\n",
            "2\n",
            "9\n",
            "[6, 4, 5]\n"
          ],
          "name": "stdout"
        }
      ]
    },
    {
      "cell_type": "markdown",
      "metadata": {
        "id": "Dmevu09o5j0P"
      },
      "source": [
        "Task 8: \n",
        "\n",
        "Write a Python program to count the even, odd numbers in a list using Lambda. \n",
        "\n",
        "Input : l1 = [1, 2, 3, 4, 5, 6, 7, 8, 9, 10, 11] \n",
        "\n",
        "Output : \n",
        "\n",
        "Even numbers:  5 \n",
        "\n",
        "Odd numbers :  6 "
      ]
    },
    {
      "cell_type": "code",
      "metadata": {
        "colab": {
          "base_uri": "https://localhost:8080/"
        },
        "id": "NoQOR8ie5pq1",
        "outputId": "19907bf3-17b9-44f7-ea03-0c55156c0f8c"
      },
      "source": [
        "l1=[]\n",
        "n=int(input(\"ENTER THE NUMBER OF ELEMENTS IN THE LIST: \"))\n",
        "for i in range(0,n):\n",
        "  k=int(input())\n",
        "  l1.append(k)\n",
        "even = list(filter(lambda l1:l1%2==0,l1))\n",
        "odd = list(filter(lambda l1:l1%2==1,l1))\n",
        "print('EVEN NUMBERS:',len(even))\n",
        "print('ODD NUMBERS:',len(odd))"
      ],
      "execution_count": null,
      "outputs": [
        {
          "output_type": "stream",
          "text": [
            "ENTER THE NUMBER OF ELEMENTS IN THE LIST: 11\n",
            "1\n",
            "2\n",
            "3\n",
            "4\n",
            "5\n",
            "6\n",
            "7\n",
            "8\n",
            "9\n",
            "10\n",
            "11\n",
            "EVEN NUMBERS: 5\n",
            "ODD NUMBERS: 6\n"
          ],
          "name": "stdout"
        }
      ]
    },
    {
      "cell_type": "markdown",
      "metadata": {
        "id": "pqAb9QDl6_hR"
      },
      "source": [
        "Task 9: \n",
        "\n",
        "Write a Python program to calculate the average value of the numbers in a given tuple of tuples using lambda. \n",
        "\n",
        "Example :  \n",
        "\n",
        "Input : t = ((10, 10, 10), (20, 20, 20), (100, 100, 100)) \n",
        "\n",
        "Output : (130, 130, 130) "
      ]
    },
    {
      "cell_type": "code",
      "metadata": {
        "colab": {
          "base_uri": "https://localhost:8080/"
        },
        "id": "4GbKMP8K7CYz",
        "outputId": "80736c3a-16fd-4c08-f876-84a37d9a039b"
      },
      "source": [
        "tup = ((10, 10, 10), (20, 20, 20), (100, 100, 100) )\n",
        "print (\"TUPLE:\",tup)\n",
        "result = tuple(map(lambda x: sum(x), zip(*tup)))\n",
        "print(\"AVERAGE VALUE:\",result)"
      ],
      "execution_count": null,
      "outputs": [
        {
          "output_type": "stream",
          "text": [
            "TUPLE: ((10, 10, 10), (20, 20, 20), (100, 100, 100))\n",
            "AVERAGE VALUE: (130, 130, 130)\n"
          ],
          "name": "stdout"
        }
      ]
    }
  ]
}