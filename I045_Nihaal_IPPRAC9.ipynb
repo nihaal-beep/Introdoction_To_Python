{
  "nbformat": 4,
  "nbformat_minor": 0,
  "metadata": {
    "colab": {
      "name": "I045_Nihaal_IPPRAC9",
      "provenance": []
    },
    "kernelspec": {
      "name": "python3",
      "display_name": "Python 3"
    },
    "language_info": {
      "name": "python"
    }
  },
  "cells": [
    {
      "cell_type": "markdown",
      "metadata": {
        "id": "caCYb7mcoLk2"
      },
      "source": [
        "Task 1: \n",
        "\n",
        "Write a program  to convert camel case string to snake case. \n",
        "\n",
        "Input: IntroductionToPythonProgramming \n",
        "\n",
        "Output:introduction_to_python_programming "
      ]
    },
    {
      "cell_type": "code",
      "metadata": {
        "colab": {
          "base_uri": "https://localhost:8080/"
        },
        "id": "ZSIRaMoHoFdw",
        "outputId": "44bfe513-0053-4764-f683-5f43cd7a414b"
      },
      "source": [
        "s1=input(\"ENTER THE STRING TO BE CONVERTED: \")\n",
        "s2=\"\"\n",
        "count=0\n",
        "for i in s1 :\n",
        "  \n",
        "  if i.isupper() and count>0:\n",
        "    s2=s2+'_'\n",
        "  i=i.lower()  \n",
        "  s2=s2+i\n",
        "  count+=1\n",
        "print(\"OUTPUT:\",s2)"
      ],
      "execution_count": null,
      "outputs": [
        {
          "output_type": "stream",
          "text": [
            "ENTER THE STRING TO BE CONVERTED: IntroToPythoProg\n",
            "OUTPUT: intro_to_pytho_prog\n"
          ],
          "name": "stdout"
        }
      ]
    },
    {
      "cell_type": "markdown",
      "metadata": {
        "id": "I_QkswT0rYgp"
      },
      "source": [
        "Task 2: \n",
        "\n",
        "Write a program to delete consonants from the string and print the new string. \n",
        "\n",
        "Input: Python Programming \n",
        "\n",
        "Output: o oai "
      ]
    },
    {
      "cell_type": "code",
      "metadata": {
        "colab": {
          "base_uri": "https://localhost:8080/"
        },
        "id": "aZa1flKtrdPg",
        "outputId": "35249432-ce4e-4978-bab8-9a3b939ef507"
      },
      "source": [
        "s1=input('ENTER THE STRING TO BE CONVERTED: ')\n",
        "s2=\"\"\n",
        "for i in s1:\n",
        "  if i == 'a' or i=='e' or i =='i' or i=='o' or i=='u':\n",
        "    s2=s2+i\n",
        "  if i ==\" \":\n",
        "    s2=s2+' '\n",
        "print(\"OUTPUT:\",s2) "
      ],
      "execution_count": null,
      "outputs": [
        {
          "output_type": "stream",
          "text": [
            "ENTER THE STRING TO BE CONVERTED: Python Programming\n",
            "OUTPUT: o oai\n"
          ],
          "name": "stdout"
        }
      ]
    },
    {
      "cell_type": "markdown",
      "metadata": {
        "id": "Ar0R6iVwsbE8"
      },
      "source": [
        "Task 3:  \n",
        "\n",
        "Write a program to convert  numbers to numeric words. \n",
        "\n",
        "Input: 54320 \n",
        "\n",
        "Output: five four three two zero \n",
        "\n",
        "Write a program to convert numeric words to numbers \n",
        "\n",
        "Input: five four three two zero \n",
        "\n",
        "Output: 5 4 3 2 0 \n",
        "\n",
        " "
      ]
    },
    {
      "cell_type": "code",
      "metadata": {
        "id": "3oxzTZ7-sd95",
        "colab": {
          "base_uri": "https://localhost:8080/"
        },
        "outputId": "f6cc6753-473c-4e4c-c6db-60ba51c45473"
      },
      "source": [
        "#3.1\n",
        "dict1={1:'one',2:'two',3:'three',4:'four',5:'five',6:'six',7:'seven',8:'eight',9:'nine',0:'zero'}\n",
        "n=int(input(\"ENTER THE NUMBER: \"))\n",
        "lst1=[]\n",
        "while n>0:\n",
        "  k=int(n%10)\n",
        "  n=int(n/10)\n",
        "  lst1.append(k)\n",
        "lst1.reverse()\n",
        "for i in lst1:\n",
        "  print(dict1[i],end=\" \")\n",
        "#3.2\n",
        "dict2={'one':1,'two':2,'three':3,'four':4,'five':5,'six':6,'seven':7,'eight':8,'nine':9,'zero':0}\n",
        "s1=input(\"ENTER THE STRING: \")\n",
        "lst2=s1.split()\n",
        "for j in lst2:\n",
        "  print(dict2[j],end=\" \")"
      ],
      "execution_count": null,
      "outputs": [
        {
          "output_type": "stream",
          "text": [
            "ENTER THE NUMBER: 1234\n",
            "one two three four ENTER THE STRING: one two three four\n",
            "1 2 3 4 "
          ],
          "name": "stdout"
        }
      ]
    },
    {
      "cell_type": "markdown",
      "metadata": {
        "id": "dYJ8IdpJ2KD_"
      },
      "source": [
        "Task 4:   \n",
        "\n",
        "Write a Python program to remove punctuation from a user given string. \n",
        "\n",
        "Input: Oh God! It's so hot in here! \n",
        "\n",
        "Output: Oh God Its so hot in here "
      ]
    },
    {
      "cell_type": "code",
      "metadata": {
        "colab": {
          "base_uri": "https://localhost:8080/"
        },
        "id": "Kz3eCNPu2aMP",
        "outputId": "d1b96805-cb1b-4419-c6aa-91b7202c544f"
      },
      "source": [
        "punct=[',',';',\"'\",'\"',\".\",\"!\",\":\"]\n",
        "s1=input(\"ENTER THE STRING: \")\n",
        "s2=\"\"\n",
        "for i in s1:\n",
        "  if i in punct:\n",
        "    continue\n",
        "  s2=s2+i\n",
        "print('OUTPUT:',s2) "
      ],
      "execution_count": null,
      "outputs": [
        {
          "output_type": "stream",
          "text": [
            "ENTER THE STRING: Sds!dxgad,klo\n",
            "OUTPUT: Sdsdxgadklo\n"
          ],
          "name": "stdout"
        }
      ]
    },
    {
      "cell_type": "markdown",
      "metadata": {
        "id": "gzFI8caH4Uxr"
      },
      "source": [
        "Task 5 :  \n",
        "\n",
        "Write a Python program to remove a character at ‘k’ th index and print the string. \n",
        "\n",
        "Input: Hello! Goood Morning, k=8 \n",
        "\n",
        "Output: Hello! Good Morning \n",
        "\n",
        " "
      ]
    },
    {
      "cell_type": "code",
      "metadata": {
        "colab": {
          "base_uri": "https://localhost:8080/"
        },
        "id": "GEAsZfdG4gUG",
        "outputId": "7203b314-010f-4586-9fef-87ef7bade26c"
      },
      "source": [
        "s1=input(\"ENTER THE STRING: \")\n",
        "s2=\"\"\n",
        "count=0\n",
        "k=int(input(\"ENTER THE INDEX: \"))\n",
        "for i in s1:\n",
        "  if count!=k:\n",
        "    \n",
        "    s2+=i\n",
        "  count+=1\n",
        "print (\"OUTPUT\",s2)"
      ],
      "execution_count": null,
      "outputs": [
        {
          "output_type": "stream",
          "text": [
            "ENTER THE STRING: Hello! Goood Morning\n",
            "ENTER THE INDEX: 8\n",
            "OUTPUT Hello! Good Morning\n"
          ],
          "name": "stdout"
        }
      ]
    },
    {
      "cell_type": "markdown",
      "metadata": {
        "id": "sPp8gNBE5J5r"
      },
      "source": [
        "Task 6 :  \n",
        "\n",
        "Write a Python to  arrange string characters such that all lowercase letters should be printed first. \n",
        "\n",
        "Input:ABCDefghIGKLmnopQRSTuvwxYZ \n",
        "\n",
        "Output: efghmnopuvwxABCDIGKLQRSTYZ \n",
        "\n",
        " "
      ]
    },
    {
      "cell_type": "code",
      "metadata": {
        "colab": {
          "base_uri": "https://localhost:8080/"
        },
        "id": "8U5Z5m_15Qvj",
        "outputId": "403249ab-b453-4a27-a01c-bc661fe1767e"
      },
      "source": [
        "s1=input(\"ENTER THE STRING: \")\n",
        "lower=\"\"\n",
        "upper=\"\"\n",
        "for i in s1:\n",
        "  if i.isupper():\n",
        "    upper+=i\n",
        "  else:\n",
        "    lower+=i\n",
        "print(lower+upper)\n"
      ],
      "execution_count": null,
      "outputs": [
        {
          "output_type": "stream",
          "text": [
            "ENTER THE STRING: ABCDefghIGKLmnopQRSTuvwxYZ\n",
            "efghmnopuvwxABCDIGKLQRSTYZ\n"
          ],
          "name": "stdout"
        }
      ]
    },
    {
      "cell_type": "markdown",
      "metadata": {
        "id": "k5EMs_Xt5zYw"
      },
      "source": [
        " \n",
        "\n",
        "Task 7: \n",
        "\n",
        "Write a Python Program to create a mixed String using the s1 and s2. \n",
        "\n",
        "Print first char of s1 then the last char of s2, Next, the second char of s1 and second last char of s2, and so on. Any leftover characters should be printed at the last. \n",
        "\n",
        " \n",
        "\n",
        "Test Case 1 \n",
        "\n",
        "s1 = abcd \n",
        "\n",
        "s2 = wxyzef \n",
        "\n",
        "afbeczdyxw \n",
        "\n",
        "Test Case 2 \n",
        "\n",
        "s1 = abcd \n",
        "\n",
        "s2 = wxyz \n",
        "\n",
        "azbycxdw \n",
        "\n",
        "Test Case 3 \n",
        "\n",
        "s1 = abcdef \n",
        "\n",
        "s2 = wxyz \n",
        "\n",
        "azbycxdwef \n",
        "\n"
      ]
    },
    {
      "cell_type": "code",
      "metadata": {
        "colab": {
          "base_uri": "https://localhost:8080/"
        },
        "id": "8P6wXnn2578O",
        "outputId": "49cd585c-c1a0-4172-aa69-82fa3bde0937"
      },
      "source": [
        "s1=input(\"ENTER THE FIRST STRING: \")\n",
        "s2=input(\"ENTER THE SECOND STRING: \")\n",
        "s2=s2[::-1]\n",
        "count=0\n",
        "for i in s1:\n",
        "  print(i,end=\"\")\n",
        "  if count<len(s2):\n",
        "    print(s2[count],end=\"\")\n",
        "  count+=1\n"
      ],
      "execution_count": null,
      "outputs": [
        {
          "output_type": "stream",
          "text": [
            "ENTER THE FIRST STRING: abcde\n",
            "ENTER THE SECOND STRING: fgh\n",
            "ahbgcfde"
          ],
          "name": "stdout"
        }
      ]
    }
  ]
}