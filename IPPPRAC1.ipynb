{
  "nbformat": 4,
  "nbformat_minor": 0,
  "metadata": {
    "colab": {
      "name": "IPPPRAC1",
      "provenance": [],
      "collapsed_sections": []
    },
    "kernelspec": {
      "name": "python3",
      "display_name": "Python 3"
    }
  },
  "cells": [
    {
      "cell_type": "markdown",
      "metadata": {
        "id": "vE54udkpS_kc"
      },
      "source": [
        "##Task 1:   \n",
        "\n",
        "Program to demonstrate data type in python.  \n",
        "\n",
        "1.1 Program to print basic data type of given variable  \n",
        "\n",
        "i. a = 5\t\t ii. a = 2.0 \tiii. a = 1+2j \tiv. a = ‘NMIMS’"
      ]
    },
    {
      "cell_type": "code",
      "metadata": {
        "colab": {
          "base_uri": "https://localhost:8080/"
        },
        "id": "ySdWr3j1Tbmc",
        "outputId": "1b12f789-6343-4677-d32e-8a5e5a620262"
      },
      "source": [
        "a=5\n",
        "print (type(a))\n",
        "\n",
        "a=2.0\n",
        "print (type(a))\n",
        "\n",
        "a=1+2\n",
        "print (type(a))\n",
        "\n",
        "a='NMIMS'\n",
        "print(type(a))"
      ],
      "execution_count": null,
      "outputs": [
        {
          "output_type": "stream",
          "text": [
            "<class 'int'>\n",
            "<class 'float'>\n",
            "<class 'int'>\n",
            "<class 'str'>\n"
          ],
          "name": "stdout"
        }
      ]
    },
    {
      "cell_type": "markdown",
      "metadata": {
        "id": "gjlXjE1jVoXc"
      },
      "source": [
        "##Task 2:   \n",
        "\n",
        "Write a Python Program to the roots of a Quadratic Equation. d = b2 - 4ac \n",
        "\n",
        " "
      ]
    },
    {
      "cell_type": "code",
      "metadata": {
        "colab": {
          "base_uri": "https://localhost:8080/"
        },
        "id": "afJrKEQLVtpe",
        "outputId": "a013485e-6487-4b1f-f9f8-36b315d3c5c6"
      },
      "source": [
        "import cmath\n",
        "print(\"ENTER THE VALUE FOR a, b and c IN THE QUADRATIC EQUATION\")\n",
        "a=int(input(\"a=\"))\n",
        "b=int(input(\"b=\"))\n",
        "c=int(input(\"c=\"))\n",
        "d= (b**2)-(4*a*c)\n",
        "r1= (-b - cmath.sqrt(d))/2*a\n",
        "r2= (-b + cmath.sqrt(d))/2*a\n",
        "print (\"THE ROOTS ARE-\")\n",
        "print(r1, r2)"
      ],
      "execution_count": null,
      "outputs": [
        {
          "output_type": "stream",
          "text": [
            "ENTER THE VALUE FOR a,b and c IN THE QUADRATIC EQUATION\n",
            "a=6\n",
            "b=5\n",
            "c=8\n",
            "THE ROOTS ARE=\n",
            "(-15-38.76854394996026j) (-15+38.76854394996026j)\n"
          ],
          "name": "stdout"
        }
      ]
    },
    {
      "cell_type": "markdown",
      "metadata": {
        "id": "Uvg2tBlQYUkg"
      },
      "source": [
        "##Task 3:   \n",
        "\n",
        "Write a Python Program to Convert Celsius To Fahrenheit"
      ]
    },
    {
      "cell_type": "code",
      "metadata": {
        "colab": {
          "base_uri": "https://localhost:8080/"
        },
        "id": "TNVpqfJEYZoe",
        "outputId": "9d69ef54-82ca-4683-a1e3-840953cfd86f"
      },
      "source": [
        "c=float(input(\"ENTER THE VALUE FOR TEMPERATURE IN CELSIUS = \"))\n",
        "f= (c*1.8)+32\n",
        "print (\"THE TEMPERATURE IN FARENHEIT IS = \",f)"
      ],
      "execution_count": null,
      "outputs": [
        {
          "output_type": "stream",
          "text": [
            "ENTER THE VALUE FOR TEMPERATURE IN CELSIUS = 5\n",
            "THE TEMPERATURE IN FARENHEIT IS =  41.0\n"
          ],
          "name": "stdout"
        }
      ]
    },
    {
      "cell_type": "markdown",
      "metadata": {
        "id": "Y5PBBqRyZ7SB"
      },
      "source": [
        "##Task 4:  \n",
        "\n",
        "What will be the output of the following Python code? Justify. \n",
        "\n",
        " \n",
        "\n",
        "1) str=\"NMIMS BTech Artificial Intelligence\" \n",
        "\n",
        "str[11:22] \n",
        "\n",
        " \n",
        "\n",
        " \n",
        "\n",
        "2) a=10 \n",
        "\n",
        "  a = a + '2' \n",
        "\n",
        "a = a*2 \n",
        " \n",
        "3)  x = 1234 \n",
        "\n",
        "  print(\"%08d\"%x) "
      ]
    },
    {
      "cell_type": "code",
      "metadata": {
        "colab": {
          "base_uri": "https://localhost:8080/",
          "height": 35
        },
        "id": "WIrM5d8AaD3d",
        "outputId": "73ff1553-2b1a-4db4-df9b-db88222d0889"
      },
      "source": [
        "#4.1\n",
        "str=\"NMIMS Btech Artifical Intelligence\"\n",
        "str[11:22]\n",
        "#the output is artificial and it is so because we have used string slicing in this code so it slices the string from its 11th character starting from 0 upto its 22 - 1 th character"
      ],
      "execution_count": null,
      "outputs": [
        {
          "output_type": "execute_result",
          "data": {
            "application/vnd.google.colaboratory.intrinsic+json": {
              "type": "string"
            },
            "text/plain": [
              "' Artifical '"
            ]
          },
          "metadata": {
            "tags": []
          },
          "execution_count": 24
        }
      ]
    },
    {
      "cell_type": "code",
      "metadata": {
        "id": "w83Ofmu2cgrr",
        "colab": {
          "base_uri": "https://localhost:8080/",
          "height": 229
        },
        "outputId": "79d8b017-1938-4dcf-aca9-872eece913c9"
      },
      "source": [
        "#4.2\n",
        "a=10\n",
        "a=a+'2'\n",
        "a=a*2\n",
        "'''\n",
        "It throws a type error and this occurs because in the line 3 of the code we are trying to add an integer with a string and python does not support the use of\n",
        "the operands being a string and an integer for a '+' operator\n",
        "\n",
        "''' "
      ],
      "execution_count": null,
      "outputs": [
        {
          "output_type": "error",
          "ename": "TypeError",
          "evalue": "ignored",
          "traceback": [
            "\u001b[0;31m---------------------------------------------------------------------------\u001b[0m",
            "\u001b[0;31mTypeError\u001b[0m                                 Traceback (most recent call last)",
            "\u001b[0;32m<ipython-input-1-dde2a3999a89>\u001b[0m in \u001b[0;36m<module>\u001b[0;34m()\u001b[0m\n\u001b[1;32m      1\u001b[0m \u001b[0;31m#4.2\u001b[0m\u001b[0;34m\u001b[0m\u001b[0;34m\u001b[0m\u001b[0;34m\u001b[0m\u001b[0m\n\u001b[1;32m      2\u001b[0m \u001b[0ma\u001b[0m\u001b[0;34m=\u001b[0m\u001b[0;36m10\u001b[0m\u001b[0;34m\u001b[0m\u001b[0;34m\u001b[0m\u001b[0m\n\u001b[0;32m----> 3\u001b[0;31m \u001b[0ma\u001b[0m\u001b[0;34m=\u001b[0m\u001b[0ma\u001b[0m\u001b[0;34m+\u001b[0m\u001b[0;34m'2'\u001b[0m\u001b[0;34m\u001b[0m\u001b[0;34m\u001b[0m\u001b[0m\n\u001b[0m\u001b[1;32m      4\u001b[0m \u001b[0ma\u001b[0m\u001b[0;34m=\u001b[0m\u001b[0ma\u001b[0m\u001b[0;34m*\u001b[0m\u001b[0;36m2\u001b[0m\u001b[0;34m\u001b[0m\u001b[0;34m\u001b[0m\u001b[0m\n\u001b[1;32m      5\u001b[0m '''\n",
            "\u001b[0;31mTypeError\u001b[0m: unsupported operand type(s) for +: 'int' and 'str'"
          ]
        }
      ]
    },
    {
      "cell_type": "code",
      "metadata": {
        "colab": {
          "base_uri": "https://localhost:8080/"
        },
        "id": "1qfMOT6yeqhf",
        "outputId": "2b1e0c9c-3fe3-4fd7-8780-150ffa59d1fb"
      },
      "source": [
        "#4.3\n",
        "x=1234\n",
        "print(\"%08d\"%x)\n",
        "# %08d is a string formatting operator which prints an 8 digit integer"
      ],
      "execution_count": null,
      "outputs": [
        {
          "output_type": "stream",
          "text": [
            "00012456\n"
          ],
          "name": "stdout"
        }
      ]
    },
    {
      "cell_type": "markdown",
      "metadata": {
        "id": "VCUWWvAhfzPf"
      },
      "source": [
        "##Task 5: \n",
        "\n",
        "Write a Python program to convert the distance (in feet) to inches, yards, and miles. "
      ]
    },
    {
      "cell_type": "code",
      "metadata": {
        "colab": {
          "base_uri": "https://localhost:8080/"
        },
        "id": "6NpAHlexf31k",
        "outputId": "84add761-92a2-46f1-d8a9-9551b65ad3e5"
      },
      "source": [
        "f=float(input(\"ENTER THE DISTANCE IN FEET = \"))\n",
        "i=f*12\n",
        "y=f/3\n",
        "m=f/5280\n",
        "print (\"THE DISTANCE IN INCHES = \",i)\n",
        "print(\"THE DISTNACE IN YARDS = \",y)\n",
        "print(\"THE DISTANCE IN MILES = \",m)"
      ],
      "execution_count": null,
      "outputs": [
        {
          "output_type": "stream",
          "text": [
            "ENTER THE DISTANCE IN FEET = 6\n",
            "THE DISTANCE IN INCHES =  72.0\n",
            "THE DISTNACE IN YARDS =  2.0\n",
            "THE DISTANCE IN MILES =  0.0011363636363636363\n"
          ],
          "name": "stdout"
        }
      ]
    },
    {
      "cell_type": "markdown",
      "metadata": {
        "id": "ItMCvI_bhIXt"
      },
      "source": [
        "##Task 6 :  \n",
        "\n",
        "Write a Python program to solve (x + y) * (x + y). Read the values of x and y from the user. \n",
        "\n",
        "Expected Output : ((x + y) ^ 2)  "
      ]
    },
    {
      "cell_type": "code",
      "metadata": {
        "colab": {
          "base_uri": "https://localhost:8080/"
        },
        "id": "5sxB5rjuhNwz",
        "outputId": "39607fd8-22b9-4aaa-b9f4-6f0e0e46b8d9"
      },
      "source": [
        "print(\"ENTER THE VALUES OF X AND Y\")\n",
        "x=int(input(\"x=\"))\n",
        "y=int(input(\"y=\"))\n",
        "sol=(x+y)*(x+y)\n",
        "print(\"(({}+{})^2)={}\".format(x,y,sol))"
      ],
      "execution_count": null,
      "outputs": [
        {
          "output_type": "stream",
          "text": [
            "ENTER THE VALUES OF X AND Y\n",
            "x=5\n",
            "y=4\n",
            "((5+4)^2)=81\n"
          ],
          "name": "stdout"
        }
      ]
    },
    {
      "cell_type": "markdown",
      "metadata": {
        "id": "24zIjUiwjbUT"
      },
      "source": [
        "##Task 7 : \n",
        "\n",
        "\n",
        "1.   Write a Python program to convert seconds to day, hour, minutes and seconds. \n",
        "2.  \n",
        "Write a Python program to convert the number of days to years, months & days\n",
        "\n"
      ]
    },
    {
      "cell_type": "code",
      "metadata": {
        "colab": {
          "base_uri": "https://localhost:8080/"
        },
        "id": "Dq0OJCKljyog",
        "outputId": "986da08d-ee84-4ad7-d870-eff7a657e342"
      },
      "source": [
        "#7.1\n",
        "s=float(input(\"ENTER THE SECONDS = \"))\n",
        "m=s//60\n",
        "lefts=s%60\n",
        "h=m//60\n",
        "leftm=m%60\n",
        "d=h//24\n",
        "lefth=h%24\n",
        "print(\"DAYS:{} HOURS: {} MINUTES: {} SECONDS: {}\".format(d,lefth,leftm,lefts))"
      ],
      "execution_count": null,
      "outputs": [
        {
          "output_type": "stream",
          "text": [
            "ENTER THE SECONDS = 86369\n",
            "DAYS:0.0 HOURS: 23.0 MINUTES: 59.0 SECONDS: 29.0\n"
          ],
          "name": "stdout"
        }
      ]
    },
    {
      "cell_type": "code",
      "metadata": {
        "colab": {
          "base_uri": "https://localhost:8080/"
        },
        "id": "XM-sYHs_pe7Q",
        "outputId": "b69fb97b-b734-4276-be7d-fd7970a664a5"
      },
      "source": [
        "#7.2\n",
        "d=float(input(\"ENTER THE NUMBER OF DAYS = \"))\n",
        "month=d//30\n",
        "leftd=d%30\n",
        "year=month//12\n",
        "leftmonth=month%12\n",
        "print(\"YEARS: {} MONTHS: {} DAYS {} \".format(year,leftmonth,leftd))"
      ],
      "execution_count": null,
      "outputs": [
        {
          "output_type": "stream",
          "text": [
            "ENTER THE NUMBER OF DAYS = 365\n",
            "YEARS: 1.0 MONTHS: 0.0 DAYS 5.0 \n"
          ],
          "name": "stdout"
        }
      ]
    },
    {
      "cell_type": "markdown",
      "metadata": {
        "id": "uxmHG-i8tk4t"
      },
      "source": [
        "##Task 8 :\n",
        "\n",
        "\n",
        "\n",
        "\n",
        "1.   Write a Python Program to Calculate Area of an Ellipse\n",
        "2.   Write a Python Program to Find the Surface Area of Cone. \n",
        "\n",
        "\n",
        "\n",
        "\n",
        "\n"
      ]
    },
    {
      "cell_type": "code",
      "metadata": {
        "colab": {
          "base_uri": "https://localhost:8080/"
        },
        "id": "Zzi5AldyuiGf",
        "outputId": "2f6c2f19-08d0-48a6-d53d-95c1598aa68d"
      },
      "source": [
        "#8.1\n",
        "import cmath\n",
        "print (\"ENTER THE VALUE OF MAJOR AXIS AND MINOR AXIS OF THE ELLIPSE \")\n",
        "a=float(input(\"a = \"))\n",
        "b=float(input(\"b = \"))\n",
        "area=cmath.pi*a*b\n",
        "print('THE AREA OF THE ELLIPSE IS = ',area)"
      ],
      "execution_count": null,
      "outputs": [
        {
          "output_type": "stream",
          "text": [
            "ENTER THE VALUE OF MAJOR AXIS AND MINOR AXIS OF THE ELLIPSE \n",
            "a = 5\n",
            "b = 6\n",
            "THE AREA OF THE ELLIPSE IS =  94.24777960769379\n"
          ],
          "name": "stdout"
        }
      ]
    },
    {
      "cell_type": "code",
      "metadata": {
        "colab": {
          "base_uri": "https://localhost:8080/"
        },
        "id": "dtfTmb4-xRX0",
        "outputId": "deb5e494-6a47-43cf-cdb2-be76f7bfc37c"
      },
      "source": [
        "#8.2\n",
        "import cmath\n",
        "print (\"ENTER THE VALUE OF SLANT HEIGHT AND RADIUS OF CONE\")\n",
        "l=float(input(\"l=\"))\n",
        "r=float(input(\"r=\"))\n",
        "sa=cmath.pi*r*(r+l)\n",
        "print (\"THE SURFACE AREA OF THE CONE IS = \",sa)"
      ],
      "execution_count": null,
      "outputs": [
        {
          "output_type": "stream",
          "text": [
            "ENTER THE VALUE OF SLANT HEIGHT AND RADIUS OF CONE\n",
            "l=3\n",
            "r=4\n",
            "THE SURFACE AREA OF THE CONE IS =  87.96459430051421\n"
          ],
          "name": "stdout"
        }
      ]
    },
    {
      "cell_type": "markdown",
      "metadata": {
        "id": "c10ovDkY0CZG"
      },
      "source": [
        " \n",
        "\n",
        "##Task 9 :  \n",
        "\n",
        "Write a Python program to display your birth date.  Eg : birth_date = (11, 12, 2014) \n",
        "\n",
        "Sample Output: Your Birthdate is  : 11 / 12 / 2014 "
      ]
    },
    {
      "cell_type": "code",
      "metadata": {
        "colab": {
          "base_uri": "https://localhost:8080/"
        },
        "id": "8O09EEjv0JGu",
        "outputId": "c19999aa-0e18-44a4-b74f-29dd076f5aa1"
      },
      "source": [
        "birth_date=(30,4,2002)\n",
        "print (\"Your Birthdate is: {}/{}/{}\".format(birth_date[0],birth_date[1],birth_date[2]))"
      ],
      "execution_count": null,
      "outputs": [
        {
          "output_type": "stream",
          "text": [
            "Your Birthdate is: 30/4/2002\n"
          ],
          "name": "stdout"
        }
      ]
    }
  ]
}