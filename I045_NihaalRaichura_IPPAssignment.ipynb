{
  "nbformat": 4,
  "nbformat_minor": 0,
  "metadata": {
    "kernelspec": {
      "display_name": "Python 3",
      "language": "python",
      "name": "python3"
    },
    "language_info": {
      "codemirror_mode": {
        "name": "ipython",
        "version": 3
      },
      "file_extension": ".py",
      "mimetype": "text/x-python",
      "name": "python",
      "nbconvert_exporter": "python",
      "pygments_lexer": "ipython3",
      "version": "3.7.3"
    },
    "colab": {
      "name": "I045_NihaalRaichura_IPPAssignment",
      "provenance": []
    }
  },
  "cells": [
    {
      "cell_type": "markdown",
      "metadata": {
        "id": "YjRGyWvht4oz"
      },
      "source": [
        "# IPL Dataset Analysis\n",
        "\n",
        "## Problem Statement\n",
        "We want to know as to what happens during an IPL match which raises several questions in our mind with our limited knowledge about the game called cricket on which it is based. This analysis is done to know as which factors led one of the team to win and how does it matter."
      ]
    },
    {
      "cell_type": "markdown",
      "metadata": {
        "id": "IguWZiyZt4o5"
      },
      "source": [
        "## About the Dataset :\n",
        "The Indian Premier League (IPL) is a professional T20 cricket league in India contested during April-May of every year by teams representing Indian cities. It is the most-attended cricket league in the world and ranks sixth among all the sports leagues. It has teams with players from around the world and is very competitive and entertaining with a lot of close matches between teams.\n",
        "\n",
        "The IPL and other cricket related datasets are available at [cricsheet.org](https://cricsheet.org/%c2%a0(data). Feel free to visit the website and explore the data by yourself as exploring new sources of data is one of the interesting activities a data scientist gets to do."
      ]
    },
    {
      "cell_type": "markdown",
      "metadata": {
        "id": "-PEML2VPt4o7"
      },
      "source": [
        "### Analysing data with basic python operation"
      ]
    },
    {
      "cell_type": "markdown",
      "metadata": {
        "id": "XSL72GUpt4o8"
      },
      "source": [
        "## Read the data of the format .yaml type"
      ]
    },
    {
      "cell_type": "markdown",
      "metadata": {
        "id": "PJ065Mu40GJY"
      },
      "source": [
        "# **FOR Reference**\n",
        "- YAML acroynym stands for “YAML Ain’t Markup Language,”.\n",
        "\n",
        "- YAML is a human-readable data serialization standard that can be used in conjunction with all programming languages and is often used to write configuration files.\n",
        "\n",
        "- YAML vs. JSON\n",
        "YAML 1.2 is a superset of JavaScript Object Notation (JSON) but has some built-in advantages. For example, YAML can self-reference, support complex datatypes, embed block literals, support comments, and more. Overall, YAML tends to be more readable than JSON as well"
      ]
    },
    {
      "cell_type": "code",
      "metadata": {
        "id": "SY5PmY_6t4o9"
      },
      "source": [
        "import yaml"
      ],
      "execution_count": null,
      "outputs": []
    },
    {
      "cell_type": "code",
      "metadata": {
        "id": "FbrfN0CFt4o-"
      },
      "source": [
        "# using with open command to read the file\n",
        "with open ('ipl_match.yaml') as f:\n",
        "  data = yaml.load(f)"
      ],
      "execution_count": null,
      "outputs": []
    },
    {
      "cell_type": "code",
      "metadata": {
        "id": "oVJTWmv7t4o_",
        "colab": {
          "base_uri": "https://localhost:8080/"
        },
        "outputId": "3864f3b8-82b5-4db5-bdc3-a468cde10531"
      },
      "source": [
        "# print data\n",
        "print (data)"
      ],
      "execution_count": null,
      "outputs": [
        {
          "output_type": "stream",
          "text": [
            "{'meta': {'data_version': 0.9, 'created': datetime.date(2011, 5, 6), 'revision': 2}, 'info': {'city': 'Bangalore', 'competition': 'IPL', 'dates': [datetime.date(2008, 4, 18)], 'gender': 'male', 'match_type': 'T20', 'outcome': {'by': {'runs': 140}, 'winner': 'Kolkata Knight Riders'}, 'overs': 20, 'player_of_match': ['BB McCullum'], 'teams': ['Royal Challengers Bangalore', 'Kolkata Knight Riders'], 'toss': {'decision': 'field', 'winner': 'Royal Challengers Bangalore'}, 'umpires': ['Asad Rauf', 'RE Koertzen'], 'venue': 'M Chinnaswamy Stadium'}, 'innings': [{'1st innings': {'team': 'Kolkata Knight Riders', 'deliveries': [{0.1: {'batsman': 'SC Ganguly', 'bowler': 'P Kumar', 'extras': {'legbyes': 1}, 'non_striker': 'BB McCullum', 'runs': {'batsman': 0, 'extras': 1, 'total': 1}}}, {0.2: {'batsman': 'BB McCullum', 'bowler': 'P Kumar', 'non_striker': 'SC Ganguly', 'runs': {'batsman': 0, 'extras': 0, 'total': 0}}}, {0.3: {'batsman': 'BB McCullum', 'bowler': 'P Kumar', 'extras': {'wides': 1}, 'non_striker': 'SC Ganguly', 'runs': {'batsman': 0, 'extras': 1, 'total': 1}}}, {0.4: {'batsman': 'BB McCullum', 'bowler': 'P Kumar', 'non_striker': 'SC Ganguly', 'runs': {'batsman': 0, 'extras': 0, 'total': 0}}}, {0.5: {'batsman': 'BB McCullum', 'bowler': 'P Kumar', 'non_striker': 'SC Ganguly', 'runs': {'batsman': 0, 'extras': 0, 'total': 0}}}, {0.6: {'batsman': 'BB McCullum', 'bowler': 'P Kumar', 'non_striker': 'SC Ganguly', 'runs': {'batsman': 0, 'extras': 0, 'total': 0}}}, {0.7: {'batsman': 'BB McCullum', 'bowler': 'P Kumar', 'extras': {'legbyes': 1}, 'non_striker': 'SC Ganguly', 'runs': {'batsman': 0, 'extras': 1, 'total': 1}}}, {1.1: {'batsman': 'BB McCullum', 'bowler': 'Z Khan', 'non_striker': 'SC Ganguly', 'runs': {'batsman': 0, 'extras': 0, 'total': 0}}}, {1.2: {'batsman': 'BB McCullum', 'bowler': 'Z Khan', 'non_striker': 'SC Ganguly', 'runs': {'batsman': 4, 'extras': 0, 'total': 4}}}, {1.3: {'batsman': 'BB McCullum', 'bowler': 'Z Khan', 'non_striker': 'SC Ganguly', 'runs': {'batsman': 4, 'extras': 0, 'total': 4}}}, {1.4: {'batsman': 'BB McCullum', 'bowler': 'Z Khan', 'non_striker': 'SC Ganguly', 'runs': {'batsman': 6, 'extras': 0, 'total': 6}}}, {1.5: {'batsman': 'BB McCullum', 'bowler': 'Z Khan', 'non_striker': 'SC Ganguly', 'runs': {'batsman': 4, 'extras': 0, 'total': 4}}}, {1.6: {'batsman': 'BB McCullum', 'bowler': 'Z Khan', 'non_striker': 'SC Ganguly', 'runs': {'batsman': 0, 'extras': 0, 'total': 0}}}, {2.1: {'batsman': 'SC Ganguly', 'bowler': 'P Kumar', 'non_striker': 'BB McCullum', 'runs': {'batsman': 0, 'extras': 0, 'total': 0}}}, {2.2: {'batsman': 'SC Ganguly', 'bowler': 'P Kumar', 'non_striker': 'BB McCullum', 'runs': {'batsman': 0, 'extras': 0, 'total': 0}}}, {2.3: {'batsman': 'SC Ganguly', 'bowler': 'P Kumar', 'extras': {'legbyes': 1}, 'non_striker': 'BB McCullum', 'runs': {'batsman': 0, 'extras': 1, 'total': 1}}}, {2.4: {'batsman': 'BB McCullum', 'bowler': 'P Kumar', 'non_striker': 'SC Ganguly', 'runs': {'batsman': 4, 'extras': 0, 'total': 4}}}, {2.5: {'batsman': 'BB McCullum', 'bowler': 'P Kumar', 'non_striker': 'SC Ganguly', 'runs': {'batsman': 1, 'extras': 0, 'total': 1}}}, {2.6: {'batsman': 'SC Ganguly', 'bowler': 'P Kumar', 'non_striker': 'BB McCullum', 'runs': {'batsman': 0, 'extras': 0, 'total': 0}}}, {3.1: {'batsman': 'BB McCullum', 'bowler': 'AA Noffke', 'extras': {'wides': 5}, 'non_striker': 'SC Ganguly', 'runs': {'batsman': 0, 'extras': 5, 'total': 5}}}, {3.2: {'batsman': 'BB McCullum', 'bowler': 'AA Noffke', 'non_striker': 'SC Ganguly', 'runs': {'batsman': 6, 'extras': 0, 'total': 6}}}, {3.3: {'batsman': 'BB McCullum', 'bowler': 'AA Noffke', 'extras': {'legbyes': 1}, 'non_striker': 'SC Ganguly', 'runs': {'batsman': 0, 'extras': 1, 'total': 1}}}, {3.4: {'batsman': 'SC Ganguly', 'bowler': 'AA Noffke', 'non_striker': 'BB McCullum', 'runs': {'batsman': 4, 'extras': 0, 'total': 4}}}, {3.5: {'batsman': 'SC Ganguly', 'bowler': 'AA Noffke', 'non_striker': 'BB McCullum', 'runs': {'batsman': 0, 'extras': 0, 'total': 0}}}, {3.6: {'batsman': 'SC Ganguly', 'bowler': 'AA Noffke', 'non_striker': 'BB McCullum', 'runs': {'batsman': 1, 'extras': 0, 'total': 1}}}, {3.7: {'batsman': 'BB McCullum', 'bowler': 'AA Noffke', 'non_striker': 'SC Ganguly', 'runs': {'batsman': 6, 'extras': 0, 'total': 6}}}, {4.1: {'batsman': 'SC Ganguly', 'bowler': 'P Kumar', 'non_striker': 'BB McCullum', 'runs': {'batsman': 4, 'extras': 0, 'total': 4}}}, {4.2: {'batsman': 'SC Ganguly', 'bowler': 'P Kumar', 'non_striker': 'BB McCullum', 'runs': {'batsman': 1, 'extras': 0, 'total': 1}}}, {4.3: {'batsman': 'BB McCullum', 'bowler': 'P Kumar', 'non_striker': 'SC Ganguly', 'runs': {'batsman': 4, 'extras': 0, 'total': 4}}}, {4.4: {'batsman': 'BB McCullum', 'bowler': 'P Kumar', 'non_striker': 'SC Ganguly', 'runs': {'batsman': 0, 'extras': 0, 'total': 0}}}, {4.5: {'batsman': 'BB McCullum', 'bowler': 'P Kumar', 'non_striker': 'SC Ganguly', 'runs': {'batsman': 1, 'extras': 0, 'total': 1}}}, {4.6: {'batsman': 'SC Ganguly', 'bowler': 'P Kumar', 'non_striker': 'BB McCullum', 'runs': {'batsman': 0, 'extras': 0, 'total': 0}}}, {5.1: {'batsman': 'BB McCullum', 'bowler': 'Z Khan', 'non_striker': 'SC Ganguly', 'runs': {'batsman': 1, 'extras': 0, 'total': 1}}}, {5.2: {'batsman': 'SC Ganguly', 'bowler': 'Z Khan', 'non_striker': 'BB McCullum', 'runs': {'batsman': 0, 'extras': 0, 'total': 0}, 'wicket': {'fielders': ['JH Kallis'], 'kind': 'caught', 'player_out': 'SC Ganguly'}}}, {5.3: {'batsman': 'RT Ponting', 'bowler': 'Z Khan', 'non_striker': 'BB McCullum', 'runs': {'batsman': 0, 'extras': 0, 'total': 0}}}, {5.4: {'batsman': 'RT Ponting', 'bowler': 'Z Khan', 'non_striker': 'BB McCullum', 'runs': {'batsman': 0, 'extras': 0, 'total': 0}}}, {5.5: {'batsman': 'RT Ponting', 'bowler': 'Z Khan', 'non_striker': 'BB McCullum', 'runs': {'batsman': 0, 'extras': 0, 'total': 0}}}, {5.6: {'batsman': 'RT Ponting', 'bowler': 'Z Khan', 'non_striker': 'BB McCullum', 'runs': {'batsman': 0, 'extras': 0, 'total': 0}}}, {6.1: {'batsman': 'BB McCullum', 'bowler': 'AA Noffke', 'non_striker': 'RT Ponting', 'runs': {'batsman': 1, 'extras': 0, 'total': 1}}}, {6.2: {'batsman': 'RT Ponting', 'bowler': 'AA Noffke', 'non_striker': 'BB McCullum', 'runs': {'batsman': 1, 'extras': 0, 'total': 1}}}, {6.3: {'batsman': 'BB McCullum', 'bowler': 'AA Noffke', 'non_striker': 'RT Ponting', 'runs': {'batsman': 1, 'extras': 0, 'total': 1}}}, {6.4: {'batsman': 'RT Ponting', 'bowler': 'AA Noffke', 'non_striker': 'BB McCullum', 'runs': {'batsman': 2, 'extras': 0, 'total': 2}}}, {6.5: {'batsman': 'RT Ponting', 'bowler': 'AA Noffke', 'non_striker': 'BB McCullum', 'runs': {'batsman': 1, 'extras': 0, 'total': 1}}}, {6.6: {'batsman': 'BB McCullum', 'bowler': 'AA Noffke', 'non_striker': 'RT Ponting', 'runs': {'batsman': 1, 'extras': 0, 'total': 1}}}, {7.1: {'batsman': 'BB McCullum', 'bowler': 'Z Khan', 'non_striker': 'RT Ponting', 'runs': {'batsman': 0, 'extras': 0, 'total': 0}}}, {7.2: {'batsman': 'BB McCullum', 'bowler': 'Z Khan', 'non_striker': 'RT Ponting', 'runs': {'batsman': 1, 'extras': 0, 'total': 1}}}, {7.3: {'batsman': 'RT Ponting', 'bowler': 'Z Khan', 'non_striker': 'BB McCullum', 'runs': {'batsman': 1, 'extras': 0, 'total': 1}}}, {7.4: {'batsman': 'BB McCullum', 'bowler': 'Z Khan', 'non_striker': 'RT Ponting', 'runs': {'batsman': 1, 'extras': 0, 'total': 1}}}, {7.5: {'batsman': 'RT Ponting', 'bowler': 'Z Khan', 'non_striker': 'BB McCullum', 'runs': {'batsman': 1, 'extras': 0, 'total': 1}}}, {7.6: {'batsman': 'BB McCullum', 'bowler': 'Z Khan', 'non_striker': 'RT Ponting', 'runs': {'batsman': 1, 'extras': 0, 'total': 1}}}, {8.1: {'batsman': 'BB McCullum', 'bowler': 'JH Kallis', 'non_striker': 'RT Ponting', 'runs': {'batsman': 0, 'extras': 0, 'total': 0}}}, {8.2: {'batsman': 'BB McCullum', 'bowler': 'JH Kallis', 'non_striker': 'RT Ponting', 'runs': {'batsman': 0, 'extras': 0, 'total': 0}}}, {8.3: {'batsman': 'BB McCullum', 'bowler': 'JH Kallis', 'non_striker': 'RT Ponting', 'runs': {'batsman': 0, 'extras': 0, 'total': 0}}}, {8.4: {'batsman': 'BB McCullum', 'bowler': 'JH Kallis', 'non_striker': 'RT Ponting', 'runs': {'batsman': 1, 'extras': 0, 'total': 1}}}, {8.5: {'batsman': 'RT Ponting', 'bowler': 'JH Kallis', 'non_striker': 'BB McCullum', 'runs': {'batsman': 1, 'extras': 0, 'total': 1}}}, {8.6: {'batsman': 'BB McCullum', 'bowler': 'JH Kallis', 'non_striker': 'RT Ponting', 'runs': {'batsman': 2, 'extras': 0, 'total': 2}}}, {9.1: {'batsman': 'RT Ponting', 'bowler': 'SB Joshi', 'non_striker': 'BB McCullum', 'runs': {'batsman': 1, 'extras': 0, 'total': 1}}}, {9.2: {'batsman': 'BB McCullum', 'bowler': 'SB Joshi', 'non_striker': 'RT Ponting', 'runs': {'batsman': 1, 'extras': 0, 'total': 1}}}, {9.3: {'batsman': 'RT Ponting', 'bowler': 'SB Joshi', 'non_striker': 'BB McCullum', 'runs': {'batsman': 1, 'extras': 0, 'total': 1}}}, {9.4: {'batsman': 'BB McCullum', 'bowler': 'SB Joshi', 'non_striker': 'RT Ponting', 'runs': {'batsman': 0, 'extras': 0, 'total': 0}}}, {9.5: {'batsman': 'BB McCullum', 'bowler': 'SB Joshi', 'non_striker': 'RT Ponting', 'runs': {'batsman': 6, 'extras': 0, 'total': 6}}}, {9.6: {'batsman': 'BB McCullum', 'bowler': 'SB Joshi', 'non_striker': 'RT Ponting', 'runs': {'batsman': 1, 'extras': 0, 'total': 1}}}, {10.1: {'batsman': 'BB McCullum', 'bowler': 'JH Kallis', 'non_striker': 'RT Ponting', 'runs': {'batsman': 1, 'extras': 0, 'total': 1}}}, {10.2: {'batsman': 'RT Ponting', 'bowler': 'JH Kallis', 'non_striker': 'BB McCullum', 'runs': {'batsman': 4, 'extras': 0, 'total': 4}}}, {10.3: {'batsman': 'RT Ponting', 'bowler': 'JH Kallis', 'non_striker': 'BB McCullum', 'runs': {'batsman': 0, 'extras': 0, 'total': 0}}}, {10.4: {'batsman': 'RT Ponting', 'bowler': 'JH Kallis', 'non_striker': 'BB McCullum', 'runs': {'batsman': 6, 'extras': 0, 'total': 6}}}, {10.5: {'batsman': 'RT Ponting', 'bowler': 'JH Kallis', 'non_striker': 'BB McCullum', 'runs': {'batsman': 0, 'extras': 0, 'total': 0}}}, {10.6: {'batsman': 'RT Ponting', 'bowler': 'JH Kallis', 'extras': {'byes': 4}, 'non_striker': 'BB McCullum', 'runs': {'batsman': 0, 'extras': 4, 'total': 4}}}, {11.1: {'batsman': 'BB McCullum', 'bowler': 'SB Joshi', 'non_striker': 'RT Ponting', 'runs': {'batsman': 0, 'extras': 0, 'total': 0}}}, {11.2: {'batsman': 'BB McCullum', 'bowler': 'SB Joshi', 'non_striker': 'RT Ponting', 'runs': {'batsman': 6, 'extras': 0, 'total': 6}}}, {11.3: {'batsman': 'BB McCullum', 'bowler': 'SB Joshi', 'non_striker': 'RT Ponting', 'runs': {'batsman': 2, 'extras': 0, 'total': 2}}}, {11.4: {'batsman': 'BB McCullum', 'bowler': 'SB Joshi', 'non_striker': 'RT Ponting', 'runs': {'batsman': 1, 'extras': 0, 'total': 1}}}, {11.5: {'batsman': 'RT Ponting', 'bowler': 'SB Joshi', 'non_striker': 'BB McCullum', 'runs': {'batsman': 0, 'extras': 0, 'total': 0}}}, {11.6: {'batsman': 'RT Ponting', 'bowler': 'SB Joshi', 'non_striker': 'BB McCullum', 'runs': {'batsman': 1, 'extras': 0, 'total': 1}}}, {12.1: {'batsman': 'RT Ponting', 'bowler': 'JH Kallis', 'non_striker': 'BB McCullum', 'runs': {'batsman': 0, 'extras': 0, 'total': 0}, 'wicket': {'fielders': ['P Kumar'], 'kind': 'caught', 'player_out': 'RT Ponting'}}}, {12.2: {'batsman': 'BB McCullum', 'bowler': 'JH Kallis', 'non_striker': 'DJ Hussey', 'runs': {'batsman': 4, 'extras': 0, 'total': 4}}}, {12.3: {'batsman': 'BB McCullum', 'bowler': 'JH Kallis', 'non_striker': 'DJ Hussey', 'runs': {'batsman': 0, 'extras': 0, 'total': 0}}}, {12.4: {'batsman': 'BB McCullum', 'bowler': 'JH Kallis', 'non_striker': 'DJ Hussey', 'runs': {'batsman': 2, 'extras': 0, 'total': 2}}}, {12.5: {'batsman': 'BB McCullum', 'bowler': 'JH Kallis', 'extras': {'wides': 1}, 'non_striker': 'DJ Hussey', 'runs': {'batsman': 0, 'extras': 1, 'total': 1}}}, {12.6: {'batsman': 'BB McCullum', 'bowler': 'JH Kallis', 'non_striker': 'DJ Hussey', 'runs': {'batsman': 4, 'extras': 0, 'total': 4}}}, {12.7: {'batsman': 'BB McCullum', 'bowler': 'JH Kallis', 'non_striker': 'DJ Hussey', 'runs': {'batsman': 1, 'extras': 0, 'total': 1}}}, {13.1: {'batsman': 'BB McCullum', 'bowler': 'SB Joshi', 'non_striker': 'DJ Hussey', 'runs': {'batsman': 1, 'extras': 0, 'total': 1}}}, {13.2: {'batsman': 'DJ Hussey', 'bowler': 'SB Joshi', 'non_striker': 'BB McCullum', 'runs': {'batsman': 0, 'extras': 0, 'total': 0}}}, {13.3: {'batsman': 'DJ Hussey', 'bowler': 'SB Joshi', 'non_striker': 'BB McCullum', 'runs': {'batsman': 1, 'extras': 0, 'total': 1}}}, {13.4: {'batsman': 'BB McCullum', 'bowler': 'SB Joshi', 'non_striker': 'DJ Hussey', 'runs': {'batsman': 1, 'extras': 0, 'total': 1}}}, {13.5: {'batsman': 'DJ Hussey', 'bowler': 'SB Joshi', 'non_striker': 'BB McCullum', 'runs': {'batsman': 1, 'extras': 0, 'total': 1}}}, {13.6: {'batsman': 'BB McCullum', 'bowler': 'SB Joshi', 'non_striker': 'DJ Hussey', 'runs': {'batsman': 2, 'extras': 0, 'total': 2}}}, {14.1: {'batsman': 'DJ Hussey', 'bowler': 'CL White', 'non_striker': 'BB McCullum', 'runs': {'batsman': 4, 'extras': 0, 'total': 4}}}, {14.2: {'batsman': 'DJ Hussey', 'bowler': 'CL White', 'non_striker': 'BB McCullum', 'runs': {'batsman': 1, 'extras': 0, 'total': 1}}}, {14.3: {'batsman': 'BB McCullum', 'bowler': 'CL White', 'non_striker': 'DJ Hussey', 'runs': {'batsman': 6, 'extras': 0, 'total': 6}}}, {14.4: {'batsman': 'BB McCullum', 'bowler': 'CL White', 'non_striker': 'DJ Hussey', 'runs': {'batsman': 4, 'extras': 0, 'total': 4}}}, {14.5: {'batsman': 'BB McCullum', 'bowler': 'CL White', 'extras': {'wides': 2}, 'non_striker': 'DJ Hussey', 'runs': {'batsman': 0, 'extras': 2, 'total': 2}}}, {14.6: {'batsman': 'DJ Hussey', 'bowler': 'CL White', 'non_striker': 'BB McCullum', 'runs': {'batsman': 1, 'extras': 0, 'total': 1}}}, {14.7: {'batsman': 'BB McCullum', 'bowler': 'CL White', 'non_striker': 'DJ Hussey', 'runs': {'batsman': 6, 'extras': 0, 'total': 6}}}, {15.1: {'batsman': 'DJ Hussey', 'bowler': 'AA Noffke', 'non_striker': 'BB McCullum', 'runs': {'batsman': 0, 'extras': 0, 'total': 0}}}, {15.2: {'batsman': 'DJ Hussey', 'bowler': 'AA Noffke', 'non_striker': 'BB McCullum', 'runs': {'batsman': 1, 'extras': 0, 'total': 1}}}, {15.3: {'batsman': 'BB McCullum', 'bowler': 'AA Noffke', 'non_striker': 'DJ Hussey', 'runs': {'batsman': 2, 'extras': 0, 'total': 2}}}, {15.4: {'batsman': 'BB McCullum', 'bowler': 'AA Noffke', 'non_striker': 'DJ Hussey', 'runs': {'batsman': 0, 'extras': 0, 'total': 0}}}, {15.5: {'batsman': 'BB McCullum', 'bowler': 'AA Noffke', 'non_striker': 'DJ Hussey', 'runs': {'batsman': 1, 'extras': 0, 'total': 1}}}, {15.6: {'batsman': 'DJ Hussey', 'bowler': 'AA Noffke', 'non_striker': 'BB McCullum', 'runs': {'batsman': 0, 'extras': 0, 'total': 0}}}, {16.1: {'batsman': 'BB McCullum', 'bowler': 'Z Khan', 'non_striker': 'DJ Hussey', 'runs': {'batsman': 1, 'extras': 0, 'total': 1}}}, {16.2: {'batsman': 'DJ Hussey', 'bowler': 'Z Khan', 'non_striker': 'BB McCullum', 'runs': {'batsman': 2, 'extras': 0, 'total': 2}}}, {16.3: {'batsman': 'DJ Hussey', 'bowler': 'Z Khan', 'non_striker': 'BB McCullum', 'runs': {'batsman': 1, 'extras': 0, 'total': 1}}}, {16.4: {'batsman': 'BB McCullum', 'bowler': 'Z Khan', 'non_striker': 'DJ Hussey', 'runs': {'batsman': 6, 'extras': 0, 'total': 6}}}, {16.5: {'batsman': 'BB McCullum', 'bowler': 'Z Khan', 'non_striker': 'DJ Hussey', 'runs': {'batsman': 2, 'extras': 0, 'total': 2}}}, {16.6: {'batsman': 'BB McCullum', 'bowler': 'Z Khan', 'non_striker': 'DJ Hussey', 'runs': {'batsman': 2, 'extras': 0, 'total': 2}}}, {17.1: {'batsman': 'DJ Hussey', 'bowler': 'AA Noffke', 'non_striker': 'BB McCullum', 'runs': {'batsman': 0, 'extras': 0, 'total': 0}, 'wicket': {'fielders': ['CL White'], 'kind': 'caught', 'player_out': 'DJ Hussey'}}}, {17.2: {'batsman': 'BB McCullum', 'bowler': 'AA Noffke', 'non_striker': 'Mohammad Hafeez', 'runs': {'batsman': 1, 'extras': 0, 'total': 1}}}, {17.3: {'batsman': 'Mohammad Hafeez', 'bowler': 'AA Noffke', 'non_striker': 'BB McCullum', 'runs': {'batsman': 0, 'extras': 0, 'total': 0}}}, {17.4: {'batsman': 'Mohammad Hafeez', 'bowler': 'AA Noffke', 'non_striker': 'BB McCullum', 'runs': {'batsman': 1, 'extras': 0, 'total': 1}}}, {17.5: {'batsman': 'BB McCullum', 'bowler': 'AA Noffke', 'non_striker': 'Mohammad Hafeez', 'runs': {'batsman': 4, 'extras': 0, 'total': 4}}}, {17.6: {'batsman': 'BB McCullum', 'bowler': 'AA Noffke', 'non_striker': 'Mohammad Hafeez', 'runs': {'batsman': 1, 'extras': 0, 'total': 1}}}, {18.1: {'batsman': 'BB McCullum', 'bowler': 'JH Kallis', 'non_striker': 'Mohammad Hafeez', 'runs': {'batsman': 6, 'extras': 0, 'total': 6}}}, {18.2: {'batsman': 'BB McCullum', 'bowler': 'JH Kallis', 'non_striker': 'Mohammad Hafeez', 'runs': {'batsman': 0, 'extras': 0, 'total': 0}}}, {18.3: {'batsman': 'BB McCullum', 'bowler': 'JH Kallis', 'non_striker': 'Mohammad Hafeez', 'runs': {'batsman': 6, 'extras': 0, 'total': 6}}}, {18.4: {'batsman': 'BB McCullum', 'bowler': 'JH Kallis', 'non_striker': 'Mohammad Hafeez', 'runs': {'batsman': 4, 'extras': 0, 'total': 4}}}, {18.5: {'batsman': 'BB McCullum', 'bowler': 'JH Kallis', 'non_striker': 'Mohammad Hafeez', 'runs': {'batsman': 1, 'extras': 0, 'total': 1}}}, {18.6: {'batsman': 'Mohammad Hafeez', 'bowler': 'JH Kallis', 'non_striker': 'BB McCullum', 'runs': {'batsman': 4, 'extras': 0, 'total': 4}}}, {19.1: {'batsman': 'BB McCullum', 'bowler': 'P Kumar', 'non_striker': 'Mohammad Hafeez', 'runs': {'batsman': 6, 'extras': 0, 'total': 6}}}, {19.2: {'batsman': 'BB McCullum', 'bowler': 'P Kumar', 'non_striker': 'Mohammad Hafeez', 'runs': {'batsman': 6, 'extras': 0, 'total': 6}}}, {19.3: {'batsman': 'BB McCullum', 'bowler': 'P Kumar', 'non_striker': 'Mohammad Hafeez', 'runs': {'batsman': 2, 'extras': 0, 'total': 2}}}, {19.4: {'batsman': 'BB McCullum', 'bowler': 'P Kumar', 'non_striker': 'Mohammad Hafeez', 'runs': {'batsman': 0, 'extras': 0, 'total': 0}}}, {19.5: {'batsman': 'BB McCullum', 'bowler': 'P Kumar', 'non_striker': 'Mohammad Hafeez', 'runs': {'batsman': 2, 'extras': 0, 'total': 2}}}, {19.6: {'batsman': 'BB McCullum', 'bowler': 'P Kumar', 'non_striker': 'Mohammad Hafeez', 'runs': {'batsman': 6, 'extras': 0, 'total': 6}}}]}}, {'2nd innings': {'team': 'Royal Challengers Bangalore', 'deliveries': [{0.1: {'batsman': 'R Dravid', 'bowler': 'AB Dinda', 'non_striker': 'W Jaffer', 'runs': {'batsman': 1, 'extras': 0, 'total': 1}}}, {0.2: {'batsman': 'W Jaffer', 'bowler': 'AB Dinda', 'extras': {'wides': 1}, 'non_striker': 'R Dravid', 'runs': {'batsman': 0, 'extras': 1, 'total': 1}}}, {0.3: {'batsman': 'W Jaffer', 'bowler': 'AB Dinda', 'non_striker': 'R Dravid', 'runs': {'batsman': 0, 'extras': 0, 'total': 0}}}, {0.4: {'batsman': 'W Jaffer', 'bowler': 'AB Dinda', 'non_striker': 'R Dravid', 'runs': {'batsman': 1, 'extras': 0, 'total': 1}}}, {0.5: {'batsman': 'R Dravid', 'bowler': 'AB Dinda', 'non_striker': 'W Jaffer', 'runs': {'batsman': 1, 'extras': 0, 'total': 1}}}, {0.6: {'batsman': 'W Jaffer', 'bowler': 'AB Dinda', 'non_striker': 'R Dravid', 'runs': {'batsman': 0, 'extras': 0, 'total': 0}}}, {0.7: {'batsman': 'W Jaffer', 'bowler': 'AB Dinda', 'non_striker': 'R Dravid', 'runs': {'batsman': 0, 'extras': 0, 'total': 0}}}, {1.1: {'batsman': 'R Dravid', 'bowler': 'I Sharma', 'non_striker': 'W Jaffer', 'runs': {'batsman': 0, 'extras': 0, 'total': 0}, 'wicket': {'kind': 'bowled', 'player_out': 'R Dravid'}}}, {1.2: {'batsman': 'V Kohli', 'bowler': 'I Sharma', 'non_striker': 'W Jaffer', 'runs': {'batsman': 0, 'extras': 0, 'total': 0}}}, {1.3: {'batsman': 'V Kohli', 'bowler': 'I Sharma', 'extras': {'legbyes': 4}, 'non_striker': 'W Jaffer', 'runs': {'batsman': 0, 'extras': 4, 'total': 4}}}, {1.4: {'batsman': 'V Kohli', 'bowler': 'I Sharma', 'non_striker': 'W Jaffer', 'runs': {'batsman': 1, 'extras': 0, 'total': 1}}}, {1.5: {'batsman': 'W Jaffer', 'bowler': 'I Sharma', 'non_striker': 'V Kohli', 'runs': {'batsman': 0, 'extras': 0, 'total': 0}}}, {1.6: {'batsman': 'W Jaffer', 'bowler': 'I Sharma', 'non_striker': 'V Kohli', 'runs': {'batsman': 0, 'extras': 0, 'total': 0}}}, {2.1: {'batsman': 'V Kohli', 'bowler': 'AB Dinda', 'non_striker': 'W Jaffer', 'runs': {'batsman': 0, 'extras': 0, 'total': 0}}}, {2.2: {'batsman': 'V Kohli', 'bowler': 'AB Dinda', 'non_striker': 'W Jaffer', 'runs': {'batsman': 0, 'extras': 0, 'total': 0}, 'wicket': {'kind': 'bowled', 'player_out': 'V Kohli'}}}, {2.3: {'batsman': 'JH Kallis', 'bowler': 'AB Dinda', 'non_striker': 'W Jaffer', 'runs': {'batsman': 1, 'extras': 0, 'total': 1}}}, {2.4: {'batsman': 'W Jaffer', 'bowler': 'AB Dinda', 'non_striker': 'JH Kallis', 'runs': {'batsman': 0, 'extras': 0, 'total': 0}}}, {2.5: {'batsman': 'W Jaffer', 'bowler': 'AB Dinda', 'extras': {'wides': 1}, 'non_striker': 'JH Kallis', 'runs': {'batsman': 0, 'extras': 1, 'total': 1}}}, {2.6: {'batsman': 'W Jaffer', 'bowler': 'AB Dinda', 'non_striker': 'JH Kallis', 'runs': {'batsman': 0, 'extras': 0, 'total': 0}}}, {2.7: {'batsman': 'W Jaffer', 'bowler': 'AB Dinda', 'non_striker': 'JH Kallis', 'runs': {'batsman': 1, 'extras': 0, 'total': 1}}}, {3.1: {'batsman': 'W Jaffer', 'bowler': 'I Sharma', 'non_striker': 'JH Kallis', 'runs': {'batsman': 2, 'extras': 0, 'total': 2}}}, {3.2: {'batsman': 'W Jaffer', 'bowler': 'I Sharma', 'non_striker': 'JH Kallis', 'runs': {'batsman': 1, 'extras': 0, 'total': 1}}}, {3.3: {'batsman': 'JH Kallis', 'bowler': 'I Sharma', 'non_striker': 'W Jaffer', 'runs': {'batsman': 0, 'extras': 0, 'total': 0}}}, {3.4: {'batsman': 'JH Kallis', 'bowler': 'I Sharma', 'extras': {'legbyes': 1}, 'non_striker': 'W Jaffer', 'runs': {'batsman': 0, 'extras': 1, 'total': 1}}}, {3.5: {'batsman': 'W Jaffer', 'bowler': 'I Sharma', 'non_striker': 'JH Kallis', 'runs': {'batsman': 0, 'extras': 0, 'total': 0}}}, {3.6: {'batsman': 'W Jaffer', 'bowler': 'I Sharma', 'non_striker': 'JH Kallis', 'runs': {'batsman': 0, 'extras': 0, 'total': 0}}}, {4.1: {'batsman': 'JH Kallis', 'bowler': 'AB Agarkar', 'non_striker': 'W Jaffer', 'runs': {'batsman': 1, 'extras': 0, 'total': 1}}}, {4.2: {'batsman': 'W Jaffer', 'bowler': 'AB Agarkar', 'non_striker': 'JH Kallis', 'runs': {'batsman': 1, 'extras': 0, 'total': 1}}}, {4.3: {'batsman': 'JH Kallis', 'bowler': 'AB Agarkar', 'non_striker': 'W Jaffer', 'runs': {'batsman': 0, 'extras': 0, 'total': 0}}}, {4.4: {'batsman': 'JH Kallis', 'bowler': 'AB Agarkar', 'non_striker': 'W Jaffer', 'runs': {'batsman': 6, 'extras': 0, 'total': 6}}}, {4.5: {'batsman': 'JH Kallis', 'bowler': 'AB Agarkar', 'non_striker': 'W Jaffer', 'runs': {'batsman': 0, 'extras': 0, 'total': 0}, 'wicket': {'fielders': ['M Kartik'], 'kind': 'caught', 'player_out': 'JH Kallis'}}}, {4.6: {'batsman': 'CL White', 'bowler': 'AB Agarkar', 'non_striker': 'W Jaffer', 'runs': {'batsman': 0, 'extras': 0, 'total': 0}}}, {5.1: {'batsman': 'W Jaffer', 'bowler': 'AB Dinda', 'non_striker': 'CL White', 'runs': {'batsman': 0, 'extras': 0, 'total': 0}}}, {5.2: {'batsman': 'W Jaffer', 'bowler': 'AB Dinda', 'non_striker': 'CL White', 'runs': {'batsman': 0, 'extras': 0, 'total': 0}, 'wicket': {'fielders': ['RT Ponting'], 'kind': 'caught', 'player_out': 'W Jaffer'}}}, {5.3: {'batsman': 'MV Boucher', 'bowler': 'AB Dinda', 'non_striker': 'CL White', 'runs': {'batsman': 0, 'extras': 0, 'total': 0}}}, {5.4: {'batsman': 'MV Boucher', 'bowler': 'AB Dinda', 'non_striker': 'CL White', 'runs': {'batsman': 1, 'extras': 0, 'total': 1}}}, {5.5: {'batsman': 'CL White', 'bowler': 'AB Dinda', 'non_striker': 'MV Boucher', 'runs': {'batsman': 1, 'extras': 0, 'total': 1}}}, {5.6: {'batsman': 'MV Boucher', 'bowler': 'AB Dinda', 'non_striker': 'CL White', 'runs': {'batsman': 0, 'extras': 0, 'total': 0}}}, {6.1: {'batsman': 'CL White', 'bowler': 'AB Agarkar', 'non_striker': 'MV Boucher', 'runs': {'batsman': 0, 'extras': 0, 'total': 0}}}, {6.2: {'batsman': 'CL White', 'bowler': 'AB Agarkar', 'non_striker': 'MV Boucher', 'runs': {'batsman': 0, 'extras': 0, 'total': 0}}}, {6.3: {'batsman': 'CL White', 'bowler': 'AB Agarkar', 'non_striker': 'MV Boucher', 'runs': {'batsman': 1, 'extras': 0, 'total': 1}}}, {6.4: {'batsman': 'MV Boucher', 'bowler': 'AB Agarkar', 'extras': {'wides': 1}, 'non_striker': 'CL White', 'runs': {'batsman': 0, 'extras': 1, 'total': 1}}}, {6.5: {'batsman': 'MV Boucher', 'bowler': 'AB Agarkar', 'extras': {'wides': 1}, 'non_striker': 'CL White', 'runs': {'batsman': 0, 'extras': 1, 'total': 1}}}, {6.6: {'batsman': 'MV Boucher', 'bowler': 'AB Agarkar', 'non_striker': 'CL White', 'runs': {'batsman': 0, 'extras': 0, 'total': 0}}}, {6.7: {'batsman': 'MV Boucher', 'bowler': 'AB Agarkar', 'non_striker': 'CL White', 'runs': {'batsman': 0, 'extras': 0, 'total': 0}}}, {6.8: {'batsman': 'MV Boucher', 'bowler': 'AB Agarkar', 'non_striker': 'CL White', 'runs': {'batsman': 4, 'extras': 0, 'total': 4}}}, {7.1: {'batsman': 'CL White', 'bowler': 'SC Ganguly', 'non_striker': 'MV Boucher', 'runs': {'batsman': 1, 'extras': 0, 'total': 1}}}, {7.2: {'batsman': 'MV Boucher', 'bowler': 'SC Ganguly', 'extras': {'legbyes': 1}, 'non_striker': 'CL White', 'runs': {'batsman': 0, 'extras': 1, 'total': 1}}}, {7.3: {'batsman': 'CL White', 'bowler': 'SC Ganguly', 'non_striker': 'MV Boucher', 'runs': {'batsman': 1, 'extras': 0, 'total': 1}}}, {7.4: {'batsman': 'MV Boucher', 'bowler': 'SC Ganguly', 'non_striker': 'CL White', 'runs': {'batsman': 2, 'extras': 0, 'total': 2}}}, {7.5: {'batsman': 'MV Boucher', 'bowler': 'SC Ganguly', 'non_striker': 'CL White', 'runs': {'batsman': 0, 'extras': 0, 'total': 0}, 'wicket': {'fielders': ['M Kartik'], 'kind': 'caught', 'player_out': 'MV Boucher'}}}, {7.6: {'batsman': 'CL White', 'bowler': 'SC Ganguly', 'non_striker': 'B Akhil', 'runs': {'batsman': 0, 'extras': 0, 'total': 0}}}, {8.1: {'batsman': 'B Akhil', 'bowler': 'AB Agarkar', 'non_striker': 'CL White', 'runs': {'batsman': 0, 'extras': 0, 'total': 0}}}, {8.2: {'batsman': 'B Akhil', 'bowler': 'AB Agarkar', 'non_striker': 'CL White', 'runs': {'batsman': 0, 'extras': 0, 'total': 0}, 'wicket': {'fielders': ['RT Ponting'], 'kind': 'caught', 'player_out': 'B Akhil'}}}, {8.3: {'batsman': 'AA Noffke', 'bowler': 'AB Agarkar', 'non_striker': 'CL White', 'runs': {'batsman': 0, 'extras': 0, 'total': 0}}}, {8.4: {'batsman': 'AA Noffke', 'bowler': 'AB Agarkar', 'extras': {'wides': 1}, 'non_striker': 'CL White', 'runs': {'batsman': 0, 'extras': 1, 'total': 1}}}, {8.5: {'batsman': 'AA Noffke', 'bowler': 'AB Agarkar', 'extras': {'wides': 1}, 'non_striker': 'CL White', 'runs': {'batsman': 0, 'extras': 1, 'total': 1}}}, {8.6: {'batsman': 'AA Noffke', 'bowler': 'AB Agarkar', 'non_striker': 'CL White', 'runs': {'batsman': 1, 'extras': 0, 'total': 1}}}, {8.7: {'batsman': 'CL White', 'bowler': 'AB Agarkar', 'non_striker': 'AA Noffke', 'runs': {'batsman': 2, 'extras': 0, 'total': 2}}}, {8.8: {'batsman': 'CL White', 'bowler': 'AB Agarkar', 'non_striker': 'AA Noffke', 'runs': {'batsman': 0, 'extras': 0, 'total': 0}, 'wicket': {'fielders': ['WP Saha'], 'kind': 'caught', 'player_out': 'CL White'}}}, {9.1: {'batsman': 'AA Noffke', 'bowler': 'SC Ganguly', 'non_striker': 'P Kumar', 'runs': {'batsman': 1, 'extras': 0, 'total': 1}}}, {9.2: {'batsman': 'P Kumar', 'bowler': 'SC Ganguly', 'non_striker': 'AA Noffke', 'runs': {'batsman': 0, 'extras': 0, 'total': 0}}}, {9.3: {'batsman': 'P Kumar', 'bowler': 'SC Ganguly', 'non_striker': 'AA Noffke', 'runs': {'batsman': 0, 'extras': 0, 'total': 0}}}, {9.4: {'batsman': 'P Kumar', 'bowler': 'SC Ganguly', 'extras': {'wides': 1}, 'non_striker': 'AA Noffke', 'runs': {'batsman': 0, 'extras': 1, 'total': 1}}}, {9.5: {'batsman': 'P Kumar', 'bowler': 'SC Ganguly', 'extras': {'legbyes': 1}, 'non_striker': 'AA Noffke', 'runs': {'batsman': 0, 'extras': 1, 'total': 1}}}, {9.6: {'batsman': 'AA Noffke', 'bowler': 'SC Ganguly', 'non_striker': 'P Kumar', 'runs': {'batsman': 4, 'extras': 0, 'total': 4}}}, {9.7: {'batsman': 'AA Noffke', 'bowler': 'SC Ganguly', 'non_striker': 'P Kumar', 'runs': {'batsman': 1, 'extras': 0, 'total': 1}}}, {10.1: {'batsman': 'AA Noffke', 'bowler': 'AB Agarkar', 'non_striker': 'P Kumar', 'runs': {'batsman': 0, 'extras': 0, 'total': 0}}}, {10.2: {'batsman': 'AA Noffke', 'bowler': 'AB Agarkar', 'non_striker': 'P Kumar', 'runs': {'batsman': 0, 'extras': 0, 'total': 0}}}, {10.3: {'batsman': 'AA Noffke', 'bowler': 'AB Agarkar', 'non_striker': 'P Kumar', 'runs': {'batsman': 0, 'extras': 0, 'total': 0}}}, {10.4: {'batsman': 'AA Noffke', 'bowler': 'AB Agarkar', 'non_striker': 'P Kumar', 'runs': {'batsman': 1, 'extras': 0, 'total': 1}}}, {10.5: {'batsman': 'P Kumar', 'bowler': 'AB Agarkar', 'non_striker': 'AA Noffke', 'runs': {'batsman': 4, 'extras': 0, 'total': 4}}}, {10.6: {'batsman': 'P Kumar', 'bowler': 'AB Agarkar', 'non_striker': 'AA Noffke', 'runs': {'batsman': 0, 'extras': 0, 'total': 0}}}, {11.1: {'batsman': 'AA Noffke', 'bowler': 'SC Ganguly', 'non_striker': 'P Kumar', 'runs': {'batsman': 1, 'extras': 0, 'total': 1}, 'wicket': {'fielders': ['AB Agarkar', 'WP Saha'], 'kind': 'run out', 'player_out': 'AA Noffke'}}}, {11.2: {'batsman': 'Z Khan', 'bowler': 'SC Ganguly', 'non_striker': 'P Kumar', 'runs': {'batsman': 0, 'extras': 0, 'total': 0}}}, {11.3: {'batsman': 'Z Khan', 'bowler': 'SC Ganguly', 'non_striker': 'P Kumar', 'runs': {'batsman': 0, 'extras': 0, 'total': 0}}}, {11.4: {'batsman': 'Z Khan', 'bowler': 'SC Ganguly', 'non_striker': 'P Kumar', 'runs': {'batsman': 1, 'extras': 0, 'total': 1}}}, {11.5: {'batsman': 'P Kumar', 'bowler': 'SC Ganguly', 'non_striker': 'Z Khan', 'runs': {'batsman': 0, 'extras': 0, 'total': 0}}}, {11.6: {'batsman': 'P Kumar', 'bowler': 'SC Ganguly', 'non_striker': 'Z Khan', 'runs': {'batsman': 1, 'extras': 0, 'total': 1}}}, {12.1: {'batsman': 'P Kumar', 'bowler': 'LR Shukla', 'non_striker': 'Z Khan', 'runs': {'batsman': 6, 'extras': 0, 'total': 6}}}, {12.2: {'batsman': 'P Kumar', 'bowler': 'LR Shukla', 'extras': {'wides': 2}, 'non_striker': 'Z Khan', 'runs': {'batsman': 0, 'extras': 2, 'total': 2}}}, {12.3: {'batsman': 'Z Khan', 'bowler': 'LR Shukla', 'non_striker': 'P Kumar', 'runs': {'batsman': 1, 'extras': 0, 'total': 1}}}, {12.4: {'batsman': 'P Kumar', 'bowler': 'LR Shukla', 'non_striker': 'Z Khan', 'runs': {'batsman': 1, 'extras': 0, 'total': 1}}}, {12.5: {'batsman': 'Z Khan', 'bowler': 'LR Shukla', 'non_striker': 'P Kumar', 'runs': {'batsman': 0, 'extras': 0, 'total': 0}}}, {12.6: {'batsman': 'Z Khan', 'bowler': 'LR Shukla', 'non_striker': 'P Kumar', 'runs': {'batsman': 0, 'extras': 0, 'total': 0}}}, {12.7: {'batsman': 'Z Khan', 'bowler': 'LR Shukla', 'non_striker': 'P Kumar', 'runs': {'batsman': 1, 'extras': 0, 'total': 1}}}, {13.1: {'batsman': 'Z Khan', 'bowler': 'SC Ganguly', 'non_striker': 'P Kumar', 'runs': {'batsman': 0, 'extras': 0, 'total': 0}, 'wicket': {'kind': 'bowled', 'player_out': 'Z Khan'}}}, {13.2: {'batsman': 'SB Joshi', 'bowler': 'SC Ganguly', 'non_striker': 'P Kumar', 'runs': {'batsman': 1, 'extras': 0, 'total': 1}}}, {13.3: {'batsman': 'P Kumar', 'bowler': 'SC Ganguly', 'non_striker': 'SB Joshi', 'runs': {'batsman': 0, 'extras': 0, 'total': 0}}}, {13.4: {'batsman': 'P Kumar', 'bowler': 'SC Ganguly', 'non_striker': 'SB Joshi', 'runs': {'batsman': 0, 'extras': 0, 'total': 0}}}, {13.5: {'batsman': 'P Kumar', 'bowler': 'SC Ganguly', 'non_striker': 'SB Joshi', 'runs': {'batsman': 0, 'extras': 0, 'total': 0}}}, {13.6: {'batsman': 'P Kumar', 'bowler': 'SC Ganguly', 'non_striker': 'SB Joshi', 'runs': {'batsman': 6, 'extras': 0, 'total': 6}}}, {14.1: {'batsman': 'SB Joshi', 'bowler': 'I Sharma', 'extras': {'wides': 1}, 'non_striker': 'P Kumar', 'runs': {'batsman': 0, 'extras': 1, 'total': 1}}}, {14.2: {'batsman': 'SB Joshi', 'bowler': 'I Sharma', 'non_striker': 'P Kumar', 'runs': {'batsman': 0, 'extras': 0, 'total': 0}}}, {14.3: {'batsman': 'SB Joshi', 'bowler': 'I Sharma', 'non_striker': 'P Kumar', 'runs': {'batsman': 0, 'extras': 0, 'total': 0}}}, {14.4: {'batsman': 'SB Joshi', 'bowler': 'I Sharma', 'non_striker': 'P Kumar', 'runs': {'batsman': 1, 'extras': 0, 'total': 1}}}, {14.5: {'batsman': 'P Kumar', 'bowler': 'I Sharma', 'extras': {'legbyes': 1}, 'non_striker': 'SB Joshi', 'runs': {'batsman': 0, 'extras': 1, 'total': 1}}}, {14.6: {'batsman': 'SB Joshi', 'bowler': 'I Sharma', 'non_striker': 'P Kumar', 'runs': {'batsman': 1, 'extras': 0, 'total': 1}}}, {14.7: {'batsman': 'P Kumar', 'bowler': 'I Sharma', 'non_striker': 'SB Joshi', 'runs': {'batsman': 0, 'extras': 0, 'total': 0}}}, {15.1: {'batsman': 'SB Joshi', 'bowler': 'LR Shukla', 'extras': {'wides': 1}, 'non_striker': 'P Kumar', 'runs': {'batsman': 0, 'extras': 1, 'total': 1}}}, {15.2: {'batsman': 'SB Joshi', 'bowler': 'LR Shukla', 'non_striker': 'P Kumar', 'runs': {'batsman': 0, 'extras': 0, 'total': 0}, 'wicket': {'fielders': ['BB McCullum'], 'kind': 'caught', 'player_out': 'SB Joshi'}}}]}}]}\n"
          ],
          "name": "stdout"
        }
      ]
    },
    {
      "cell_type": "markdown",
      "metadata": {
        "id": "iNlcBp3Nt4pA"
      },
      "source": [
        "Now let's find answers to some prilminary questions such as "
      ]
    },
    {
      "cell_type": "markdown",
      "metadata": {
        "id": "fEnG1WYyt4pB"
      },
      "source": [
        "### Can you guess the data type with which your working on ?"
      ]
    },
    {
      "cell_type": "markdown",
      "metadata": {
        "id": "GzssFybnS3rH"
      },
      "source": [
        "We are working with a nested dictionary"
      ]
    },
    {
      "cell_type": "markdown",
      "metadata": {
        "id": "N_eRQZSWt4pC"
      },
      "source": [
        "### In which city the match was played and where was it played ?"
      ]
    },
    {
      "cell_type": "code",
      "metadata": {
        "id": "PrPNLfdkt4pC",
        "colab": {
          "base_uri": "https://localhost:8080/"
        },
        "outputId": "828b0e16-c0fc-457f-e0ce-3da397851a6e"
      },
      "source": [
        "c=data['info']['city']\n",
        "print(\"The City Where The Match Is Being Played:\",c)\n"
      ],
      "execution_count": null,
      "outputs": [
        {
          "output_type": "stream",
          "text": [
            "The City Where The Match Is Being Played: Bangalore\n",
            "The Venue Where The Match Is Being Played: M Chinnaswamy Stadium\n"
          ],
          "name": "stdout"
        }
      ]
    },
    {
      "cell_type": "code",
      "metadata": {
        "id": "BQeVv4W3t4pD",
        "colab": {
          "base_uri": "https://localhost:8080/"
        },
        "outputId": "17760043-e53c-445c-f41a-58193a7d79ff"
      },
      "source": [
        "ven=data['info']['venue']\n",
        "print(\"The Venue Where The Match Is Being Played:\",ven)"
      ],
      "execution_count": null,
      "outputs": [
        {
          "output_type": "stream",
          "text": [
            "The Venue Where The Match Is Being Played: M Chinnaswamy Stadium\n"
          ],
          "name": "stdout"
        }
      ]
    },
    {
      "cell_type": "markdown",
      "metadata": {
        "id": "ijiqcACJt4pD"
      },
      "source": [
        "### Which are all the teams that played in the tournament ? How many teams participated  in total?"
      ]
    },
    {
      "cell_type": "code",
      "metadata": {
        "id": "NRnK7u-Et4pE",
        "colab": {
          "base_uri": "https://localhost:8080/"
        },
        "outputId": "58bc3cea-7a21-45b0-ad2d-169e56df820d"
      },
      "source": [
        "t=data['info']['teams']\n",
        "print(\"The Teams Participating: {} , {}\".format(t[0],t[1]))\n",
        "print(\"The Number Of Teams Participating:\",len(t))"
      ],
      "execution_count": null,
      "outputs": [
        {
          "output_type": "stream",
          "text": [
            "The Teams Participating: Royal Challengers Bangalore , Kolkata Knight Riders\n",
            "The Number Of Teams Participating: 2\n"
          ],
          "name": "stdout"
        }
      ]
    },
    {
      "cell_type": "markdown",
      "metadata": {
        "id": "vY84rYFdt4pF"
      },
      "source": [
        "### Which team won the toss and what was the decision of toss winner ?"
      ]
    },
    {
      "cell_type": "code",
      "metadata": {
        "id": "chFBb1Tft4pF",
        "colab": {
          "base_uri": "https://localhost:8080/"
        },
        "outputId": "7bd6c6d3-2878-467c-801b-3f097d33be8e"
      },
      "source": [
        "tw=data['info']['toss']['winner']\n",
        "td=data['info']['toss']['decision']\n",
        "print(\"The Team That Won The Toss:\",tw)\n",
        "print(\"The Decision Of The Toss Winner:\",td)"
      ],
      "execution_count": null,
      "outputs": [
        {
          "output_type": "stream",
          "text": [
            "The Team That Won The Toss: Royal Challengers Bangalore\n",
            "The Decision Of The Toss Winner: field\n"
          ],
          "name": "stdout"
        }
      ]
    },
    {
      "cell_type": "markdown",
      "metadata": {
        "id": "0QIpEvUvt4pF"
      },
      "source": [
        "### Find the first bowler who played the first ball of the first inning. Also the first batsman who faced first delivery ?"
      ]
    },
    {
      "cell_type": "code",
      "metadata": {
        "id": "xLEj1KRWt4pG",
        "colab": {
          "base_uri": "https://localhost:8080/"
        },
        "outputId": "da7eb3c0-c43d-4131-c0d9-2f58cef413fc"
      },
      "source": [
        "firstballer=data['innings'][0]['1st innings']['deliveries'][0][0.1]['bowler']\n",
        "print(\"The Bowler, Bowling The First Ball Of The First Inning:\",firstballer)\n",
        "firstbatsman=data['innings'][0]['1st innings']['deliveries'][0][0.1]['batsman']\n",
        "print(\"The Batsman Facing The First Delivery:\",firstbatsman)"
      ],
      "execution_count": null,
      "outputs": [
        {
          "output_type": "stream",
          "text": [
            "The Bowler, Bowling The First Ball Of The First Inning: P Kumar\n",
            "The Batsman Facing The First Delivery: SC Ganguly\n"
          ],
          "name": "stdout"
        }
      ]
    },
    {
      "cell_type": "markdown",
      "metadata": {
        "id": "BH9SCu_At4pG"
      },
      "source": [
        "### How many deliveries were delivered in first inning ?"
      ]
    },
    {
      "cell_type": "code",
      "metadata": {
        "id": "YdbLY804t4pH",
        "colab": {
          "base_uri": "https://localhost:8080/"
        },
        "outputId": "bb930026-5bdf-4f74-a337-6baa25c46e64"
      },
      "source": [
        "## Does this come out to be more than 120 if yes then why ?\n",
        "nb=len(data['innings'][0]['1st innings']['deliveries'])\n",
        "print('The Number Of Deliveries Delivered In The First Inning:',nb)\n",
        "#Yes, This comes out to be more than 120 because of 4 extra deliveries conceded by the bowling team in the form of wides or no balls"
      ],
      "execution_count": null,
      "outputs": [
        {
          "output_type": "stream",
          "text": [
            "124\n"
          ],
          "name": "stdout"
        }
      ]
    },
    {
      "cell_type": "markdown",
      "metadata": {
        "id": "UpdUPqMmt4pH"
      },
      "source": [
        "### How many deliveries were delivered in second inning ?"
      ]
    },
    {
      "cell_type": "code",
      "metadata": {
        "id": "_qPK9FVTt4pI",
        "colab": {
          "base_uri": "https://localhost:8080/"
        },
        "outputId": "1a74175c-de3c-4c25-d30d-7519289ded7a"
      },
      "source": [
        "## Does this come out to be less or greater than 120 then what's your thought process behind it ?\n",
        "nb2=len(data['innings'][1]['2nd innings']['deliveries'])\n",
        "print(\"The Number Of Deliveries Bowled In The Second Inning\",nb2)\n",
        "#This comes out to be less than 120, this is because RCB lost all of their wickets in 101 balls"
      ],
      "execution_count": null,
      "outputs": [
        {
          "output_type": "stream",
          "text": [
            "101\n"
          ],
          "name": "stdout"
        }
      ]
    },
    {
      "cell_type": "markdown",
      "metadata": {
        "id": "sNVsbYqlt4pJ"
      },
      "source": [
        "### Which team won and how ?\n"
      ]
    },
    {
      "cell_type": "code",
      "metadata": {
        "id": "qh9HjPkCt4pK",
        "colab": {
          "base_uri": "https://localhost:8080/"
        },
        "outputId": "0d88c0e8-ebc7-40cd-d38c-ad65f80e6cb5"
      },
      "source": [
        "## see if the guess of the students is right did they infer it correctly\n",
        "winner=data['info']['outcome']['winner']\n",
        "wonby=data['info']['outcome']['by']['runs']\n",
        "print('{} won by {} runs'.format(winner,wonby))\n",
        "#They won because they bowled out the RCB team before they could reach the target of runs set by KKR"
      ],
      "execution_count": null,
      "outputs": [
        {
          "output_type": "stream",
          "text": [
            "Kolkata Knight Riders won by 140 runs\n"
          ],
          "name": "stdout"
        }
      ]
    }
  ]
}