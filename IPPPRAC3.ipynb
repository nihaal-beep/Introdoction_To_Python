{
  "nbformat": 4,
  "nbformat_minor": 0,
  "metadata": {
    "colab": {
      "name": "IPPPRAC3",
      "provenance": []
    },
    "kernelspec": {
      "name": "python3",
      "display_name": "Python 3"
    }
  },
  "cells": [
    {
      "cell_type": "markdown",
      "metadata": {
        "id": "MADQKlWiWotu"
      },
      "source": [
        "Task 1:   \n",
        "\n",
        "A shop will give a discount of 10% if the cost of the purchased quantity is more than 1000. \n",
        "\n",
        "One unit will cost 100. Write a program to take quantity as input from the user and print the total cost for the user. "
      ]
    },
    {
      "cell_type": "code",
      "metadata": {
        "colab": {
          "base_uri": "https://localhost:8080/"
        },
        "id": "tzVbKmVOVCHL",
        "outputId": "e5331dff-26a0-4d28-9758-2cfde62b8f61"
      },
      "source": [
        "quant=int(input(\"THE QUANTITY OF PURCHASED UNITS: \"))\n",
        "cost= quant*100\n",
        "if(cost>1000):\n",
        "  cost= cost-(cost/10)\n",
        "print (\"THE TOTAL COST IS : {}\".format(cost))  "
      ],
      "execution_count": null,
      "outputs": [
        {
          "output_type": "stream",
          "text": [
            "THE QUANTITY OF PURCHASED UNITS: 11\n",
            "THE TOTAL COST IS : 990.0\n"
          ],
          "name": "stdout"
        }
      ]
    },
    {
      "cell_type": "markdown",
      "metadata": {
        "id": "MN3nSMNMWwCU"
      },
      "source": [
        " \n",
        "\n",
        "Task 2:   \n",
        "\n",
        "A school has the following rules for the grading system: \n",
        "\n",
        "Below 25 - F \n",
        "\n",
        "25 to 45 - E \n",
        "\n",
        "45 to 50 - D \n",
        "\n",
        "50 to 60 - C \n",
        "\n",
        "60 to 80 - B \n",
        "\n",
        "Above 80 - A \n",
        "\n",
        "Ask the user to enter marks and print the corresponding grade. "
      ]
    },
    {
      "cell_type": "code",
      "metadata": {
        "colab": {
          "base_uri": "https://localhost:8080/"
        },
        "id": "TcdMVoE8WzHs",
        "outputId": "8eed52c4-7335-4e09-cb10-605cfa408edb"
      },
      "source": [
        "marks= float(input(\"ENTER YOUR MARKS: \"))\n",
        "if(marks<25):\n",
        "  grade = 'F'\n",
        "elif (marks <=45):\n",
        "  grade = 'E'\n",
        "elif (marks<=50):\n",
        "  grade='D'\n",
        "elif (marks<=60):\n",
        "  grade='C'\n",
        "elif (marks<=80):\n",
        "  grade='B'\n",
        "elif (marks>80):\n",
        "  grade=\"A\"\n",
        "print (\"YOUR GRADE IS: {}\".format(grade))            "
      ],
      "execution_count": null,
      "outputs": [
        {
          "output_type": "stream",
          "text": [
            "ENTER YOUR MARKS: 75\n",
            "YOUR GRADE IS: B\n"
          ],
          "name": "stdout"
        }
      ]
    },
    {
      "cell_type": "markdown",
      "metadata": {
        "id": "PbLqXN9lYQHt"
      },
      "source": [
        "Task 3:   \n",
        "\n",
        " \n",
        "\n",
        "Ask users to enter age, gender ( M or F ), marital status ( Y or N ), and then using the following rules print their place of service. \n",
        "\n",
        "If the employee is female, then she will work only in urban areas. \n",
        "\n",
        "If an employee is a male and age is between 20 to 40 then he may work anywhere \n",
        "\n",
        "If the employee is male and the age is between 40 to 60 then he will work in urban areas only. \n",
        "\n",
        "And any other input of age should print \"ERROR\". "
      ]
    },
    {
      "cell_type": "code",
      "metadata": {
        "colab": {
          "base_uri": "https://localhost:8080/"
        },
        "id": "8psdcFcEYTBj",
        "outputId": "19355d4e-b4df-4ce8-800f-f97b09703608"
      },
      "source": [
        "age=int(input(\"ENTER YOUR AGE: \"))\n",
        "gen=input(\"ENTER YOUR GENDER M OR F: \")\n",
        "mar=input(\"ENTER Y IF YOU ARE MARRIED OR N IF NOT MARRIED: \")\n",
        "workplace=''\n",
        "if(gen=='F'):\n",
        "  workplace='urban'\n",
        "elif(gen==\"M\" and 20<age<=40):\n",
        "  workplace =\"anywhere\"\n",
        "elif(gen==\"M\" and 40<age<60 ):\n",
        "  workplace=\"urban\"\n",
        "else:\n",
        "  print(\"ERROR\")\n",
        "if(workplace!=''):\n",
        "  print(\"THE WORKPLACE IS: {}\".format(workplace))\n"
      ],
      "execution_count": null,
      "outputs": [
        {
          "output_type": "stream",
          "text": [
            "ENTER YOUR AGE: 12\n",
            "ENTER YOUR GENDER M OR F: M\n",
            "ENTER Y IF YOU ARE MARRIED OR N IF NOT MARRIED: N\n",
            "ERROR\n"
          ],
          "name": "stdout"
        }
      ]
    },
    {
      "cell_type": "markdown",
      "metadata": {
        "id": "4CubBFz4b5sr"
      },
      "source": [
        " \n",
        "\n",
        "Task 4:  \n",
        "\n",
        "Write a program to print BMI (Body Mass Index), calculator. "
      ]
    },
    {
      "cell_type": "code",
      "metadata": {
        "colab": {
          "base_uri": "https://localhost:8080/"
        },
        "id": "s0au7gRHb63s",
        "outputId": "164aebe7-22a8-487b-865e-5ae3bf61a972"
      },
      "source": [
        "bmi=float(input(\"ENTER YOUR BMI: \"))\n",
        "if(bmi<18.5):\n",
        "  val='underweight'\n",
        "elif(bmi<=25):\n",
        "  val='normal'\n",
        "elif(bmi<=30):\n",
        "  val='overweight'\n",
        "elif(bmi>30):\n",
        "  val='obese'\n",
        "print (\"YOU ARE: {}\".format(val))"
      ],
      "execution_count": null,
      "outputs": [
        {
          "output_type": "stream",
          "text": [
            "ENTER YOUR BMI: 31\n",
            "YOU ARE: obese\n"
          ],
          "name": "stdout"
        }
      ]
    },
    {
      "cell_type": "markdown",
      "metadata": {
        "id": "rPg3QNnofGAu"
      },
      "source": [
        "Task 5:   \n",
        "\n",
        "Write a program to get the next day of a given date.(Also consider leap year) \n",
        "\n",
        "Expected Output : Given date : 25-02-2021 then next day is 26-02-2021. "
      ]
    },
    {
      "cell_type": "code",
      "metadata": {
        "colab": {
          "base_uri": "https://localhost:8080/"
        },
        "id": "1kKF5O1FfJd-",
        "outputId": "fe4660ac-1ee1-487c-b4b2-d36d72091bb6"
      },
      "source": [
        "day=int(input(\"ENTER THE DAY: \"))\n",
        "month=int(input(\"ENTER THE MONTH: \"))\n",
        "year=int(input(\"ENTER THE YEAR: \"))\n",
        "if(year%4==0):\n",
        "  if(year%100==0):\n",
        "    if(year%400==0):\n",
        "      cond=1\n",
        "    else:\n",
        "      cond=0\n",
        "  else:\n",
        "    cond=1\n",
        "else:\n",
        "  cond=0\n",
        "\n",
        "l30=[4,6,9,11]\n",
        "l31=[1,3,5,7,8,10,12]\n",
        "if (month in l30):\n",
        "  if(day<30):\n",
        "    day+=1\n",
        "  else:\n",
        "    day=1\n",
        "    month+=1  \n",
        "elif(month in l31):\n",
        "  if(day<31):\n",
        "    day+=1\n",
        "  elif(month<12):\n",
        "    month+=1\n",
        "    day=1\n",
        "  else:\n",
        "    year+=1\n",
        "    month=1\n",
        "    day=1\n",
        "else:\n",
        "  if(cond==0):\n",
        "    if(day<28):\n",
        "      day+=1\n",
        "    else:\n",
        "      day=1\n",
        "      month+=1\n",
        "  elif(cond==1):\n",
        "    if(day<29):\n",
        "      day+=1\n",
        "    else:\n",
        "      month+=1\n",
        "      day=1\n",
        "print(\"{}-{}-{}\".format(day,month,year))"
      ],
      "execution_count": null,
      "outputs": [
        {
          "output_type": "stream",
          "text": [
            "ENTER THE DAY: 29\n",
            "ENTER THE MONTH: 2\n",
            "ENTER THE YEAR: 2000\n",
            "1-3-2000\n"
          ],
          "name": "stdout"
        }
      ]
    },
    {
      "cell_type": "markdown",
      "metadata": {
        "id": "Jf0EJuPlgMOW"
      },
      "source": [
        "Task 6 :  \n",
        "\n",
        "Write a program to print Odd and Even numbers from the list of integers. Create 2 empty lists to save even and odd numbers accordingly. "
      ]
    },
    {
      "cell_type": "code",
      "metadata": {
        "colab": {
          "base_uri": "https://localhost:8080/"
        },
        "id": "h4hX4mpagPaR",
        "outputId": "1f58ddd8-e314-441f-ca66-1a9f61a3be23"
      },
      "source": [
        "even=[]\n",
        "odd=[]\n",
        "l=[1,2,3,4,5,6,7,8,9,10,11,12,13]\n",
        "for i in l :\n",
        "  if (i%2==0):\n",
        "    even.append(i)\n",
        "  else:\n",
        "    odd.append(i)\n",
        "print(\"even list: {}\".format(even))\n",
        "print(\"odd list: {}\".format(odd))\n"
      ],
      "execution_count": null,
      "outputs": [
        {
          "output_type": "stream",
          "text": [
            "even list: [2, 4, 6, 8, 10, 12]\n",
            "odd list: [1, 3, 5, 7, 9, 11, 13]\n"
          ],
          "name": "stdout"
        }
      ]
    },
    {
      "cell_type": "markdown",
      "metadata": {
        "id": "O8gbf08ikTGp"
      },
      "source": [
        "Task 7 : \n",
        "\n",
        "Write a program to check the user entered number is an Armstrong Number. "
      ]
    },
    {
      "cell_type": "code",
      "metadata": {
        "colab": {
          "base_uri": "https://localhost:8080/"
        },
        "id": "_ocC7OWgkZOs",
        "outputId": "4fde584f-6ae8-4534-94be-e6ed849f15af"
      },
      "source": [
        "no=input(\"ENTER THE NUMBER TO BE CHECKED: \")\n",
        "l=len(no)\n",
        "sum=0\n",
        "for i in no:\n",
        "  sum=sum+int(i)**l\n",
        "if(sum==int(no)):\n",
        "  print(\"IT IS AN ARMSTRONG NUMBER\")\n",
        "else:\n",
        "  print(\"IT IS NOT AN ARMSTRONG NUMBER\")\n"
      ],
      "execution_count": null,
      "outputs": [
        {
          "output_type": "stream",
          "text": [
            "ENTER THE NUMBER TO BE CHECKED: 1634\n",
            "IT IS AN ARMSTRONG NUMBER\n"
          ],
          "name": "stdout"
        }
      ]
    },
    {
      "cell_type": "markdown",
      "metadata": {
        "id": "3VbqER7voPed"
      },
      "source": [
        "Task 8 :  \n",
        "\n",
        "Write a program to print out the decimal equivalents of 1/2,1/3,1/4,…1/10. \n",
        "\n",
        "Expected Output: 0.5, 0.333, 0.25………..0.125, 0.1 "
      ]
    },
    {
      "cell_type": "code",
      "metadata": {
        "colab": {
          "base_uri": "https://localhost:8080/"
        },
        "id": "vakU28VvoRmW",
        "outputId": "da9fcfb4-63db-4d36-b47e-c529671f2bab"
      },
      "source": [
        "for i in range(2,11):\n",
        "  print(1/i)"
      ],
      "execution_count": null,
      "outputs": [
        {
          "output_type": "stream",
          "text": [
            "0.5\n",
            "0.3333333333333333\n",
            "0.25\n",
            "0.2\n",
            "0.16666666666666666\n",
            "0.14285714285714285\n",
            "0.125\n",
            "0.1111111111111111\n",
            "0.1\n"
          ],
          "name": "stdout"
        }
      ]
    },
    {
      "cell_type": "markdown",
      "metadata": {
        "id": "iCqbZy-wpI3Q"
      },
      "source": [
        "Task 9: \n",
        "\n",
        "Write a program to count the number of even and odd numbers from a series of numbers. \n",
        "\n",
        "(Initialize Tuple ) "
      ]
    },
    {
      "cell_type": "code",
      "metadata": {
        "colab": {
          "base_uri": "https://localhost:8080/"
        },
        "id": "e3b9NuKupDCB",
        "outputId": "9c67b301-ad30-4db0-8256-0cd5b65d0d9e"
      },
      "source": [
        "tup=(1,2,3,4,5,6,7,10,15,19,22)\n",
        "ce=0\n",
        "co=0\n",
        "for i in tup:\n",
        "  if (i%2==0):\n",
        "    ce=ce+1\n",
        "  else:\n",
        "    co=co+1\n",
        "print('THE COUNT FOR EVEN NUMBERS IS: {}'.format(ce))\n",
        "print(\"THE COUNT FOR ODD NUMBERS IS: {}\".format(co))"
      ],
      "execution_count": null,
      "outputs": [
        {
          "output_type": "stream",
          "text": [
            "THE COUNT FOR EVEN NUMBERS IS: 5\n",
            "THE COUNT FOR ODD NUMBERS IS: 6\n"
          ],
          "name": "stdout"
        }
      ]
    },
    {
      "cell_type": "markdown",
      "metadata": {
        "id": "Pz43zE1jqcaR"
      },
      "source": [
        "Task 10: \n",
        "\n",
        "Write a program to display the multiplication table of 19. \n",
        "\n",
        "Expected Output: 19 * 1 = 19…19 * 10 = 190 "
      ]
    },
    {
      "cell_type": "code",
      "metadata": {
        "colab": {
          "base_uri": "https://localhost:8080/"
        },
        "id": "mLUeFOb0qfUa",
        "outputId": "c81b1bd9-e5d7-45b1-f03a-ad15d4527a4b"
      },
      "source": [
        "for i in range(1,11):\n",
        "  mult= 19 *i\n",
        "  print(\"19 * {} = {}\".format(i,mult))"
      ],
      "execution_count": null,
      "outputs": [
        {
          "output_type": "stream",
          "text": [
            "19 * 1 = 19\n",
            "19 * 2 = 38\n",
            "19 * 3 = 57\n",
            "19 * 4 = 76\n",
            "19 * 5 = 95\n",
            "19 * 6 = 114\n",
            "19 * 7 = 133\n",
            "19 * 8 = 152\n",
            "19 * 9 = 171\n",
            "19 * 10 = 190\n"
          ],
          "name": "stdout"
        }
      ]
    },
    {
      "cell_type": "markdown",
      "metadata": {
        "id": "EMoRwDh5q7L4"
      },
      "source": [
        "Task 11: \n",
        "\n",
        "Write a program to print the sum of the Series 1 + x/1 + x^2/2 + x^3/3 + .. + x^n/n. \n",
        "\n",
        "Test Case 1 : x = 3, n = 5→ sum = 86.35 \n",
        "\n",
        "Test Case 2 : x = 5, n = 3→ sum = 60.17 "
      ]
    },
    {
      "cell_type": "code",
      "metadata": {
        "colab": {
          "base_uri": "https://localhost:8080/"
        },
        "id": "ZX9XyvKxq_8-",
        "outputId": "15796d58-c952-49f2-a0a3-466de84ab1d0"
      },
      "source": [
        "x=int(input(\"ENTER THE VALUE OF x: \"))\n",
        "n=int(input(\"ENTER THE VALUE OF n: \"))\n",
        "sum=1\n",
        "for i in range(1,n+1):\n",
        "  sum+=((x**i)/i) \n",
        "print (sum)"
      ],
      "execution_count": null,
      "outputs": [
        {
          "output_type": "stream",
          "text": [
            "ENTER THE VALUE OF x: 5\n",
            "ENTER THE VALUE OF n: 3\n",
            "60.166666666666664\n"
          ],
          "name": "stdout"
        }
      ]
    },
    {
      "cell_type": "markdown",
      "metadata": {
        "id": "3yGoBDausAbd"
      },
      "source": [
        "\n",
        "Task 12: \n",
        "\n",
        "Write a program to get the Fibonacci series between 0 to 100.  "
      ]
    },
    {
      "cell_type": "code",
      "metadata": {
        "colab": {
          "base_uri": "https://localhost:8080/"
        },
        "id": "VHd40r0QsJ-g",
        "outputId": "ae42463e-c931-455d-f96c-08d1740f9b6a"
      },
      "source": [
        "num1=0\n",
        "num2=1\n",
        "num3=0\n",
        "while (num3<101):\n",
        "  print(num3)\n",
        "  num1=num2\n",
        "  num2=num3\n",
        "  num3=num1+num2\n"
      ],
      "execution_count": null,
      "outputs": [
        {
          "output_type": "stream",
          "text": [
            "0\n",
            "1\n",
            "1\n",
            "2\n",
            "3\n",
            "5\n",
            "8\n",
            "13\n",
            "21\n",
            "34\n",
            "55\n",
            "89\n"
          ],
          "name": "stdout"
        }
      ]
    },
    {
      "cell_type": "markdown",
      "metadata": {
        "id": "hUj_SK8vuoo5"
      },
      "source": [
        "Task 13:  \n",
        "\n",
        "Write a program to print digits in reverse order of a number. "
      ]
    },
    {
      "cell_type": "code",
      "metadata": {
        "colab": {
          "base_uri": "https://localhost:8080/"
        },
        "id": "dhWrpa3uu753",
        "outputId": "1d1b4a2d-7a8c-407c-b0aa-f4ec6acd207e"
      },
      "source": [
        "no=input(\"ENTER THE NUMBRER TO BE REVERSED: \")\n",
        "l=len(no)\n",
        "sum=\"\"\n",
        "for i in no:\n",
        "  sum=i+sum\n",
        "print (\"THE REVERSED NUMBER IS: {}\".format(sum)) "
      ],
      "execution_count": null,
      "outputs": [
        {
          "output_type": "stream",
          "text": [
            "ENTER THE NUMBRER TO BE REVERSED: 15793\n",
            "THE REVERSED NUMBER IS: 39751\n"
          ],
          "name": "stdout"
        }
      ]
    },
    {
      "cell_type": "markdown",
      "metadata": {
        "id": "ntRk4WxqwR6n"
      },
      "source": [
        ""
      ]
    }
  ]
}