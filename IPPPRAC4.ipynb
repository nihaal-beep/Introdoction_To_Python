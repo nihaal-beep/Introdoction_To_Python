{
  "nbformat": 4,
  "nbformat_minor": 0,
  "metadata": {
    "colab": {
      "name": "IPPPRAC4",
      "provenance": [],
      "collapsed_sections": []
    },
    "kernelspec": {
      "display_name": "Python 3",
      "name": "python3"
    }
  },
  "cells": [
    {
      "cell_type": "markdown",
      "metadata": {
        "id": "GU25k_OTYPqz"
      },
      "source": [
        "Task 1:   \n",
        "\n",
        "Write a Python program to display all the prime numbers between any two numbers taken from the user. "
      ]
    },
    {
      "cell_type": "code",
      "metadata": {
        "colab": {
          "base_uri": "https://localhost:8080/"
        },
        "id": "n0vziN1NYLHu",
        "outputId": "09259bc4-22cc-48f5-8025-6838fef59c27"
      },
      "source": [
        "ll=int(input(\"ENTER THE LOWER LIMIT: \"))\n",
        "ul=int(input(\"ENTER THE UPPER LIMIT: \"))\n",
        "prime=[]\n",
        "test=0\n",
        "for i in range(ll,ul+1):\n",
        "  ul2= int(i/2 )\n",
        "  if(i<=2):\n",
        "    continue\n",
        "  for j in range(2,ul2+1):\n",
        "    if (i%j==0):\n",
        "      test=1\n",
        "      break\n",
        "    else:\n",
        "      test=0\n",
        "  if (test!=1):\n",
        "    prime.append(i)\n",
        "print (prime)"
      ],
      "execution_count": null,
      "outputs": [
        {
          "output_type": "stream",
          "text": [
            "ENTER THE LOWER LIMIT: 1\n",
            "ENTER THE UPPER LIMIT: 10\n",
            "[3, 5, 7]\n"
          ],
          "name": "stdout"
        }
      ]
    },
    {
      "cell_type": "markdown",
      "metadata": {
        "id": "tCby96YFbPnV"
      },
      "source": [
        "Task 2:   \n",
        "\n",
        "Write a program to check whether a user-entered number is a Perfect Number. "
      ]
    },
    {
      "cell_type": "code",
      "metadata": {
        "colab": {
          "base_uri": "https://localhost:8080/"
        },
        "id": "Vo9Hd25ZbS2x",
        "outputId": "d03408ca-29f5-42a5-8eb5-73155f794cbe"
      },
      "source": [
        "num=int(input('ENTER THE NUMBER TO BE CHECKED: '))\n",
        "sum=0\n",
        "for i in range (1,num):\n",
        "  if (num%i==0):\n",
        "    sum+=i\n",
        "if (sum==num):\n",
        "  print(\"PERFECT NUMBER\")\n",
        "else:\n",
        "  print(\"NOT PERFECT NUMBER\")    "
      ],
      "execution_count": null,
      "outputs": [
        {
          "output_type": "stream",
          "text": [
            "ENTER THE NUMBER TO BE CHECKED: 490\n",
            "NOT PERFECT NUMBER\n"
          ],
          "name": "stdout"
        }
      ]
    },
    {
      "cell_type": "markdown",
      "metadata": {
        "id": "dx4LP4iHdhEI"
      },
      "source": [
        "Task 3:  \n",
        "\n",
        "Write a program that generates a random number (0-10) and ask the user to guess it. The user will have three asserts. \n",
        "\n",
        "If they guess correctly, print 'You win!' else ‘You Lose!’ "
      ]
    },
    {
      "cell_type": "code",
      "metadata": {
        "colab": {
          "base_uri": "https://localhost:8080/"
        },
        "id": "wWijhGDDdjsn",
        "outputId": "04541b7a-e8ac-474e-935e-c5c45a3e0e54"
      },
      "source": [
        "import random\n",
        "r = random.randint(0,10)\n",
        "test=0\n",
        "for i in range(3):\n",
        "  user=int(input(\"GUESS A NUMBER FROM 0 TO 10: \"))\n",
        "  if(user==r):\n",
        "    print(\"YOU WIN!\")\n",
        "    test=1\n",
        "    break\n",
        "if test==0:\n",
        "  print(\"YOU LOSE!\") "
      ],
      "execution_count": null,
      "outputs": [
        {
          "output_type": "stream",
          "text": [
            "4\n",
            "GUESS A NUMBER FROM 0 TO 10: 3\n",
            "GUESS A NUMBER FROM 0 TO 10: 4\n",
            "YOU WIN!\n"
          ],
          "name": "stdout"
        }
      ]
    },
    {
      "cell_type": "markdown",
      "metadata": {
        "id": "U-pDVDvxebZQ"
      },
      "source": [
        "Task 4:   \n",
        "\n",
        "Accept two strings 'string1' and 'string2' as an input from the user. Generate a resultant string, such that it is a concatenated string of all upper case alphabets from both the strings in the order they appear. Print the actual and the resultant strings. \n",
        "\n",
        "Note: Each character should be checked if it is an upper case alphabet and then it should be concatenated to the resultant string. \n",
        "\n",
        "Sample Input: string1: Alan likes Java <br>\n",
        "              string 2: Mary Likes Python <br>\n",
        "Output: AJMLP \n"
      ]
    },
    {
      "cell_type": "code",
      "metadata": {
        "colab": {
          "base_uri": "https://localhost:8080/"
        },
        "id": "EhlrlUr6emSG",
        "outputId": "8d261e19-c7c3-4970-8ff9-8d4ee1c2b380"
      },
      "source": [
        "string1=input(\"string1: \")\n",
        "string2=input(\"string2: \")\n",
        "string3= string1+string2\n",
        "string4=\" \"\n",
        "for i in string3:\n",
        "  if i.isupper():\n",
        "    string4+=i\n",
        "print(\"Output:\",string4)"
      ],
      "execution_count": null,
      "outputs": [
        {
          "output_type": "stream",
          "text": [
            "string1: aaAAgs\n",
            "string2: BCdeFg\n",
            "Output:  AABCF\n"
          ],
          "name": "stdout"
        }
      ]
    },
    {
      "cell_type": "markdown",
      "metadata": {
        "id": "aNw0EhV2hGNy"
      },
      "source": [
        " \n",
        "\n",
        "Task 5 :  \n",
        "\n",
        "Given a string containing both upper and lower case alphabets. Write a Python program to count the number of occurrences of each alphabet (case insensitive) and display the same. \n",
        "\n",
        "Sample Input: ABaBCbGc \n",
        "\n",
        "Sample Output:2A 3B 2C 1G "
      ]
    },
    {
      "cell_type": "code",
      "metadata": {
        "colab": {
          "base_uri": "https://localhost:8080/"
        },
        "id": "5m8VAqjXhQK7",
        "outputId": "f79b139c-e6db-4b58-ac28-0a83c031ca05"
      },
      "source": [
        "string1=input(\"Input: \")\n",
        "string2=string1.upper()\n",
        "list1=[]\n",
        "for i in string2:\n",
        "  if (i not in list1):\n",
        "    counter=string2.count(i)\n",
        "    print (counter,i)\n",
        "  list1.append(i)\n"
      ],
      "execution_count": null,
      "outputs": [
        {
          "output_type": "stream",
          "text": [
            "Input: AsAAaaDffFgGgH\n",
            "5 A\n",
            "1 S\n",
            "1 D\n",
            "3 F\n",
            "3 G\n",
            "1 H\n"
          ],
          "name": "stdout"
        }
      ]
    },
    {
      "cell_type": "markdown",
      "metadata": {
        "id": "oBg_1i8BlU15"
      },
      "source": [
        " \n",
        "\n",
        "Task 6 :  \n",
        "\n",
        "Write a Python program to construct the following pattern \n",
        "\n",
        " \n",
        "\n",
        "1  \n",
        "\n",
        "2 3  \n",
        "\n",
        "4 5 6  \n",
        "\n",
        "7 8 9 10  "
      ]
    },
    {
      "cell_type": "code",
      "metadata": {
        "colab": {
          "base_uri": "https://localhost:8080/"
        },
        "id": "mi8GZAXylZTo",
        "outputId": "e1eac6f8-2813-4b9d-f090-67318a16807b"
      },
      "source": [
        "start=1\n",
        "count=1\n",
        "for  i in range(1,5):\n",
        "  for j in range(1,count+1):\n",
        "    print(start,end=\" \")\n",
        "    start+=1\n",
        "  print()\n",
        "  count+=1\n",
        "  "
      ],
      "execution_count": null,
      "outputs": [
        {
          "output_type": "stream",
          "text": [
            "1 \n",
            "2 3 \n",
            "4 5 6 \n",
            "7 8 9 10 \n"
          ],
          "name": "stdout"
        }
      ]
    },
    {
      "cell_type": "markdown",
      "metadata": {
        "id": "Cj4zyJwBuvxy"
      },
      "source": [
        "Task 7: \n",
        "\n",
        "Write a Python program to construct the following pattern \n",
        "\n",
        "*  \n",
        "\n",
        "* *  \n",
        "\n",
        "* * *  \n",
        "\n",
        "* * * *  \n",
        "\n",
        "* * * * *  \n",
        "\n",
        "* * * *  \n",
        "\n",
        "* * *  \n",
        "\n",
        "* *  \n",
        "\n",
        "*  \n",
        "\n",
        " "
      ]
    },
    {
      "cell_type": "code",
      "metadata": {
        "id": "ncsMCXQsu0KV",
        "colab": {
          "base_uri": "https://localhost:8080/"
        },
        "outputId": "d7f5bec9-1792-4d4d-9400-cda113476d6c"
      },
      "source": [
        "start=1\n",
        "count=1\n",
        "for i in range (1,6):\n",
        "  for j in range(1,count+1):\n",
        "    print(\"*\",end=\" \")\n",
        "  count+=1\n",
        "  print()\n",
        "for k in range(1,5):\n",
        "  for l in range(5,start,-1):\n",
        "    print(\"*\",end=\" \")\n",
        "  start+=1\n",
        "  print()\n",
        "  \n",
        "\n",
        "\n"
      ],
      "execution_count": null,
      "outputs": [
        {
          "output_type": "stream",
          "text": [
            "* \n",
            "* * \n",
            "* * * \n",
            "* * * * \n",
            "* * * * * \n",
            "* * * * \n",
            "* * * \n",
            "* * \n",
            "* \n"
          ],
          "name": "stdout"
        }
      ]
    },
    {
      "cell_type": "markdown",
      "metadata": {
        "id": "c9yr4ufwh8p0"
      },
      "source": [
        "Task 8: \n",
        "\n",
        "Write a Python program to construct the following pattern \n",
        "\n",
        " \n",
        "\n",
        " *****    \n",
        "\n",
        " *      \n",
        "\n",
        " *      \n",
        "\n",
        " ****   \n",
        "\n",
        " *      \n",
        "\n",
        " *      \n",
        "\n",
        " *****  "
      ]
    },
    {
      "cell_type": "code",
      "metadata": {
        "id": "Bfu6pDu3iEiB",
        "colab": {
          "base_uri": "https://localhost:8080/"
        },
        "outputId": "a2415c2d-dc19-4f01-9d71-8381fbd67407"
      },
      "source": [
        "for i in range(7):\n",
        "  for j in range(5):\n",
        "    if(i==0 or i==6 or i==3):\n",
        "      if (i==3 and j==3):\n",
        "        continue\n",
        "      print('*', end=\" \")\n",
        "    else:\n",
        "      print (\"*\")\n",
        "      break\n",
        "  print()"
      ],
      "execution_count": null,
      "outputs": [
        {
          "output_type": "stream",
          "text": [
            "* * * * * \n",
            "*\n",
            "\n",
            "*\n",
            "\n",
            "* * * * \n",
            "*\n",
            "\n",
            "*\n",
            "\n",
            "* * * * * \n"
          ],
          "name": "stdout"
        }
      ]
    },
    {
      "cell_type": "markdown",
      "metadata": {
        "id": "XgFoMDLncb3W"
      },
      "source": [
        "Task 9: \n",
        "\n",
        "Write a Python program to construct the following pattern \n",
        "\n",
        " \n",
        "\n",
        "1  \n",
        "\n",
        "3 3  \n",
        "\n",
        "5 5 5  \n",
        "\n",
        "7 7 7 7  \n",
        "\n",
        "9 9 9 9 9 "
      ]
    },
    {
      "cell_type": "code",
      "metadata": {
        "colab": {
          "base_uri": "https://localhost:8080/"
        },
        "id": "X6fdyDvNcfdY",
        "outputId": "34414093-9715-4c5f-ec05-f1334945ece3"
      },
      "source": [
        "count=1\n",
        "for i in range(5):\n",
        "  for j in range(count):\n",
        "    print(i+count,end=\" \")\n",
        "  count+=1\n",
        "  print()"
      ],
      "execution_count": null,
      "outputs": [
        {
          "output_type": "stream",
          "text": [
            "1 \n",
            "3 3 \n",
            "5 5 5 \n",
            "7 7 7 7 \n",
            "9 9 9 9 9 \n"
          ],
          "name": "stdout"
        }
      ]
    },
    {
      "cell_type": "markdown",
      "metadata": {
        "id": "MKQe1AS9dIyW"
      },
      "source": [
        "Task 10: \n",
        "\n",
        "Write a Python program to construct the following pattern \n",
        "\n",
        " \n",
        "\n",
        "  *   \n",
        "\n",
        " ***  \n",
        "\n",
        "***** \n",
        "\n",
        " ***  \n",
        "\n",
        "  * "
      ]
    },
    {
      "cell_type": "code",
      "metadata": {
        "colab": {
          "base_uri": "https://localhost:8080/"
        },
        "id": "HlmOkOqAdM4B",
        "outputId": "fe6d1a1b-3320-498c-9a00-ef123cc97e45"
      },
      "source": [
        "count= 3\n",
        "for i in range(0,count):\n",
        "  print(\" \"*(count-i), \"*\"*(2*i+1))\n",
        "for i in range(count-2,-1,-1): \n",
        "  print(\" \"*(count-i), \"*\"*(2*i+1))"
      ],
      "execution_count": null,
      "outputs": [
        {
          "output_type": "stream",
          "text": [
            "    *\n",
            "   ***\n",
            "  *****\n",
            "   ***\n",
            "    *\n"
          ],
          "name": "stdout"
        }
      ]
    },
    {
      "cell_type": "markdown",
      "metadata": {
        "id": "-oo6bUKInmCr"
      },
      "source": [
        "Task 11:  \n",
        "\n",
        "Write a program to take integers from the user in a list. Removes elements of the list that are the same and retain  \n",
        "\n",
        "Input: ([1,1,2,2]) \n",
        "\n",
        "Expected Output : [1,2]. "
      ]
    },
    {
      "cell_type": "code",
      "metadata": {
        "colab": {
          "base_uri": "https://localhost:8080/"
        },
        "id": "ge2xf-ccnpzm",
        "outputId": "dca9e4b2-d9c9-4ddf-ae92-f01afe4bcb1e"
      },
      "source": [
        "nlist=[]\n",
        "flist=[]\n",
        "pos=0\n",
        "n=int(input(\"ENTER NUMBER OF ELEMENTS IN THE LIST: \"))\n",
        "for i in range(n):\n",
        "  j=int(input('ENTER ELEMENT: '))\n",
        "  nlist.append(j)\n",
        "for k in nlist:\n",
        "  if k not in flist:\n",
        "    flist.append(k)\n",
        "print (flist)"
      ],
      "execution_count": null,
      "outputs": [
        {
          "output_type": "stream",
          "text": [
            "ENTER NUMBER OF ELEMENTS IN THE LIST: 5\n",
            "ENTER ELEMENT: 4\n",
            "ENTER ELEMENT: 1\n",
            "ENTER ELEMENT: 1\n",
            "ENTER ELEMENT: 4\n",
            "ENTER ELEMENT: 1\n",
            "[4, 1]\n"
          ],
          "name": "stdout"
        }
      ]
    }
  ]
}