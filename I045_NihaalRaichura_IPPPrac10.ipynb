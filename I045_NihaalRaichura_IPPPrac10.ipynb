{
  "nbformat": 4,
  "nbformat_minor": 0,
  "metadata": {
    "colab": {
      "name": "I045_NihaalRaichura_IPPPrac10",
      "provenance": []
    },
    "kernelspec": {
      "name": "python3",
      "display_name": "Python 3"
    },
    "language_info": {
      "name": "python"
    }
  },
  "cells": [
    {
      "cell_type": "markdown",
      "metadata": {
        "id": "4L_w7K1V6gYn"
      },
      "source": [
        " \n",
        "\n",
        "Task 1: \n",
        "\n",
        "Write a program to use custom exceptions for signaling users about errors while calculating addition of square roots of 3 numbers. "
      ]
    },
    {
      "cell_type": "code",
      "metadata": {
        "colab": {
          "base_uri": "https://localhost:8080/"
        },
        "id": "UQ33xaiY6dZF",
        "outputId": "e18befa8-fd89-498c-95d8-93b6d058a9b2"
      },
      "source": [
        "class Error(Exception):\n",
        "    pass\n",
        "class Neg(Error):\n",
        "    pass\n",
        "num1, num2, num3= int(input()), int(input()), int(input())\n",
        "try:\n",
        "    if num1< 0 or num2< 0 or num3< 0:\n",
        "        raise Neg\n",
        "    print('SUM:', (num1**0.5 + num2 ** 0.5 + num3 ** 0.5))\n",
        "except Neg:\n",
        "    print(\"ERROR NEGATIVE NUMBER\")"
      ],
      "execution_count": null,
      "outputs": [
        {
          "output_type": "stream",
          "text": [
            "4\n",
            "9\n",
            "25\n",
            "SUM: 10.0\n"
          ],
          "name": "stdout"
        }
      ]
    },
    {
      "cell_type": "markdown",
      "metadata": {
        "id": "nNa5_LT28G5E"
      },
      "source": [
        "Task 2: \n",
        "\n",
        " \n",
        "\n",
        "Design an interactive calculator \n",
        "\n",
        "User input is assumed to be a formula that consists of a number, an operator (at least + and -), and another number, separated by white space (e.g. 1 + 1). Split user input using str.split(), and check whether the resulting list is valid: \n",
        "\n",
        " \n",
        "\n",
        "If the input does not consist of 3 elements, raise a FormulaError, which is a custom Exception. \n",
        "\n",
        "Try to convert the first and third input to a float (like so: float_value = float(str_value)). Catch any ValueError that occurs, and instead raise a FormulaError \n",
        "\n",
        "If the second input is not '+' or '-', again raise a FormulaError \n",
        "\n",
        "If the input is valid, perform the calculation and print out the result. The user is then prompted to provide new input, and so on, until the user enters quit. \n",
        "\n",
        "Example :  \n",
        "\n",
        "calculate(2,\"*\", 5) → 10  \n",
        "\n",
        "calculate(10,\"-\", 5) →5  Task 2: \n",
        "\n",
        " \n",
        "\n",
        "Design an interactive calculator \n",
        "\n",
        "User input is assumed to be a formula that consists of a number, an operator (at least + and -), and another number, separated by white space (e.g. 1 + 1). Split user input using str.split(), and check whether the resulting list is valid: \n",
        "\n",
        " \n",
        "\n",
        "If the input does not consist of 3 elements, raise a FormulaError, which is a custom Exception. \n",
        "\n",
        "Try to convert the first and third input to a float (like so: float_value = float(str_value)). Catch any ValueError that occurs, and instead raise a FormulaError \n",
        "\n",
        "If the second input is not '+' or '-', again raise a FormulaError \n",
        "\n",
        "If the input is valid, perform the calculation and print out the result. The user is then prompted to provide new input, and so on, until the user enters quit. \n",
        "\n",
        "Example :  \n",
        "\n",
        "calculate(2,\"*\", 5) → 10  \n",
        "\n",
        "calculate(10,\"-\", 5) →5  "
      ]
    },
    {
      "cell_type": "code",
      "metadata": {
        "colab": {
          "base_uri": "https://localhost:8080/"
        },
        "id": "lEKkMxY48LGU",
        "outputId": "93b97c1d-e7db-46bc-a9a3-b3990044e0bb"
      },
      "source": [
        "class Error(Exception):\n",
        "    pass\n",
        "class FormulaErr(Error):\n",
        "    pass\n",
        "formula = str(input(\"Enter Formula : \"))\n",
        "if formula.lower()=='quit':\n",
        "    formula= 'Ex + it'\n",
        "Spl = formula.split()\n",
        "\n",
        "try:\n",
        "    if len(Spl)!= 3:\n",
        "        raise ForErr\n",
        "    if Spl[0] != 'Ex':\n",
        "        Spl[0] = float(Spl[0])\n",
        "        Spl[2] = float(Spl[2])\n",
        "    if Spl[1] not in ['+', '-', '*', '/', '%']:\n",
        "        raise ForErr\n",
        "    if Spl[1] == '+':\n",
        "        print('RESULT =', Spl[0] + Spl[2])\n",
        "    elif Spl[1] == '-':\n",
        "        print('RESULT =', Spl[0] - Spl[2])\n",
        "    elif Spl[1] == '*':\n",
        "        print('RESULT =', Spl[0] * Spl[2])\n",
        "    elif Spl[1] == '/':\n",
        "        if Spl[2] == 0:\n",
        "            raise ForErr\n",
        "        print('RESULT =', Spl[0] / Spl[2])\n",
        "    elif Spl[1] == '%':\n",
        "        if Spl[2] == 0:\n",
        "            raise ForErr\n",
        "        print('RESULT =', Spl[0] % Spl[2])\n",
        "except FormulaErr:\n",
        "    print('WRONG FORMULA')"
      ],
      "execution_count": null,
      "outputs": [
        {
          "output_type": "stream",
          "text": [
            "Enter Formula : 5 * 20\n",
            "RESULT = 100.0\n"
          ],
          "name": "stdout"
        }
      ]
    },
    {
      "cell_type": "markdown",
      "metadata": {
        "id": "z74XrKwz8-kc"
      },
      "source": [
        "Task 3:  \n",
        "\n",
        " \n",
        "\n",
        "Create N x N multiplication table, of size n provided in parameter. \n",
        "\n",
        "For example, when n is 5, the multiplication table is: \n",
        "\n",
        "1, 2, 3, 4, 5 \n",
        "\n",
        "2, 4, 6, 8, 10 \n",
        "\n",
        "3, 6, 9, 12, 15 \n",
        "\n",
        "4, 8, 12, 16, 20 \n",
        "\n",
        "5, 10, 15, 20, 25 \n",
        "\n",
        " \n",
        "\n",
        "Examples :   \n",
        "\n",
        "N = 5    [[1, 2, 3, 4, 5], [2, 4, 6, 8, 10], [3, 6, 9, 12, 15], [4, 8, 12, 16, 20], [5, 10, 15, 20, 25]] \n",
        "\n",
        " \n",
        "\n",
        "N = 3    [[1, 2, 3], [2, 4, 6], [3, 6, 9]] \n",
        "\n",
        " "
      ]
    },
    {
      "cell_type": "code",
      "metadata": {
        "colab": {
          "base_uri": "https://localhost:8080/"
        },
        "id": "-2LeJwnm9B4b",
        "outputId": "0ce75e92-675f-498a-cd2f-fc709e88f97c"
      },
      "source": [
        "def mult(n):\n",
        "  lst=[]\n",
        "  for i in range(1,n+1):\n",
        "    lst.append([])\n",
        "    for j in range(1,n+1):\n",
        "      element = i*j\n",
        "      lst[i-1].append(element)\n",
        "  print (lst)\n",
        "n = int(input(\"ENTER THE NUMBER:\"))\n",
        "mult(n)"
      ],
      "execution_count": null,
      "outputs": [
        {
          "output_type": "stream",
          "text": [
            "ENTER THE NUMBER:5\n",
            "[[1, 2, 3, 4, 5], [2, 4, 6, 8, 10], [3, 6, 9, 12, 15], [4, 8, 12, 16, 20], [5, 10, 15, 20, 25]]\n"
          ],
          "name": "stdout"
        }
      ]
    },
    {
      "cell_type": "markdown",
      "metadata": {
        "id": "k2_kmNHD-3BC"
      },
      "source": [
        "Task 4 :  \n",
        "\n",
        "Given an integer, create a function that returns the next prime. If the number is prime, return the number itself. \n",
        "\n",
        "Examples :  \n",
        "\n",
        "prime(12) ➞ 13 \n",
        "\n",
        "prime(24) ➞ 29 \n",
        "\n",
        "prime(11) ➞ 11 "
      ]
    },
    {
      "cell_type": "code",
      "metadata": {
        "colab": {
          "base_uri": "https://localhost:8080/"
        },
        "id": "OHUhecPj-7Ou",
        "outputId": "7959d462-d96b-411e-87a7-640b095df41c"
      },
      "source": [
        "def prime(n):\n",
        "  i = 2\n",
        "  if 0<n <=2:\n",
        "    return n \n",
        "  while n>i:\n",
        "    if n%i==0:\n",
        "      n+=1\n",
        "      i=2\n",
        "    else:\n",
        "      i+=1\n",
        "  return n\n",
        "n= int(input(\"ENTER THE NUMBER:\"))\n",
        "print(prime(n))\n"
      ],
      "execution_count": null,
      "outputs": [
        {
          "output_type": "stream",
          "text": [
            "ENTER THE NUMBER:32\n",
            "37\n"
          ],
          "name": "stdout"
        }
      ]
    },
    {
      "cell_type": "markdown",
      "metadata": {
        "id": "3HaX5CXgC7eX"
      },
      "source": [
        "Task 5 :  \n",
        "\n",
        "You work in a factory, and your job is to take items from a conveyor belt and pack them into boxes. Each box can hold a maximum of 10 kgs. Given a list containing the weight (in kg) of each item, how many boxes would you need to pack all of the items? \n",
        "\n",
        "Examples : \n",
        "\n",
        "boxes([2, 0, 2, 5, 4, 1, 2, 1, 1, 9, 3]) → 4 boxes \n",
        "\n",
        "boxes([2, 0, 2, 5, 4, 1, 2])→ 2 boxes "
      ]
    },
    {
      "cell_type": "code",
      "metadata": {
        "colab": {
          "base_uri": "https://localhost:8080/"
        },
        "id": "jxv1oOLLDAqg",
        "outputId": "02527864-7e4b-4000-8c75-1af5ca92d068"
      },
      "source": [
        "def box(lst):\n",
        "  sum = 0\n",
        "  for i in lst:\n",
        "    sum+= i\n",
        "  n = (sum//10)+1\n",
        "  return n \n",
        "weights=[]\n",
        "len = int(input('ENTER THE NUMBER OF ITEMS:'))\n",
        "print(\"ENTER THE WEIGHTS:\")\n",
        "for i in range(0,len):\n",
        "  int(input(weights.append(i)))\n",
        "print(\"NUMBER OF BOXES:\",box(weights) )"
      ],
      "execution_count": null,
      "outputs": [
        {
          "output_type": "stream",
          "text": [
            "ENTER THE NUMBER OF ITEMS:8\n",
            "ENTER THE WEIGHTS:\n",
            "9\n",
            "0\n",
            "4\n",
            "6\n",
            "0\n",
            "1\n",
            "4\n",
            "3\n",
            "NUMBER OF BOXES: 3\n"
          ],
          "name": "stdout"
        }
      ]
    }
  ]
}