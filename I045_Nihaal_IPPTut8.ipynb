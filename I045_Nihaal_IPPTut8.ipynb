{
  "nbformat": 4,
  "nbformat_minor": 0,
  "metadata": {
    "colab": {
      "name": "I045_Nihaal_IPPTut8",
      "provenance": []
    },
    "kernelspec": {
      "name": "python3",
      "display_name": "Python 3"
    },
    "language_info": {
      "name": "python"
    }
  },
  "cells": [
    {
      "cell_type": "markdown",
      "metadata": {
        "id": "ruJhnvUrujPw"
      },
      "source": [
        "Task 1: \n",
        "\n",
        "Given dictionary items: \n",
        "\n",
        "inventory = { \n",
        "\n",
        "    'gold' : 500, \n",
        "\n",
        "    'pouch' : ['flint', 'twine', 'gemstone'], \n",
        "\n",
        "    'backpack' : ['xylophone','dagger', 'bedroll','bread loaf'] \n",
        "\n",
        "} \n",
        "\n",
        " \n",
        "\n",
        "Perform Following tasks: \n",
        "\n",
        "Add a key to inventory called 'pocket'. \n",
        "\n",
        "Set the value of 'pocket' to be a list consisting of the strings 'seashell', 'strange berry', and 'lint'. \n",
        "\n",
        "Sort items in the list stored under the 'backpack' key. \n",
        "\n",
        "Remove('dagger') from the list of items stored under the 'backpack' key. \n",
        "\n",
        " "
      ]
    },
    {
      "cell_type": "code",
      "metadata": {
        "colab": {
          "base_uri": "https://localhost:8080/"
        },
        "id": "ezhp0bept4Dv",
        "outputId": "db1d5736-4f80-4a90-93b9-ace515f7d838"
      },
      "source": [
        "inv = {'gold' : 500,\n",
        "    'pouch' : ['flint', 'twine', 'gemstone'],\n",
        "    'backpack' : ['xylophone','dagger', 'bedroll','bread loaf']}\n",
        "\n",
        "inv.update({'pocket':['seashell', 'strange berry','lint']})\n",
        "print(inv)\n",
        "a = inv['backpack']\n",
        "a.sort()\n",
        "inv['backpack'] = a\n",
        "print(inv)\n",
        "a.remove('dagger')\n",
        "inv['backpack'] = a\n",
        "print(inv)\n",
        "\n",
        "\n",
        "\n"
      ],
      "execution_count": null,
      "outputs": [
        {
          "output_type": "stream",
          "text": [
            "{'gold': 500, 'pouch': ['flint', 'twine', 'gemstone'], 'backpack': ['xylophone', 'dagger', 'bedroll', 'bread loaf'], 'pocket': ['seashell', 'strange berry', 'lint']}\n",
            "{'gold': 500, 'pouch': ['flint', 'twine', 'gemstone'], 'backpack': ['bedroll', 'bread loaf', 'dagger', 'xylophone'], 'pocket': ['seashell', 'strange berry', 'lint']}\n",
            "{'gold': 500, 'pouch': ['flint', 'twine', 'gemstone'], 'backpack': ['bedroll', 'bread loaf', 'xylophone'], 'pocket': ['seashell', 'strange berry', 'lint']}\n"
          ],
          "name": "stdout"
        }
      ]
    },
    {
      "cell_type": "markdown",
      "metadata": {
        "id": "55JKE_yL46oJ"
      },
      "source": [
        "\n",
        "Task 2: \n",
        "\n",
        "Create a new dictionary called prices using these values. \n",
        "\n",
        "\"Banana\": 45 \n",
        "\n",
        "\"Apple\": 200 \n",
        "\n",
        "\"Orange\": 150 \n",
        "\n",
        "\"Pear\": 120 \n",
        "\n",
        " \n",
        "\n",
        "Create a new dictionary called stock using these values. \n",
        "\n",
        "\"Banana\"= 6 \n",
        "\n",
        "\"Apple\"= 0 \n",
        "\n",
        "\"Orange\" =32 \n",
        "\n",
        "\"Pear\"= 15 \n",
        "\n",
        " \n",
        "\n",
        " \n",
        "\n",
        "For each key, print out the key along with its price and stock information.  \n",
        "\n",
        "Print the answer in the following format: \n",
        "\n",
        "apple \n",
        "\n",
        "price: 2 \n",
        "\n",
        "stock: 0 \n",
        "\n",
        " \n",
        "\n",
        " \n",
        "\n",
        "Determine how much money you would make if you sold all of your food. \n",
        "\n",
        "Create a variable called total and set it to zero. \n",
        "\n",
        "For each key in prices, multiply the number in prices by the number in stock. And find the total. "
      ]
    },
    {
      "cell_type": "code",
      "metadata": {
        "colab": {
          "base_uri": "https://localhost:8080/"
        },
        "id": "tbg0QQE447xa",
        "outputId": "e50ddca4-d153-4576-bbae-f3c17e92a09c"
      },
      "source": [
        "prices = {\"Banana\": 45,\n",
        "          \"Apple\": 200,\n",
        "          \"Orange\": 150,\n",
        "          \"Pear\": 120   }\n",
        "    \n",
        "stock = {\"Banana\": 6,\n",
        "         \"Apple\":0,\n",
        "         \"Orange\":32,\n",
        "         \"Pear\": 15    }\n",
        "\n",
        "total = 0\n",
        "for i in prices.keys():\n",
        "  for j in stock.keys():\n",
        "    if i == j:\n",
        "      print(i)\n",
        "      p = prices.get(i)\n",
        "      s = stock.get(i)\n",
        "      print(\"Price: \", p)\n",
        "      print(\"Stock: \", s)\n",
        "\n",
        "      total += p*s\n",
        "      \n",
        "print(\"The total is: \", total)\n"
      ],
      "execution_count": null,
      "outputs": [
        {
          "output_type": "stream",
          "text": [
            "Banana\n",
            "Price:  45\n",
            "Stock:  6\n",
            "Apple\n",
            "Price:  200\n",
            "Stock:  0\n",
            "Orange\n",
            "Price:  150\n",
            "Stock:  32\n",
            "Pear\n",
            "Price:  120\n",
            "Stock:  15\n",
            "The total is:  6870\n"
          ],
          "name": "stdout"
        }
      ]
    },
    {
      "cell_type": "markdown",
      "metadata": {
        "id": "c4NHmosq-knF"
      },
      "source": [
        "Task 3:  \n",
        "\n",
        "Create three dictionaries: lloyd, alice, and ritchie. \n",
        "\n",
        "Give each dictionary the keys \"name\", \"homework\", \"quizzes\", and \"tests\". \n",
        "\n",
        "Have the \"name\" key be the name of the student (that is, lloyd's name should be \"Lloyd\")  \n",
        "\n",
        "Example :  lloyd = { \n",
        "\n",
        "  \"name\": \"Lloyd\", \n",
        "\n",
        "  \"homework\": [90.0,97.0,75.0,92.0], \n",
        "\n",
        "  \"quizzes\": [88.0,40.0,94.0], \n",
        "\n",
        "  \"tests\": [75.0,90.0] \n",
        "\n",
        "} \n",
        "\n",
        "3.1. Write a function average that takes a list of numbers and returns the average. \n",
        "\n",
        "Define a function called average that has one argument, numbers. \n",
        "\n",
        "Inside that function, call the built-in sum() function with the numbers list as a parameter. Store the result in a variable called total. \n",
        "\n",
        "Use float() to convert total and store the result in total. \n",
        "\n",
        "Divide total by the length of the numbers list. Use the built-in len() function to calculate that.Return that result. \n",
        "\n",
        " \n",
        "\n",
        "3.2. Write a function called get_average that takes a student dictionary (like  lloyd, alice, and ritchie) as input and returns his/her weighted average. \n",
        "\n",
        " \n",
        "\n",
        "3.3. Define a new function called get_letter_grade that has one argument called score.  \n",
        "\n",
        "Inside function, test score using a chain of if: / elif: / else: statements, like so: \n",
        "\n",
        "If score is 250 or above: return \"A\" \n",
        "\n",
        "Else if score is 200 or above: return \"B\" \n",
        "\n",
        "Else if score is 150 or above: return \"C\" \n",
        "\n",
        "Else if score is 100 or above: return \"D\" \n",
        "\n",
        "Otherwise: return \"F\" \n",
        "\n",
        "Finally, test your function. Call your get_letter_grade function with the result of get_average(lloyd). Print the resulting letter grade. "
      ]
    },
    {
      "cell_type": "code",
      "metadata": {
        "id": "5uzttq_R-nqU",
        "colab": {
          "base_uri": "https://localhost:8080/"
        },
        "outputId": "3b87ba29-8b07-4aae-86de-1e61dcb9cdb7"
      },
      "source": [
        "def average(num):\n",
        "  total = float(sum(num))\n",
        "  l = len(num)\n",
        "  avg = total/l\n",
        "  return avg\n",
        "  \n",
        "def get_average(student):\n",
        "  sum = 0\n",
        "  for i in student.keys():\n",
        "    sum += average(student.get(i))\n",
        "  return sum\n",
        "\n",
        "def get_letter_grade(score):\n",
        "  if score >= 250:\n",
        "    return \"A\"\n",
        "  elif score >= 200:\n",
        "    return \"B\"\n",
        "  elif score >= 150:\n",
        "    return \"C\"\n",
        "  elif score >= 100:\n",
        "    return \"D\"\n",
        "  else:\n",
        "    return \"F\"\n",
        "   \n",
        "\n",
        "lloyd = {\n",
        "  \"homework\": [90.0,97.0,75.0,92.0],\n",
        "  \"quizzes\": [88.0,40.0,94.0],\n",
        "  \"tests\": [90.0,90.0]\n",
        "}\n",
        "\n",
        "alice = {\n",
        "  \"homework\": [94.0,91.0,79.0,82.0],\n",
        "  \"quizzes\": [78.0,50.0,64.0],\n",
        "  \"tests\": [85.0,95.0]\n",
        "}\n",
        "\n",
        "richtie = {\n",
        "  \"homework\": [80.0,77.0,75.0,62.0],\n",
        "  \"quizzes\": [68.0,60.0,54.0],\n",
        "  \"tests\": [65.0,60.0]\n",
        "}\n",
        "\n",
        "\n",
        "print(\"LLOYD'S GRADE: \", get_letter_grade(get_average(lloyd)))\n",
        "print(\"ALICE'S GRADE: \", get_letter_grade(get_average(alice)))\n",
        "print(\"RITCHIE'S GRADE: \", get_letter_grade(get_average(richtie)))\n",
        "\n"
      ],
      "execution_count": null,
      "outputs": [
        {
          "output_type": "stream",
          "text": [
            "LLOYD'S GRADE:  A\n",
            "ALICE'S GRADE:  B\n",
            "RITCHIE'S GRADE:  C\n"
          ],
          "name": "stdout"
        }
      ]
    },
    {
      "cell_type": "markdown",
      "metadata": {
        "id": "7kASM2KDRf1P"
      },
      "source": [
        "Task 4:   \n",
        "\n",
        "Write a Python program to remove duplicates from the following dictionary \n",
        "\n",
        "Example :  \n",
        "\n",
        "Input: {'a': 'apple', 'b': 'banana', 'c': 'coconut', 'd': 'dragonfruit', 'e': 'apple', 'f': 'banana', 'g': 'guava'} \n",
        "\n",
        "Output:{'a': 'apple', 'b': 'banana', 'c': 'coconut', 'd': 'dragonfruit', 'g': 'guava'} "
      ]
    },
    {
      "cell_type": "code",
      "metadata": {
        "colab": {
          "base_uri": "https://localhost:8080/"
        },
        "id": "DT5cNgU3RhSW",
        "outputId": "d67f0546-ee25-4dfe-ae3c-329f2cbe5ada"
      },
      "source": [
        "s1 = {'a': 'apple', 'b': 'banana', 'c': 'coconut', \n",
        "     'd': 'dragonfruit', 'e': 'apple', 'f': 'banana', \n",
        "     'g': 'guava'}\n",
        "\n",
        "r1 = {}\n",
        "\n",
        "for key,value in s1.items():\n",
        "    if value not in r1.values():\n",
        "        result[key] = value\n",
        "\n",
        "\n",
        "print(\"Input: \", s1)\n",
        "print(\"Output: \", r1)"
      ],
      "execution_count": null,
      "outputs": [
        {
          "output_type": "stream",
          "text": [
            "Input:  {'a': 'apple', 'b': 'banana', 'c': 'coconut', 'd': 'dragonfruit', 'e': 'apple', 'f': 'banana', 'g': 'guava'}\n",
            "Output:  {'a': 'apple', 'b': 'banana', 'c': 'coconut', 'd': 'dragonfruit', 'g': 'guava'}\n"
          ],
          "name": "stdout"
        }
      ]
    },
    {
      "cell_type": "markdown",
      "metadata": {
        "id": "0Tsbuf13SIfW"
      },
      "source": [
        "Task 5 :  \n",
        "\n",
        "Write a Python program to combine and create a dictionary from two other dictionaries by  adding their values for common keys. \n",
        "\n",
        "Example :  \n",
        "\n",
        "Input: \n",
        "\n",
        "D1 = {'apple': 1800, 'banana': 2500, 'coconut': 4300} \n",
        "\n",
        "D2 = {'apple': 3000, 'banana': 2000, 'grapes': 4000} \n",
        "\n",
        "Output:  \n",
        "\n",
        "{'apple': 4800, 'banana': 4500, 'coconut': 4300, 'grapes': 4000} "
      ]
    },
    {
      "cell_type": "code",
      "metadata": {
        "colab": {
          "base_uri": "https://localhost:8080/"
        },
        "id": "sdO4l-4wSKOu",
        "outputId": "1701e5f1-62a6-4b87-91d6-891eadfe4ce3"
      },
      "source": [
        "from collections import Counter\n",
        "\n",
        "s1 = {'apple': 1800, 'banana': 2500, 'coconut': 4300}\n",
        "s2 = {'apple': 3000, 'banana': 2000, 'grapes': 4000}\n",
        "\n",
        "s3 = Counter(s1) + Counter(s2)\n",
        "\n",
        "print(\"Input: \",s1)\n",
        "print(\"       \",s2)\n",
        "print(\"Output: \", s3)"
      ],
      "execution_count": null,
      "outputs": [
        {
          "output_type": "stream",
          "text": [
            "Input:  {'apple': 1800, 'banana': 2500, 'coconut': 4300}\n",
            "        {'apple': 3000, 'banana': 2000, 'grapes': 4000}\n",
            "Output:  Counter({'apple': 4800, 'banana': 4500, 'coconut': 4300, 'grapes': 4000})\n"
          ],
          "name": "stdout"
        }
      ]
    },
    {
      "cell_type": "markdown",
      "metadata": {
        "id": "wDoiXg9GVYYj"
      },
      "source": [
        "Task 6 :  \n",
        "\n",
        "Write a Python program to create a dictionary from a string. \n",
        "\n",
        "Input: \n",
        "\n",
        "string: Programming \n",
        "\n",
        "Output:  \n",
        "\n",
        "{'P': 1, 'r': 2, 'o': 1, 'g': 2, 'a': 1, 'm': 2, 'i': 1, 'n': 1} "
      ]
    },
    {
      "cell_type": "code",
      "metadata": {
        "id": "uau8mGszVZqI",
        "colab": {
          "base_uri": "https://localhost:8080/"
        },
        "outputId": "e28ce351-4df3-4eaa-ed33-16d7def5d2d2"
      },
      "source": [
        "s = \"Programming\"\n",
        "d = {}\n",
        "\n",
        "for i in s:\n",
        "  d[i] = d.get(i, 0) + 1\n",
        "\n",
        "print(d)\n"
      ],
      "execution_count": null,
      "outputs": [
        {
          "output_type": "stream",
          "text": [
            "{'P': 1, 'r': 2, 'o': 1, 'g': 2, 'a': 1, 'm': 2, 'i': 1, 'n': 1}\n"
          ],
          "name": "stdout"
        }
      ]
    },
    {
      "cell_type": "markdown",
      "metadata": {
        "id": "v7tEoorGjc7o"
      },
      "source": [
        "Task 7: \n",
        "\n",
        "Write a program to input your friends names and their Phone Numbers and store them in the dictionary as the key-value pair. (take 5 key value pair) \n",
        "\n",
        "Perform the following operations on the dictionary: \n",
        "\n",
        "a) Display the name and phone number of all your friends \n",
        "\n",
        "b) Add a new key-value pair in this dictionary and display the modified dictionary \n",
        "\n",
        "c) Delete a particular friend from the dictionary \n",
        "\n",
        "d) Modify the phone number of an existing friend \n",
        "\n",
        "e) Check if a friend is present in the dictionary or not \n",
        "\n",
        "f) Display the dictionary in sorted order of names "
      ]
    },
    {
      "cell_type": "code",
      "metadata": {
        "colab": {
          "base_uri": "https://localhost:8080/"
        },
        "id": "1eOa1VLfjeTX",
        "outputId": "89a9da05-2dde-40e8-c9ab-3f0f763beabe"
      },
      "source": [
        "phone_book = {'G':9378729742, 'B':8487589072, 'E': 9737291373, \n",
        "              'X': 7877333821, 'M': 9011233493}\n",
        "print(phone_book)\n",
        "\n",
        "phone_book.update({'A': 7743337752})\n",
        "print(phone_book)\n",
        "\n",
        "del phone_book['M']\n",
        "print(phone_book)\n",
        "\n",
        "phone_book.update({'G':9999899991})\n",
        "print(phone_book)\n",
        "\n",
        "c = input(\"Enter a friend's name to check for presence in phonebook: \")\n",
        "if c in phone_book.keys():\n",
        "  print(\"{} is present in the phonebook\".format(c))\n",
        "else:\n",
        "  print(\"{} is not present in the phonebook\".format(c))\n",
        "\n",
        "print(dict(sorted(phone_book.items())))\n"
      ],
      "execution_count": null,
      "outputs": [
        {
          "output_type": "stream",
          "text": [
            "{'G': 9378729742, 'B': 8487589072, 'E': 9737291373, 'X': 7877333821, 'M': 9011233493}\n",
            "{'G': 9378729742, 'B': 8487589072, 'E': 9737291373, 'X': 7877333821, 'M': 9011233493, 'A': 7743337752}\n",
            "{'G': 9378729742, 'B': 8487589072, 'E': 9737291373, 'X': 7877333821, 'A': 7743337752}\n",
            "{'G': 9999899991, 'B': 8487589072, 'E': 9737291373, 'X': 7877333821, 'A': 7743337752}\n",
            "Enter a friend's name to check for presence in phonebook: A\n",
            "A is present in the phonebook\n",
            "{'A': 7743337752, 'B': 8487589072, 'E': 9737291373, 'G': 9999899991, 'X': 7877333821}\n"
          ],
          "name": "stdout"
        }
      ]
    },
    {
      "cell_type": "markdown",
      "metadata": {
        "id": "xlzQxyPrUbKt"
      },
      "source": [
        "Task 8: \n",
        "\n",
        "Write a Python Program to Create a Dictionary with Key as First Character and Value as Words Starting with that Character. \n",
        "\n",
        "Example: \n",
        "\n",
        "Input: \n",
        "\n",
        "string: i love grapes guava watermelon pineapple pear mango \n",
        "\n",
        "Output:  \n",
        "\n",
        "{'i': ['i'], 'l': ['love'], 'g': ['grapes', 'guava'], 'w': ['watermelon'], 'p': ['pineapple', 'pear'], 'm': ['mango']} \n",
        "\n",
        " "
      ]
    },
    {
      "cell_type": "code",
      "metadata": {
        "colab": {
          "base_uri": "https://localhost:8080/"
        },
        "id": "KLaD9zB8UdQ5",
        "outputId": "536e9d58-e36e-4919-f1d4-f0994f68f682"
      },
      "source": [
        "s = \"i love grapes guava watermelon pineapple pear mango\"\n",
        "\n",
        "words = s.split()\n",
        "\n",
        "d = {}\n",
        "\n",
        "for word in words:\n",
        "\tif (word[0] not in d.keys()):\n",
        "\t\td[word[0]] = []\n",
        "\t\td[word[0]].append(word)\n",
        "\telse:\n",
        "\t\tif (word not in d[word[0]]):\n",
        "\t\t\td[word[0]].append(word)\n",
        "\n",
        "print(\"Input: \",s)\n",
        "print(\"Output: \",d)\n"
      ],
      "execution_count": null,
      "outputs": [
        {
          "output_type": "stream",
          "text": [
            "Input:  i love grapes guava watermelon pineapple pear mango\n",
            "Output:  {'i': ['i'], 'l': ['love'], 'g': ['grapes', 'guava'], 'w': ['watermelon'], 'p': ['pineapple', 'pear'], 'm': ['mango']}\n"
          ],
          "name": "stdout"
        }
      ]
    },
    {
      "cell_type": "markdown",
      "metadata": {
        "id": "oNkKtdNeX9xR"
      },
      "source": [
        "Task 9: \n",
        "\n",
        "List of participants in events A and B \n",
        "\n",
        "A → John, Olive,Alfie,Oscar,Ella,William,Harry. \n",
        "\n",
        "B → Edward, Julia, Robert, Olive,Alfie,Ella. \n",
        "\n",
        "Find out which members attended both events. \n",
        "\n",
        "Find out which members attended only one of the events. \n",
        "\n",
        "Find out which members attended only one event and not the other. \n",
        "\n",
        "Receive a list of all participants "
      ]
    },
    {
      "cell_type": "code",
      "metadata": {
        "colab": {
          "base_uri": "https://localhost:8080/"
        },
        "id": "3kiLhE1eX_oY",
        "outputId": "3852b231-2eb2-44af-8326-89947be499ea"
      },
      "source": [
        "events = {'A':['John', 'Olive','Alfie','Oscar','Ella','William','Harry'], \n",
        "          'B': ['Edward', 'Julia', 'Robert', 'Olive','Alfie','Ella']}\n",
        "\n",
        "same = []\n",
        "a = events.get('A')\n",
        "b = events.get('B')\n",
        "\n",
        "for i in a:\n",
        "  for j in b:\n",
        "    if i in j:\n",
        "      same.append(i)\n",
        "        \n",
        "for i in same:\n",
        "  if i in a:\n",
        "    a.remove(i) \n",
        "  if i in b:\n",
        "    b.remove(i)\n",
        "\n",
        "\n",
        "print(\"Attended both events: \", same)\n",
        "print(\"Attended only one events: \", a + b)\n",
        "print(\"All the participants are: \", same + a + b)\n"
      ],
      "execution_count": null,
      "outputs": [
        {
          "output_type": "stream",
          "text": [
            "Attended both events:  ['Olive', 'Alfie', 'Ella']\n",
            "Attended only one events:  ['John', 'Oscar', 'William', 'Harry', 'Edward', 'Julia', 'Robert']\n",
            "All the participants are:  ['Olive', 'Alfie', 'Ella', 'John', 'Oscar', 'William', 'Harry', 'Edward', 'Julia', 'Robert']\n"
          ],
          "name": "stdout"
        }
      ]
    },
    {
      "cell_type": "markdown",
      "metadata": {
        "id": "nWhacEQGfj4v"
      },
      "source": [
        "Task 10: \n",
        "\n",
        "S1 = {'purple', 'red', 'blue', 'black',pink,’yellow’,’orange’,’white’} \n",
        "\n",
        "S2= {'yellow', 'orange', 'black',’purple’,’pink’,’brown’} \n",
        "\n",
        "S3 ={'pink', 'purple',’orange’} \n",
        "\n",
        "10.1 Write a Python Program to Check if a set is a subset of another set. \n",
        "\n",
        "10.2 Write a Python program to  Check if sets are superset of each other. "
      ]
    },
    {
      "cell_type": "code",
      "metadata": {
        "colab": {
          "base_uri": "https://localhost:8080/"
        },
        "id": "dJO72sUkfsW6",
        "outputId": "a44c3bb3-74dd-498c-e170-bc3d5c09e583"
      },
      "source": [
        "S1 = {'purple', 'red', 'blue', 'black','pink','yellow','orange','white'}\n",
        "S2= {'yellow', 'orange', 'black','purple','pink', 'brown'}\n",
        "S3 ={'pink', 'purple','orange'}\n",
        "\n",
        "#10.1\n",
        "print(\"S1 is subset of S2: \",S1.issubset(S2))\n",
        "print(\"S1 is subset of S3: \",S1.issubset(S3))\n",
        "print(\"S2 is subset of S3: \",S2.issubset(S3))\n",
        "print(\"S2 is subset of S1: \",S2.issubset(S1))\n",
        "print(\"S3 is subset of S2: \",S3.issubset(S2))\n",
        "print(\"S3 is subset of S1: \",S3.issubset(S1))\n",
        "print()\n",
        "#10.2\n",
        "print(\"S1 is superset of S2: \",S1.issuperset(S2))\n",
        "print(\"S1 is superset of S3: \",S1.issuperset(S3))\n",
        "print(\"S2 is superset of S1: \",S2.issuperset(S1))\n",
        "print(\"S2 is superset of S3: \",S2.issuperset(S3))\n",
        "print(\"S3 is superset of S1: \",S3.issuperset(S1))\n",
        "print(\"S3 is superset of S2: \",S3.issuperset(S2))\n"
      ],
      "execution_count": null,
      "outputs": [
        {
          "output_type": "stream",
          "text": [
            "S1 is subset of S2:  False\n",
            "S1 is subset of S3:  False\n",
            "S2 is subset of S3:  False\n",
            "S2 is subset of S1:  False\n",
            "S3 is subset of S2:  True\n",
            "S3 is subset of S1:  True\n",
            "\n",
            "S1 is superset of S2:  False\n",
            "S1 is superset of S3:  True\n",
            "S2 is superset of S1:  False\n",
            "S2 is superset of S3:  True\n",
            "S3 is superset of S1:  False\n",
            "S3 is superset of S2:  False\n"
          ],
          "name": "stdout"
        }
      ]
    }
  ]
}